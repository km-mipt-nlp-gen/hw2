{
  "cells": [
    {
      "cell_type": "markdown",
      "source": [
        "# Подготовка окружения"
      ],
      "metadata": {
        "id": "H7oG_dTWfllX"
      },
      "id": "H7oG_dTWfllX"
    },
    {
      "cell_type": "markdown",
      "source": [
        "## Установка пакетов и импорт зависимостей"
      ],
      "metadata": {
        "id": "4JQkfTdQoxQK"
      },
      "id": "4JQkfTdQoxQK"
    },
    {
      "cell_type": "code",
      "source": [
        "!pip install datasets\n",
        "!pip install pandas\n",
        "!pip install faiss-gpu\n",
        "!pip install faiss-cpu\n",
        "!pip install flask\n",
        "!pip install pyngrok\n",
        "!pip install pytest\n",
        "!pip install plotly\n",
        "!pip install optuna"
      ],
      "metadata": {
        "colab": {
          "base_uri": "https://localhost:8080/"
        },
        "id": "eqTb75Y-2qUS",
        "outputId": "369c8460-1f77-4fcc-f421-80871163a330"
      },
      "id": "eqTb75Y-2qUS",
      "execution_count": 2,
      "outputs": [
        {
          "output_type": "stream",
          "name": "stdout",
          "text": [
            "Requirement already satisfied: datasets in /usr/local/lib/python3.10/dist-packages (2.17.1)\n",
            "Requirement already satisfied: filelock in /usr/local/lib/python3.10/dist-packages (from datasets) (3.13.1)\n",
            "Requirement already satisfied: numpy>=1.17 in /usr/local/lib/python3.10/dist-packages (from datasets) (1.25.2)\n",
            "Requirement already satisfied: pyarrow>=12.0.0 in /usr/local/lib/python3.10/dist-packages (from datasets) (14.0.2)\n",
            "Requirement already satisfied: pyarrow-hotfix in /usr/local/lib/python3.10/dist-packages (from datasets) (0.6)\n",
            "Requirement already satisfied: dill<0.3.9,>=0.3.0 in /usr/local/lib/python3.10/dist-packages (from datasets) (0.3.8)\n",
            "Requirement already satisfied: pandas in /usr/local/lib/python3.10/dist-packages (from datasets) (1.5.3)\n",
            "Requirement already satisfied: requests>=2.19.0 in /usr/local/lib/python3.10/dist-packages (from datasets) (2.31.0)\n",
            "Requirement already satisfied: tqdm>=4.62.1 in /usr/local/lib/python3.10/dist-packages (from datasets) (4.66.2)\n",
            "Requirement already satisfied: xxhash in /usr/local/lib/python3.10/dist-packages (from datasets) (3.4.1)\n",
            "Requirement already satisfied: multiprocess in /usr/local/lib/python3.10/dist-packages (from datasets) (0.70.16)\n",
            "Requirement already satisfied: fsspec[http]<=2023.10.0,>=2023.1.0 in /usr/local/lib/python3.10/dist-packages (from datasets) (2023.6.0)\n",
            "Requirement already satisfied: aiohttp in /usr/local/lib/python3.10/dist-packages (from datasets) (3.9.3)\n",
            "Requirement already satisfied: huggingface-hub>=0.19.4 in /usr/local/lib/python3.10/dist-packages (from datasets) (0.20.3)\n",
            "Requirement already satisfied: packaging in /usr/local/lib/python3.10/dist-packages (from datasets) (23.2)\n",
            "Requirement already satisfied: pyyaml>=5.1 in /usr/local/lib/python3.10/dist-packages (from datasets) (6.0.1)\n",
            "Requirement already satisfied: aiosignal>=1.1.2 in /usr/local/lib/python3.10/dist-packages (from aiohttp->datasets) (1.3.1)\n",
            "Requirement already satisfied: attrs>=17.3.0 in /usr/local/lib/python3.10/dist-packages (from aiohttp->datasets) (23.2.0)\n",
            "Requirement already satisfied: frozenlist>=1.1.1 in /usr/local/lib/python3.10/dist-packages (from aiohttp->datasets) (1.4.1)\n",
            "Requirement already satisfied: multidict<7.0,>=4.5 in /usr/local/lib/python3.10/dist-packages (from aiohttp->datasets) (6.0.5)\n",
            "Requirement already satisfied: yarl<2.0,>=1.0 in /usr/local/lib/python3.10/dist-packages (from aiohttp->datasets) (1.9.4)\n",
            "Requirement already satisfied: async-timeout<5.0,>=4.0 in /usr/local/lib/python3.10/dist-packages (from aiohttp->datasets) (4.0.3)\n",
            "Requirement already satisfied: typing-extensions>=3.7.4.3 in /usr/local/lib/python3.10/dist-packages (from huggingface-hub>=0.19.4->datasets) (4.9.0)\n",
            "Requirement already satisfied: charset-normalizer<4,>=2 in /usr/local/lib/python3.10/dist-packages (from requests>=2.19.0->datasets) (3.3.2)\n",
            "Requirement already satisfied: idna<4,>=2.5 in /usr/local/lib/python3.10/dist-packages (from requests>=2.19.0->datasets) (3.6)\n",
            "Requirement already satisfied: urllib3<3,>=1.21.1 in /usr/local/lib/python3.10/dist-packages (from requests>=2.19.0->datasets) (2.0.7)\n",
            "Requirement already satisfied: certifi>=2017.4.17 in /usr/local/lib/python3.10/dist-packages (from requests>=2.19.0->datasets) (2024.2.2)\n",
            "Requirement already satisfied: python-dateutil>=2.8.1 in /usr/local/lib/python3.10/dist-packages (from pandas->datasets) (2.8.2)\n",
            "Requirement already satisfied: pytz>=2020.1 in /usr/local/lib/python3.10/dist-packages (from pandas->datasets) (2023.4)\n",
            "Requirement already satisfied: six>=1.5 in /usr/local/lib/python3.10/dist-packages (from python-dateutil>=2.8.1->pandas->datasets) (1.16.0)\n",
            "Requirement already satisfied: pandas in /usr/local/lib/python3.10/dist-packages (1.5.3)\n",
            "Requirement already satisfied: python-dateutil>=2.8.1 in /usr/local/lib/python3.10/dist-packages (from pandas) (2.8.2)\n",
            "Requirement already satisfied: pytz>=2020.1 in /usr/local/lib/python3.10/dist-packages (from pandas) (2023.4)\n",
            "Requirement already satisfied: numpy>=1.21.0 in /usr/local/lib/python3.10/dist-packages (from pandas) (1.25.2)\n",
            "Requirement already satisfied: six>=1.5 in /usr/local/lib/python3.10/dist-packages (from python-dateutil>=2.8.1->pandas) (1.16.0)\n",
            "Requirement already satisfied: faiss-gpu in /usr/local/lib/python3.10/dist-packages (1.7.2)\n",
            "Requirement already satisfied: faiss-cpu in /usr/local/lib/python3.10/dist-packages (1.7.4)\n",
            "Requirement already satisfied: flask in /usr/local/lib/python3.10/dist-packages (2.2.5)\n",
            "Requirement already satisfied: Werkzeug>=2.2.2 in /usr/local/lib/python3.10/dist-packages (from flask) (3.0.1)\n",
            "Requirement already satisfied: Jinja2>=3.0 in /usr/local/lib/python3.10/dist-packages (from flask) (3.1.3)\n",
            "Requirement already satisfied: itsdangerous>=2.0 in /usr/local/lib/python3.10/dist-packages (from flask) (2.1.2)\n",
            "Requirement already satisfied: click>=8.0 in /usr/local/lib/python3.10/dist-packages (from flask) (8.1.7)\n",
            "Requirement already satisfied: MarkupSafe>=2.0 in /usr/local/lib/python3.10/dist-packages (from Jinja2>=3.0->flask) (2.1.5)\n",
            "Requirement already satisfied: pyngrok in /usr/local/lib/python3.10/dist-packages (7.1.2)\n",
            "Requirement already satisfied: PyYAML>=5.1 in /usr/local/lib/python3.10/dist-packages (from pyngrok) (6.0.1)\n",
            "Requirement already satisfied: pytest in /usr/local/lib/python3.10/dist-packages (7.4.4)\n",
            "Requirement already satisfied: iniconfig in /usr/local/lib/python3.10/dist-packages (from pytest) (2.0.0)\n",
            "Requirement already satisfied: packaging in /usr/local/lib/python3.10/dist-packages (from pytest) (23.2)\n",
            "Requirement already satisfied: pluggy<2.0,>=0.12 in /usr/local/lib/python3.10/dist-packages (from pytest) (1.4.0)\n",
            "Requirement already satisfied: exceptiongroup>=1.0.0rc8 in /usr/local/lib/python3.10/dist-packages (from pytest) (1.2.0)\n",
            "Requirement already satisfied: tomli>=1.0.0 in /usr/local/lib/python3.10/dist-packages (from pytest) (2.0.1)\n",
            "Requirement already satisfied: plotly in /usr/local/lib/python3.10/dist-packages (5.15.0)\n",
            "Requirement already satisfied: tenacity>=6.2.0 in /usr/local/lib/python3.10/dist-packages (from plotly) (8.2.3)\n",
            "Requirement already satisfied: packaging in /usr/local/lib/python3.10/dist-packages (from plotly) (23.2)\n",
            "Requirement already satisfied: optuna in /usr/local/lib/python3.10/dist-packages (3.5.0)\n",
            "Requirement already satisfied: alembic>=1.5.0 in /usr/local/lib/python3.10/dist-packages (from optuna) (1.13.1)\n",
            "Requirement already satisfied: colorlog in /usr/local/lib/python3.10/dist-packages (from optuna) (6.8.2)\n",
            "Requirement already satisfied: numpy in /usr/local/lib/python3.10/dist-packages (from optuna) (1.25.2)\n",
            "Requirement already satisfied: packaging>=20.0 in /usr/local/lib/python3.10/dist-packages (from optuna) (23.2)\n",
            "Requirement already satisfied: sqlalchemy>=1.3.0 in /usr/local/lib/python3.10/dist-packages (from optuna) (2.0.27)\n",
            "Requirement already satisfied: tqdm in /usr/local/lib/python3.10/dist-packages (from optuna) (4.66.2)\n",
            "Requirement already satisfied: PyYAML in /usr/local/lib/python3.10/dist-packages (from optuna) (6.0.1)\n",
            "Requirement already satisfied: Mako in /usr/local/lib/python3.10/dist-packages (from alembic>=1.5.0->optuna) (1.3.2)\n",
            "Requirement already satisfied: typing-extensions>=4 in /usr/local/lib/python3.10/dist-packages (from alembic>=1.5.0->optuna) (4.9.0)\n",
            "Requirement already satisfied: greenlet!=0.4.17 in /usr/local/lib/python3.10/dist-packages (from sqlalchemy>=1.3.0->optuna) (3.0.3)\n",
            "Requirement already satisfied: MarkupSafe>=0.9.2 in /usr/local/lib/python3.10/dist-packages (from Mako->alembic>=1.5.0->optuna) (2.1.5)\n"
          ]
        }
      ]
    },
    {
      "cell_type": "code",
      "execution_count": 3,
      "id": "35fc1c4b-8327-4498-9b56-5f2680c93aaf",
      "metadata": {
        "id": "35fc1c4b-8327-4498-9b56-5f2680c93aaf"
      },
      "outputs": [],
      "source": [
        "import sys\n",
        "import os\n",
        "import subprocess\n",
        "import requests\n",
        "import json\n",
        "from getpass import getpass\n",
        "import logging\n",
        "\n",
        "from typing import Tuple, List\n",
        "\n",
        "from google.colab import drive\n",
        "from joblib import dump, load\n",
        "\n",
        "import torch"
      ]
    },
    {
      "cell_type": "markdown",
      "source": [
        "## Настройка окружения"
      ],
      "metadata": {
        "id": "qbYo3xdzojRD"
      },
      "id": "qbYo3xdzojRD"
    },
    {
      "cell_type": "code",
      "source": [
        "drive.mount('/content/drive')"
      ],
      "metadata": {
        "colab": {
          "base_uri": "https://localhost:8080/"
        },
        "id": "743P1zlT_rH2",
        "outputId": "e65012d7-0972-46fe-a44e-20f91d98fc51"
      },
      "id": "743P1zlT_rH2",
      "execution_count": 4,
      "outputs": [
        {
          "output_type": "stream",
          "name": "stdout",
          "text": [
            "Drive already mounted at /content/drive; to attempt to forcibly remount, call drive.mount(\"/content/drive\", force_remount=True).\n"
          ]
        }
      ]
    },
    {
      "cell_type": "markdown",
      "source": [
        "## Клонирование исходных кодов проекта"
      ],
      "metadata": {
        "id": "CPXCziB0CF4g"
      },
      "id": "CPXCziB0CF4g"
    },
    {
      "cell_type": "code",
      "source": [
        "def clone_pull_github_src(pull: bool = True):\n",
        "    \"\"\"\n",
        "    Клонирует или обновляет репозиторий GitHub в локальный каталог для последующей работы.\n",
        "\n",
        "    Parameters:\n",
        "    pull (bool): Указывает, следует ли выполнять pull для существующего репозитория. Если True, выполняется git pull.\n",
        "                 Если False, репозиторий клонируется в указанный каталог.\n",
        "\n",
        "    Returns:\n",
        "    Constants: Экземпляр класса Constants, содержащий константы проекта.\n",
        "    \"\"\"\n",
        "    WORKSPACE_PATH = '/content/drive/MyDrive/docs/keepForever/mipt/nlp/hw1_4sem/'\n",
        "    WORKSPACE_TMP = WORKSPACE_PATH + '/tmp/'\n",
        "    GIT_HUB_PROJECT_PATH = WORKSPACE_PATH + 'code/'\n",
        "\n",
        "    token = getpass('Введите GitHub token: ')\n",
        "    repo_url = 'https://github.com/km-mipt-nlp-gen/hw1.git'\n",
        "    repo_url_with_token = repo_url.replace('https://', f'https://{token}@')\n",
        "\n",
        "    os.chdir(GIT_HUB_PROJECT_PATH)\n",
        "\n",
        "    if pull:\n",
        "        !git pull origin main\n",
        "    else:\n",
        "        !git clone {repo_url_with_token} \"$GIT_HUB_PROJECT_PATH\"\n",
        "\n",
        "    del token\n",
        "\n",
        "    sys.path.append(f\"{GIT_HUB_PROJECT_PATH}/web_app/src/\")\n",
        "    from constants_module import Constants\n",
        "\n",
        "    return Constants()\n",
        "\n",
        "constants = clone_pull_github_src()\n",
        "from constants_module import Constants\n",
        "from chat_util_module import ChatUtil"
      ],
      "metadata": {
        "colab": {
          "base_uri": "https://localhost:8080/"
        },
        "id": "H9sNEaZmx9uu",
        "outputId": "d1241cae-f9e0-4faf-9934-5b83f047c796"
      },
      "id": "H9sNEaZmx9uu",
      "execution_count": 7,
      "outputs": [
        {
          "output_type": "stream",
          "name": "stdout",
          "text": [
            "Введите GitHub token: ··········\n",
            "From https://github.com/km-mipt-nlp-gen/hw1\n",
            " * branch            main       -> FETCH_HEAD\n",
            "Already up to date.\n",
            "DEVICE: cuda:0\n",
            "Число процессов для использования: 8\n"
          ]
        }
      ]
    },
    {
      "cell_type": "markdown",
      "source": [
        "## Обновление модулей"
      ],
      "metadata": {
        "id": "QVl_F0MRDVz1"
      },
      "id": "QVl_F0MRDVz1"
    },
    {
      "cell_type": "code",
      "source": [
        "def reload_modules(constants: Constants) -> Tuple[Constants, ChatUtil]:\n",
        "    \"\"\"\n",
        "    Перезагружает модули проекта для обновления изменений в коде без перезапуска среды выполнения.\n",
        "\n",
        "    Parameters:\n",
        "    constants (Constants): Экземпляр класса Constants, содержащий постоянные поля.\n",
        "\n",
        "    Returns:\n",
        "    Tuple[Constants, ChatUtil]: Кортеж, содержащий обновленный экземпляр класса Constants и экземпляр ChatUtil.\n",
        "    \"\"\"\n",
        "    import sys\n",
        "    sys.path.append(f\"{constants.GIT_HUB_PROJECT_PATH}/web_app/src/\")\n",
        "    sys.path.append(f\"{constants.GIT_HUB_PROJECT_PATH}/ml/src/train/\")\n",
        "\n",
        "    import importlib\n",
        "    import chat_service_accelerator_module\n",
        "    import chat_repository_module\n",
        "    import chat_service_module\n",
        "    import chat_controller_module\n",
        "    import chat_util_module\n",
        "    import constants_module\n",
        "    import models_zoo_module\n",
        "    import siamese_bi_encoder_training_pipeline_module\n",
        "    import cross_encoder_training_pipeline_module\n",
        "    import run_web_app_script\n",
        "\n",
        "    importlib.reload(chat_service_accelerator_module)\n",
        "    importlib.reload(chat_repository_module)\n",
        "    importlib.reload(chat_service_module)\n",
        "    importlib.reload(chat_controller_module)\n",
        "    importlib.reload(chat_util_module)\n",
        "    importlib.reload(constants_module)\n",
        "    importlib.reload(models_zoo_module)\n",
        "    importlib.reload(siamese_bi_encoder_training_pipeline_module)\n",
        "    importlib.reload(cross_encoder_training_pipeline_module)\n",
        "    importlib.reload(run_web_app_script)\n",
        "\n",
        "    from constants_module import Constants\n",
        "    from chat_util_module import ChatUtil\n",
        "    from chat_service_accelerator_module import ChatServiceAccelerator\n",
        "    from chat_repository_module import ChatRepository\n",
        "    from chat_service_module import ChatService\n",
        "    from chat_controller_module import ChatController\n",
        "    from siamese_bi_encoder_training_pipeline_module import SiameseBiEncoderTrainingPipeline\n",
        "    from cross_encoder_training_pipeline_module import CrossEncoderTrainingPipeline\n",
        "    from models_zoo_module import SiameseBiEncoder\n",
        "    from models_zoo_module import CrossEncoder\n",
        "    from run_web_app_script import run_web_app\n",
        "\n",
        "    constants = Constants()\n",
        "\n",
        "    return constants, ChatUtil(logging.DEBUG, constants), run_web_app\n",
        "\n",
        "constants, chat_util, run_web_app = reload_modules(constants)\n",
        "preprocessed_data = load(constants.PROCESSED_QA_PATH)"
      ],
      "metadata": {
        "colab": {
          "base_uri": "https://localhost:8080/"
        },
        "id": "2nqNrd_yYxpr",
        "outputId": "c4d5ca8d-b1cd-4317-f19d-243a6e822284"
      },
      "id": "2nqNrd_yYxpr",
      "execution_count": 8,
      "outputs": [
        {
          "output_type": "stream",
          "name": "stdout",
          "text": [
            "DEVICE: cuda:0\n",
            "Число процессов для использования: 8\n"
          ]
        }
      ]
    },
    {
      "cell_type": "markdown",
      "source": [
        "# Web-приложение"
      ],
      "metadata": {
        "id": "Ihw2gFpz71OG"
      },
      "id": "Ihw2gFpz71OG"
    },
    {
      "cell_type": "markdown",
      "source": [
        "## Интеграционные тесты Web-приложения"
      ],
      "metadata": {
        "id": "hhv9u-UAZBMx"
      },
      "id": "hhv9u-UAZBMx"
    },
    {
      "cell_type": "code",
      "source": [
        "def run_integration_tests(constants: Constants) -> None:\n",
        "    \"\"\"\n",
        "    Запускает интеграционные тесты веб-приложения.\n",
        "\n",
        "    Parameters:\n",
        "    constants (Constants): Экземпляр класса Constants, содержащий постоянные поля проекта.\n",
        "\n",
        "    Returns:\n",
        "    None\n",
        "    \"\"\"\n",
        "    os.chdir(constants.WEB_APP_TEST_PATH)\n",
        "\n",
        "    os.environ['WEB_APP_SRC_PATH'] = constants.WEB_APP_SRC_PATH\n",
        "\n",
        "    command = [\n",
        "        \"pytest\", \"-vv\",\n",
        "        constants.TEST_SCRIPT_PATH\n",
        "    ]\n",
        "\n",
        "    result = subprocess.run(command, stdout=subprocess.PIPE, stderr=subprocess.PIPE, text=True)\n",
        "\n",
        "    print(result.stdout)\n",
        "    print(result.stderr)\n",
        "\n",
        "run_integration_tests(constants)"
      ],
      "metadata": {
        "colab": {
          "base_uri": "https://localhost:8080/"
        },
        "id": "zmgW06n3p--J",
        "outputId": "b2ae478f-d429-434f-8d22-2d0fab03a1d8"
      },
      "id": "zmgW06n3p--J",
      "execution_count": 48,
      "outputs": [
        {
          "output_type": "stream",
          "name": "stdout",
          "text": [
            "======================================= test session starts ========================================\n",
            "platform linux -- Python 3.10.12, pytest-7.4.4, pluggy-1.4.0 -- /usr/bin/python3\n",
            "cachedir: .pytest_cache\n",
            "rootdir: /content/drive/MyDrive/docs/keepForever/mipt/nlp/hw1_4sem/code/web_app/test\n",
            "plugins: anyio-3.7.1\n",
            "collecting ... collected 12 items\n",
            "\n",
            "test.py::test_that_expected_length_when_find_top_3_times[/top_cos_sim_bi_cr-6] PASSED        [  8%]\n",
            "test.py::test_that_expected_length_when_find_top_3_times[/top_l2_bi_cr-6] PASSED             [ 16%]\n",
            "test.py::test_that_expected_length_when_find_top_3_times[/top_l2_psa_bi_cr-6] PASSED         [ 25%]\n",
            "test.py::test_that_expected_length_when_find_top_3_times[/top_cr-6] PASSED                   [ 33%]\n",
            "test.py::test_that_expected_length_when_find_top[/top_cos_sim_bi_cr-2] PASSED                [ 41%]\n",
            "test.py::test_that_expected_length_when_find_top[/top_l2_bi_cr-2] PASSED                     [ 50%]\n",
            "test.py::test_that_expected_length_when_find_top[/top_l2_psa_bi_cr-2] PASSED                 [ 58%]\n",
            "test.py::test_that_expected_length_when_find_top[/top_cr-2] PASSED                           [ 66%]\n",
            "test.py::test_that_clear_chat_when_find_top_then_clear[/top_cos_sim_bi_cr] PASSED            [ 75%]\n",
            "test.py::test_that_clear_chat_when_find_top_then_clear[/top_l2_bi_cr] PASSED                 [ 83%]\n",
            "test.py::test_that_clear_chat_when_find_top_then_clear[/top_l2_psa_bi_cr] PASSED             [ 91%]\n",
            "test.py::test_that_clear_chat_when_find_top_then_clear[/top_cr] PASSED                       [100%]\n",
            "\n",
            "================================== 12 passed in 170.23s (0:02:50) ==================================\n",
            "\n",
            "\n"
          ]
        }
      ]
    },
    {
      "cell_type": "markdown",
      "source": [
        "## Старт Web-приложения"
      ],
      "metadata": {
        "id": "KWM9uECIh1oT"
      },
      "id": "KWM9uECIh1oT"
    },
    {
      "cell_type": "code",
      "source": [
        "run_web_app()"
      ],
      "metadata": {
        "colab": {
          "base_uri": "https://localhost:8080/"
        },
        "id": "K8sqn-mrJa3w",
        "outputId": "bf5c4306-2917-4a83-8ccf-ff8846a0d4a7"
      },
      "id": "K8sqn-mrJa3w",
      "execution_count": 9,
      "outputs": [
        {
          "output_type": "stream",
          "name": "stderr",
          "text": [
            "/usr/local/lib/python3.10/dist-packages/huggingface_hub/utils/_token.py:88: UserWarning: \n",
            "The secret `HF_TOKEN` does not exist in your Colab secrets.\n",
            "To authenticate with the Hugging Face Hub, create a token in your settings tab (https://huggingface.co/settings/tokens), set it as secret in your Google Colab and restart your session.\n",
            "You will be able to reuse this secret in all of your notebooks.\n",
            "Please note that authentication is recommended but still optional to access public models or datasets.\n",
            "  warnings.warn(\n",
            "DEBUG:chat_util_module:Joblib библиотека успешно загрузила эмбеддинги (предобработанные ранее ChatServiceAccelerator) из файловой системы для кеширования\n"
          ]
        },
        {
          "name": "stdout",
          "output_type": "stream",
          "text": [
            "··········\n"
          ]
        },
        {
          "output_type": "stream",
          "name": "stderr",
          "text": [
            "DEBUG:chat_util_module: * ngrok tunnel \"https://58b7-34-91-145-6.ngrok-free.app\" -> \"http://127.0.0.1:5000/\"\n"
          ]
        },
        {
          "output_type": "execute_result",
          "data": {
            "text/plain": [
              "<Flask 'chat_controller_module'>"
            ]
          },
          "metadata": {},
          "execution_count": 9
        }
      ]
    },
    {
      "cell_type": "code",
      "source": [
        "!sudo fuser -k 4040/tcp # прервать процесс сервиса\n",
        "# !sudo fuser -k 5000/tcp\n",
        "# !ps aux | grep ngrok\n",
        "# !ps aux | grep 4040"
      ],
      "metadata": {
        "id": "qCaV9PlTIzXB",
        "colab": {
          "base_uri": "https://localhost:8080/"
        },
        "outputId": "175db2b7-a262-4600-dac1-a3136051cc39"
      },
      "id": "qCaV9PlTIzXB",
      "execution_count": null,
      "outputs": [
        {
          "output_type": "stream",
          "name": "stdout",
          "text": [
            "4040/tcp:            29352\n"
          ]
        }
      ]
    },
    {
      "cell_type": "markdown",
      "source": [
        "### Запросы к серверу (через облачный туннель)"
      ],
      "metadata": {
        "id": "6nx0TalkiFmR"
      },
      "id": "6nx0TalkiFmR"
    },
    {
      "cell_type": "markdown",
      "source": [
        "#### Одиночный вопрос и ответ"
      ],
      "metadata": {
        "id": "YyCxqyFms6qc"
      },
      "id": "YyCxqyFms6qc"
    },
    {
      "cell_type": "code",
      "source": [
        "url = 'https://dffa-34-91-145-6.ngrok-free.app/top_cos_sim_bi_cr'\n",
        "\n",
        "def process_queries(query_user_pairs: List[Tuple[str, str]], resource_url: str) -> None:\n",
        "    \"\"\"\n",
        "    Реализация режима одиночного запроса и ответа.\n",
        "    Обрабатывает серию запросов к API и выводит отформатированные ответы:\n",
        "    - для пары пользователь - реплика формирует запрос;\n",
        "    - далее отправляет запрос на 'top_cos_sim_bi_cr', 'top_l2_bi_cr', 'top_l2_psa_bi_cr', 'top_cr';\n",
        "    - выводит ответы напротив каждого запроса;\n",
        "    - очищает чат после каждого ответа.\n",
        "\n",
        "    Parameters:\n",
        "    query_user_pairs (List[Tuple[str, str]]): Список кортежей, содержащих пары пользователь-запрос.\n",
        "    resource_url (str): Базовый URL ресурса, к которому будут отправляться запросы.\n",
        "\n",
        "    Returns:\n",
        "    None\n",
        "    \"\"\"\n",
        "    endpoints = [\n",
        "        'top_cos_sim_bi_cr',\n",
        "        'top_l2_bi_cr',\n",
        "        'top_l2_psa_bi_cr',\n",
        "        'top_cr'\n",
        "    ]\n",
        "    clear_endpoint = '/clear'\n",
        "\n",
        "    for index, (user, query) in enumerate(query_user_pairs, start=1):\n",
        "        data = {\n",
        "            \"query\": query,\n",
        "            \"user\": user\n",
        "        }\n",
        "\n",
        "        for endpoint in endpoints:\n",
        "            full_url = f'{resource_url}/{endpoint}'\n",
        "            response = requests.post(full_url, json=data)\n",
        "\n",
        "            formatted_response = json.dumps(response.json(), ensure_ascii=False, indent=2) if response.ok else response.text\n",
        "            print(f'{index} \"/{endpoint}\" запрос:\"{json.dumps(data, ensure_ascii=False)}\" > ответ:\"{formatted_response}\"')\n",
        "\n",
        "            requests.delete(f'{resource_url}{clear_endpoint}')\n",
        "\n",
        "            if endpoint != endpoints[-1]:\n",
        "                print('---')\n",
        "\n",
        "        if index != len(query_user_pairs):\n",
        "            print('=================================================================\\n')\n",
        "\n",
        "# вопрос - ответ (без сохранения контекста после ответа)\n",
        "query_user_pairs = [\n",
        "    ('Marge Simpson', 'Kids, you want to go Christmas shopping?'),\n",
        "    ('Marge Simpson', 'Ready for Christmas, shopaholics?'),\n",
        "    ('Ivan Ivanov', 'Ready for Christmas, shopaholics?'),\n",
        "    ('Ivan Ivanov', 'Write a letter to Santa to Russia to Veliky Ustyug.'),\n",
        "    ('Bart Simpson', 'Good one, Dad.'),\n",
        "    ('Bart Simpson', 'Awesome, Dad.'),\n",
        "    ('Igor Pokrishkin', 'Awesome, Dad.'),\n",
        "    ('Igor Pokrishkin', 'Top-notch skill, Dad.')\n",
        "]\n",
        "\n",
        "resource_url = 'https://dffa-34-91-145-6.ngrok-free.app'\n",
        "process_queries(query_user_pairs, resource_url)"
      ],
      "metadata": {
        "colab": {
          "base_uri": "https://localhost:8080/"
        },
        "id": "ozWoV0vxwZyp",
        "outputId": "98ab170f-4374-480d-cf39-26121e8033c4"
      },
      "id": "ozWoV0vxwZyp",
      "execution_count": 25,
      "outputs": [
        {
          "output_type": "stream",
          "name": "stderr",
          "text": [
            "DEBUG:chat_util_module:find_top_n_unique_cosine_sim_bi_plus_cross_enc - старт выполнения\n",
            "DEBUG:chat_util_module:Query: Kids, you want to go Christmas shopping?\n",
            "DEBUG:chat_util_module:User: Marge Simpson\n",
            "DEBUG:chat_util_module:Enriched query: R_1: \"Marge Simpson: Kids, you want to go Christmas shopping?\"\n",
            "DEBUG:chat_util_module:find_top_n_unique_cosine_sim - get cosine similarities\n",
            "DEBUG:chat_util_module:find_top_n_unique_cosine_sim - sorting\n",
            "DEBUG:chat_util_module:find_top_n_unique_cosine_sim - сделано\n",
            "DEBUG:chat_util_module:Лучшие значение схожести векторов: [1.0, 0.9935572, 0.99094146, 0.99066186, 0.9901535, 0.9898393, 0.9882853, 0.9877504]\n",
            "DEBUG:chat_util_module:Лучшие соответствия (реплики из тестового набора): [{'premise_updated_col': 'R_1: \"Marge Simpson: Kids, you want to go Christmas shopping?\"', 'target_char_answer_col': 'R_0: \"Lisa Simpson: I do!\"'}, {'premise_updated_col': 'R_1: \"Marge Simpson: So, did you kids have fun?\"', 'target_char_answer_col': 'R_0: \"Lisa Simpson: Yeah, Mom! Guess what? For a dollar a man sold me thirty-five Caspers and a dozen Lois Lanes.\"'}, {'premise_updated_col': 'R_1: \"Marge Simpson: How\\'s the ice cream, kids?\"', 'target_char_answer_col': 'R_0: \"Lisa Simpson: Great!\"'}, {'premise_updated_col': 'R_1: \"Marge Simpson: How\\'s my special little guy?\"', 'target_char_answer_col': 'R_0: \"Lisa Simpson: How\\'re you feelin\\', big brother?\"'}, {'premise_updated_col': 'R_1: \"Marge Simpson: Isn\\'t this fun, honey?\"', 'target_char_answer_col': 'R_0: \"Lisa Simpson: (DRYLY) It must be exciting to make a different set of beds.\"'}, {'premise_updated_col': 'R_1: \"Marge Simpson: (ANNOYED) Well, what do you kids think of the real me?\"', 'target_char_answer_col': 'R_0: \"Lisa Simpson: (GENUINE) I love it. I know I use the word \"empowering\" a lot, but this time it really is that.\"'}, {'premise_updated_col': 'R_1: \"Marge Simpson: What\\'s wrong, sweetie?\"', 'target_char_answer_col': 'R_0: \"Lisa Simpson: They\\'re making us learn creation theory in school. (MAD) Today we had a test, and every answer was \"God did it.\"\"'}, {'premise_updated_col': 'R_1: \"Marge Simpson: So, you kids really love the Leader, huh? Even more than your parents?\"', 'target_char_answer_col': 'R_0: \"Lisa Simpson: (AD-LIB) Oh yeah! / Absolutely! / At least twice as much!\"'}]\n",
            "DEBUG:chat_util_module:unique_top_answers: ['R_0: \"Lisa Simpson: I do!\"', 'R_0: \"Lisa Simpson: Yeah, Mom! Guess what? For a dollar a man sold me thirty-five Caspers and a dozen Lois Lanes.\"', 'R_0: \"Lisa Simpson: Great!\"', 'R_0: \"Lisa Simpson: How\\'re you feelin\\', big brother?\"', 'R_0: \"Lisa Simpson: (DRYLY) It must be exciting to make a different set of beds.\"', 'R_0: \"Lisa Simpson: (GENUINE) I love it. I know I use the word \"empowering\" a lot, but this time it really is that.\"', 'R_0: \"Lisa Simpson: They\\'re making us learn creation theory in school. (MAD) Today we had a test, and every answer was \"God did it.\"\"', 'R_0: \"Lisa Simpson: (AD-LIB) Oh yeah! / Absolutely! / At least twice as much!\"']\n",
            "DEBUG:chat_util_module:Тело ответа top_cos_sim_bi_cr: ['Marge Simpson: Kids, you want to go Christmas shopping?', 'R_0: \"Lisa Simpson: I do!\"']\n",
            "INFO:werkzeug:127.0.0.1 - - [25/Feb/2024 09:01:04] \"POST /top_cos_sim_bi_cr HTTP/1.1\" 200 -\n"
          ]
        },
        {
          "output_type": "stream",
          "name": "stdout",
          "text": [
            "1 \"/top_cos_sim_bi_cr\" запрос:\"{\"query\": \"Kids, you want to go Christmas shopping?\", \"user\": \"Marge Simpson\"}\" > ответ:\"{\n",
            "  \"response\": [\n",
            "    \"Marge Simpson: Kids, you want to go Christmas shopping?\",\n",
            "    \"R_0: \\\"Lisa Simpson: I do!\\\"\"\n",
            "  ]\n",
            "}\"\n"
          ]
        },
        {
          "output_type": "stream",
          "name": "stderr",
          "text": [
            "INFO:werkzeug:127.0.0.1 - - [25/Feb/2024 09:01:05] \"DELETE /clear HTTP/1.1\" 200 -\n"
          ]
        },
        {
          "output_type": "stream",
          "name": "stdout",
          "text": [
            "---\n"
          ]
        },
        {
          "output_type": "stream",
          "name": "stderr",
          "text": [
            "DEBUG:chat_util_module:find_top_n_unique_l2_bi_plus_cross_enc - старт выполнения\n",
            "DEBUG:chat_util_module:find_top_n_unique_l2 - get indices\n",
            "DEBUG:chat_util_module:find_top_n_unique_l2 - sorting\n",
            "DEBUG:chat_util_module:Лучшие соответствия (реплики из тестового набора): [{'premise_updated_col': 'R_1: \"Marge Simpson: Kids, you want to go Christmas shopping?\"', 'target_char_answer_col': 'R_0: \"Lisa Simpson: I do!\"'}, {'premise_updated_col': 'R_1: \"Marge Simpson: So, did you kids have fun?\"', 'target_char_answer_col': 'R_0: \"Lisa Simpson: Yeah, Mom! Guess what? For a dollar a man sold me thirty-five Caspers and a dozen Lois Lanes.\"'}, {'premise_updated_col': 'R_1: \"Marge Simpson: How\\'s the ice cream, kids?\"', 'target_char_answer_col': 'R_0: \"Lisa Simpson: Great!\"'}, {'premise_updated_col': 'R_1: \"Marge Simpson: How\\'s my special little guy?\"', 'target_char_answer_col': 'R_0: \"Lisa Simpson: How\\'re you feelin\\', big brother?\"'}, {'premise_updated_col': 'R_1: \"Marge Simpson: Isn\\'t this fun, honey?\"', 'target_char_answer_col': 'R_0: \"Lisa Simpson: (DRYLY) It must be exciting to make a different set of beds.\"'}, {'premise_updated_col': 'R_1: \"Marge Simpson: (ANNOYED) Well, what do you kids think of the real me?\"', 'target_char_answer_col': 'R_0: \"Lisa Simpson: (GENUINE) I love it. I know I use the word \"empowering\" a lot, but this time it really is that.\"'}, {'premise_updated_col': 'R_1: \"Marge Simpson: What\\'s wrong, sweetie?\"', 'target_char_answer_col': 'R_0: \"Lisa Simpson: They\\'re making us learn creation theory in school. (MAD) Today we had a test, and every answer was \"God did it.\"\"'}, {'premise_updated_col': 'R_1: \"Marge Simpson: So, you kids really love the Leader, huh? Even more than your parents?\"', 'target_char_answer_col': 'R_0: \"Lisa Simpson: (AD-LIB) Oh yeah! / Absolutely! / At least twice as much!\"'}]\n",
            "DEBUG:chat_util_module:find_top_n_unique_l2 - сделано\n",
            "DEBUG:chat_util_module:Тело ответа top_l2_bi_cr: ['Marge Simpson: Kids, you want to go Christmas shopping?', 'R_0: \"Lisa Simpson: I do!\"']\n",
            "INFO:werkzeug:127.0.0.1 - - [25/Feb/2024 09:01:12] \"POST /top_l2_bi_cr HTTP/1.1\" 200 -\n"
          ]
        },
        {
          "output_type": "stream",
          "name": "stdout",
          "text": [
            "1 \"/top_l2_bi_cr\" запрос:\"{\"query\": \"Kids, you want to go Christmas shopping?\", \"user\": \"Marge Simpson\"}\" > ответ:\"{\n",
            "  \"response\": [\n",
            "    \"Marge Simpson: Kids, you want to go Christmas shopping?\",\n",
            "    \"R_0: \\\"Lisa Simpson: I do!\\\"\"\n",
            "  ]\n",
            "}\"\n"
          ]
        },
        {
          "output_type": "stream",
          "name": "stderr",
          "text": [
            "INFO:werkzeug:127.0.0.1 - - [25/Feb/2024 09:01:12] \"DELETE /clear HTTP/1.1\" 200 -\n"
          ]
        },
        {
          "output_type": "stream",
          "name": "stdout",
          "text": [
            "---\n"
          ]
        },
        {
          "output_type": "stream",
          "name": "stderr",
          "text": [
            "DEBUG:chat_util_module:find_top_n_unique_l2_psa_bi_plus_cross_enc - старт выполнения\n",
            "DEBUG:chat_util_module:find_top_n_unique_l2_psa - get indices\n",
            "DEBUG:chat_util_module:find_top_n_unique_l2_psa - sorting\n",
            "DEBUG:chat_util_module:find unique\n",
            "DEBUG:chat_util_module:Лучшие соответствия (реплики из тестового набора): [{'premise_updated_col': 'R_3: \"Homer Simpson: (WAKING UP) Huh? Wuh? Lisa? What\\'s up?\"; R_2: \"Lisa Simpson: I just had a bad dream.\"; R_1: \"Homer Simpson: Aw, sure... you just lie down and tell me all about it.\"', 'target_char_answer_col': 'R_0: \"Lisa Simpson: Well, I know it\\'s absurd, but I dreamed the Boogeyman was after me and he\\'s hiding...\"'}, {'premise_updated_col': 'R_3: \"Homer Simpson: What\\'s your problem?\"; R_2: \"Lisa Simpson: (SULLEN) Whacking Day is coming.\"; R_1: \"Homer Simpson: Woo hoo! The greatest day of the year.\"', 'target_char_answer_col': 'R_0: \"Lisa Simpson: But killing snakes is evil.\"'}, {'premise_updated_col': 'R_3: \"Homer Simpson: (CALLING) Sweetie, if we didn\\'t turn it down for the cops, what chance do you have? (LAUGHS) He hit her again.\"; R_2: \"Lisa Simpson: (MUTTERING) Stupid, inconsiderate bunch of jerks... I can\\'t believe, after I...\"; R_1: \"RASPY VOICE: Losing your marbles, huh, kid?\"', 'target_char_answer_col': 'R_0: \"Lisa Simpson: (SHORT SCREAM, THEN) Lucy?\"'}, {'premise_updated_col': 'R_3: \"Homer Simpson: Here you go.\"; R_2: \"Lisa Simpson: This whole morning has been wonderful. (TO BART, SUSPICIOUS) Too wonderful.\"; R_1: \"Bart Simpson: (SCARED) You\\'re right, this is it. They\\'re selling us to be crash test dummies.\"', 'target_char_answer_col': 'R_0: \"Lisa Simpson: (SCARED) Oh, please let it be Volvo.\"'}, {'premise_updated_col': 'R_3: \"Homer Simpson: Gimme a banana.\"; R_2: \"Lisa Simpson: I don\\'t have any banana.\"; R_1: \"Homer Simpson: Come on, you\\'re holding out on me.\"', 'target_char_answer_col': 'R_0: \"Lisa Simpson: I\\'m sorry I called you a baboon, Dad.\"'}, {'premise_updated_col': 'R_3: \"Homer Simpson: Impending doom...\"; R_2: \"Lisa Simpson: (ENTERS) Whatcha reading, Dad?\"; R_1: \"Homer Simpson: Honey, everything\\'s fine. There\\'s nothing to worry about.\"', 'target_char_answer_col': 'R_0: \"Lisa Simpson: (SCARED) When grownups say that, it means there is something to worry about.\"'}, {'premise_updated_col': 'R_3: \"Homer Simpson: No. It would only worry her. (SANCTIMONIOUS) If you want to add to her worries, go ahead. I guess I\\'m just a little more grateful for all she\\'s done for us.\"; R_2: \"Lisa Simpson: (OUTRAGED) Da-ad!\"; R_1: \"Homer Simpson: Yes, sweetheart?\"', 'target_char_answer_col': 'R_0: \"Lisa Simpson: Obesity is really unhealthy. Any doctor will tell you that.\"'}, {'premise_updated_col': 'R_3: \"Bart Simpson: You got it.\"; R_2: \"Lisa Simpson: Become like an uncarved stone.\"; R_1: \"Bart Simpson: Done.\"', 'target_char_answer_col': 'R_0: \"Lisa Simpson: Bart! You\\'re just pretending to know what I\\'m talking about.\"'}]\n",
            "DEBUG:chat_util_module:find_top_n_unique_l2_psa - сделано\n",
            "DEBUG:chat_util_module:Тело ответа top_l2_psa_bi_cr: ['Marge Simpson: Kids, you want to go Christmas shopping?', 'R_0: \"Lisa Simpson: Well, I know it\\'s absurd, but I dreamed the Boogeyman was after me and he\\'s hiding...\"']\n",
            "INFO:werkzeug:127.0.0.1 - - [25/Feb/2024 09:01:21] \"POST /top_l2_psa_bi_cr HTTP/1.1\" 200 -\n"
          ]
        },
        {
          "output_type": "stream",
          "name": "stdout",
          "text": [
            "1 \"/top_l2_psa_bi_cr\" запрос:\"{\"query\": \"Kids, you want to go Christmas shopping?\", \"user\": \"Marge Simpson\"}\" > ответ:\"{\n",
            "  \"response\": [\n",
            "    \"Marge Simpson: Kids, you want to go Christmas shopping?\",\n",
            "    \"R_0: \\\"Lisa Simpson: Well, I know it's absurd, but I dreamed the Boogeyman was after me and he's hiding...\\\"\"\n",
            "  ]\n",
            "}\"\n"
          ]
        },
        {
          "output_type": "stream",
          "name": "stderr",
          "text": [
            "INFO:werkzeug:127.0.0.1 - - [25/Feb/2024 09:01:21] \"DELETE /clear HTTP/1.1\" 200 -\n"
          ]
        },
        {
          "output_type": "stream",
          "name": "stdout",
          "text": [
            "---\n"
          ]
        },
        {
          "output_type": "stream",
          "name": "stderr",
          "text": [
            "DEBUG:chat_util_module:find_similar_answers_cross_enc - старт выполнения\n",
            "DEBUG:chat_util_module:Лучшие соответствия (реплики из тестового набора): [{'premise_updated_col': 'R_3: \"ZOMBIE MILHOUSE: (QUICKLY LIKE A HOPEFUL KID) Brains? Brains?\"; R_2: \"Adult Lisa: (PULLS OUT PACKAGE) Garden brains.\"; R_1: \"ZOMBIE MILHOUSE: (STILL QUICK AND HOPEFUL) Spicy Mexican garden brains?\"', 'target_char_answer_col': 'R_0: \"Adult Lisa: Too much sodium.\"'}, {'premise_updated_col': 'R_2: \"Adult Lisa: (TO HERSELF) Hands off, hands off. Eh, screw it! Sometimes a mother\\'s job is to butt in.\"; R_1: \"Marge Simpson: Lisa...\"', 'target_char_answer_col': 'R_0: \"Adult Lisa: Butt out.\"'}, {'premise_updated_col': 'R_3: \"Adult Bart: Maybe it\\'s the court-mandated sincerity chip I\\'ve got in my brain. But Lis... you\\'re the person I always wanted to be.\"; R_2: \"Adult Bart: I gotta reconnect with those boys.\"; R_1: \"Adult Lisa: Godspeed, Bart. I\\'m gonna go apologize to Mom!\"', 'target_char_answer_col': 'R_0: \"Adult Lisa: How do I get down?\"'}, {'premise_updated_col': 'R_3: \"Adult Lisa: Lisa Simpson, the following people want to friend you.\"; R_2: \"Adult Lisa: (PRESSING BUTTONS) Ignore, ignore, ignore... Ooh, Martin Prince is now \"Marcia Princess?\" (SLIGHT GIGGLE, THEN DETERMINED) No, I\\'ve got to find Zia.\"; R_1: \"Adult Nelson: Hey, Lis. Is your marriage still dead and unfulfilled?\"', 'target_char_answer_col': 'R_0: \"Adult Lisa: Not a good time.\"'}, {'premise_updated_col': 'R_3: \"Teenage Milhouse: Not going to Yale isn\\'t the end of the world.\"; R_2: \"Teenage Lisa: (PERKING UP) Yeah, I\\'m starting to see that.\"; R_1: \"Teenage Milhouse: No, I mean, you\\'re screwed! Your only hope is to clutch at straws! (WAGGING EYEBROWS) Straws who\\'ve always loved you.\"', 'target_char_answer_col': 'R_0: \"Teenage Lisa: (VULNERABLE) Really?\"'}, {'premise_updated_col': 'R_3: \"Zombie: Brains!\"; R_2: \"Adult Lisa: Actually, Terrence, this is a synthetic substance. Devised for zombie vegans, or \"Zegans.\"\"; R_1: \"Terrence: (ZOMBIE-LIKE) Meh.\"', 'target_char_answer_col': 'R_0: \"Adult Lisa: What are you doing here?\"'}, {'premise_updated_col': 'R_3: \"Marge Simpson: Now you know how I\\'ll feel when you go to college.\"; R_2: \"Lisa Simpson: You\\'ll always have Bart. Always.\"; R_1: \"Marge Simpson: (HOPING) But he\\'ll be gone a lot repairing refrigerators.\"', 'target_char_answer_col': 'R_0: \"Lisa Simpson: Always.\"'}, {'premise_updated_col': 'R_3: \"Adult Lisa: Now, where is the Google door?\"; R_2: \"Adult Lisa: Oh right, it\\'s Dr. Seuss\\'s birthday.\"; R_1: \"Adult Lisa: Google, even though you\\'ve enslaved half the world, you\\'re still a damn fine search engine.\"', 'target_char_answer_col': 'R_0: \"Adult Lisa: Bingo.\"'}]\n",
            "DEBUG:chat_util_module:find_similar_answers_cross_enc - сделано\n",
            "DEBUG:chat_util_module:Тело ответа top_cr: ['Marge Simpson: Kids, you want to go Christmas shopping?', 'R_0: \"Adult Lisa: Too much sodium.\"']\n",
            "INFO:werkzeug:127.0.0.1 - - [25/Feb/2024 09:01:30] \"POST /top_cr HTTP/1.1\" 200 -\n"
          ]
        },
        {
          "output_type": "stream",
          "name": "stdout",
          "text": [
            "1 \"/top_cr\" запрос:\"{\"query\": \"Kids, you want to go Christmas shopping?\", \"user\": \"Marge Simpson\"}\" > ответ:\"{\n",
            "  \"response\": [\n",
            "    \"Marge Simpson: Kids, you want to go Christmas shopping?\",\n",
            "    \"R_0: \\\"Adult Lisa: Too much sodium.\\\"\"\n",
            "  ]\n",
            "}\"\n"
          ]
        },
        {
          "output_type": "stream",
          "name": "stderr",
          "text": [
            "INFO:werkzeug:127.0.0.1 - - [25/Feb/2024 09:01:30] \"DELETE /clear HTTP/1.1\" 200 -\n"
          ]
        },
        {
          "output_type": "stream",
          "name": "stdout",
          "text": [
            "=================================================================\n",
            "\n"
          ]
        },
        {
          "output_type": "stream",
          "name": "stderr",
          "text": [
            "DEBUG:chat_util_module:find_top_n_unique_cosine_sim_bi_plus_cross_enc - старт выполнения\n",
            "DEBUG:chat_util_module:Query: Ready for Christmas, shopaholics?\n",
            "DEBUG:chat_util_module:User: Marge Simpson\n",
            "DEBUG:chat_util_module:Enriched query: R_1: \"Marge Simpson: Ready for Christmas, shopaholics?\"\n",
            "DEBUG:chat_util_module:find_top_n_unique_cosine_sim - get cosine similarities\n",
            "DEBUG:chat_util_module:find_top_n_unique_cosine_sim - sorting\n",
            "DEBUG:chat_util_module:find_top_n_unique_cosine_sim - сделано\n",
            "DEBUG:chat_util_module:Лучшие значение схожести векторов: [0.9944542, 0.9924606, 0.99176943, 0.9911531, 0.9905293, 0.9902063, 0.9886608, 0.98816305]\n",
            "DEBUG:chat_util_module:Лучшие соответствия (реплики из тестового набора): [{'premise_updated_col': 'R_1: \"Marge Simpson: Kids, you want to go Christmas shopping?\"', 'target_char_answer_col': 'R_0: \"Lisa Simpson: I do!\"'}, {'premise_updated_col': 'R_1: \"Marge Simpson: Isn\\'t this fun, honey?\"', 'target_char_answer_col': 'R_0: \"Lisa Simpson: (DRYLY) It must be exciting to make a different set of beds.\"'}, {'premise_updated_col': 'R_1: \"Marge Simpson: How\\'s my special little guy?\"', 'target_char_answer_col': 'R_0: \"Lisa Simpson: How\\'re you feelin\\', big brother?\"'}, {'premise_updated_col': 'R_1: \"Marge Simpson: So, did you kids have fun?\"', 'target_char_answer_col': 'R_0: \"Lisa Simpson: Yeah, Mom! Guess what? For a dollar a man sold me thirty-five Caspers and a dozen Lois Lanes.\"'}, {'premise_updated_col': 'R_1: \"Marge Simpson: What\\'s wrong, sweetie?\"', 'target_char_answer_col': 'R_0: \"Lisa Simpson: They\\'re making us learn creation theory in school. (MAD) Today we had a test, and every answer was \"God did it.\"\"'}, {'premise_updated_col': 'R_1: \"Marge Simpson: (ANNOYED) Well, what do you kids think of the real me?\"', 'target_char_answer_col': 'R_0: \"Lisa Simpson: (GENUINE) I love it. I know I use the word \"empowering\" a lot, but this time it really is that.\"'}, {'premise_updated_col': 'R_1: \"Marge Simpson: A carnival? What\\'s so romantic about this?\"', 'target_char_answer_col': 'R_0: \"Lisa Simpson: (DOPPLER) Goodbye! / See ya later!\"'}, {'premise_updated_col': 'R_1: \"Marge Simpson: This is my third favorite wedding supply store!\"', 'target_char_answer_col': 'R_0: \"Lisa Simpson: Oooh, look at these: \"Extreme Weddings\" triathlon, zero G... (AMAZED) \"tie the knot at the top of Mt. Everest?!\"\"'}]\n",
            "DEBUG:chat_util_module:unique_top_answers: ['R_0: \"Lisa Simpson: I do!\"', 'R_0: \"Lisa Simpson: (DRYLY) It must be exciting to make a different set of beds.\"', 'R_0: \"Lisa Simpson: How\\'re you feelin\\', big brother?\"', 'R_0: \"Lisa Simpson: Yeah, Mom! Guess what? For a dollar a man sold me thirty-five Caspers and a dozen Lois Lanes.\"', 'R_0: \"Lisa Simpson: They\\'re making us learn creation theory in school. (MAD) Today we had a test, and every answer was \"God did it.\"\"', 'R_0: \"Lisa Simpson: (GENUINE) I love it. I know I use the word \"empowering\" a lot, but this time it really is that.\"', 'R_0: \"Lisa Simpson: (DOPPLER) Goodbye! / See ya later!\"', 'R_0: \"Lisa Simpson: Oooh, look at these: \"Extreme Weddings\" triathlon, zero G... (AMAZED) \"tie the knot at the top of Mt. Everest?!\"\"']\n",
            "DEBUG:chat_util_module:Тело ответа top_cos_sim_bi_cr: ['Marge Simpson: Ready for Christmas, shopaholics?', 'R_0: \"Lisa Simpson: I do!\"']\n",
            "INFO:werkzeug:127.0.0.1 - - [25/Feb/2024 09:01:45] \"POST /top_cos_sim_bi_cr HTTP/1.1\" 200 -\n"
          ]
        },
        {
          "output_type": "stream",
          "name": "stdout",
          "text": [
            "2 \"/top_cos_sim_bi_cr\" запрос:\"{\"query\": \"Ready for Christmas, shopaholics?\", \"user\": \"Marge Simpson\"}\" > ответ:\"{\n",
            "  \"response\": [\n",
            "    \"Marge Simpson: Ready for Christmas, shopaholics?\",\n",
            "    \"R_0: \\\"Lisa Simpson: I do!\\\"\"\n",
            "  ]\n",
            "}\"\n"
          ]
        },
        {
          "output_type": "stream",
          "name": "stderr",
          "text": [
            "INFO:werkzeug:127.0.0.1 - - [25/Feb/2024 09:01:45] \"DELETE /clear HTTP/1.1\" 200 -\n"
          ]
        },
        {
          "output_type": "stream",
          "name": "stdout",
          "text": [
            "---\n"
          ]
        },
        {
          "output_type": "stream",
          "name": "stderr",
          "text": [
            "DEBUG:chat_util_module:find_top_n_unique_l2_bi_plus_cross_enc - старт выполнения\n",
            "DEBUG:chat_util_module:find_top_n_unique_l2 - get indices\n",
            "DEBUG:chat_util_module:find_top_n_unique_l2 - sorting\n",
            "DEBUG:chat_util_module:Лучшие соответствия (реплики из тестового набора): [{'premise_updated_col': 'R_1: \"Marge Simpson: Kids, you want to go Christmas shopping?\"', 'target_char_answer_col': 'R_0: \"Lisa Simpson: I do!\"'}, {'premise_updated_col': 'R_1: \"Marge Simpson: Isn\\'t this fun, honey?\"', 'target_char_answer_col': 'R_0: \"Lisa Simpson: (DRYLY) It must be exciting to make a different set of beds.\"'}, {'premise_updated_col': 'R_1: \"Marge Simpson: How\\'s my special little guy?\"', 'target_char_answer_col': 'R_0: \"Lisa Simpson: How\\'re you feelin\\', big brother?\"'}, {'premise_updated_col': 'R_1: \"Marge Simpson: So, did you kids have fun?\"', 'target_char_answer_col': 'R_0: \"Lisa Simpson: Yeah, Mom! Guess what? For a dollar a man sold me thirty-five Caspers and a dozen Lois Lanes.\"'}, {'premise_updated_col': 'R_1: \"Marge Simpson: What\\'s wrong, sweetie?\"', 'target_char_answer_col': 'R_0: \"Lisa Simpson: They\\'re making us learn creation theory in school. (MAD) Today we had a test, and every answer was \"God did it.\"\"'}, {'premise_updated_col': 'R_1: \"Marge Simpson: (ANNOYED) Well, what do you kids think of the real me?\"', 'target_char_answer_col': 'R_0: \"Lisa Simpson: (GENUINE) I love it. I know I use the word \"empowering\" a lot, but this time it really is that.\"'}, {'premise_updated_col': 'R_1: \"Marge Simpson: A carnival? What\\'s so romantic about this?\"', 'target_char_answer_col': 'R_0: \"Lisa Simpson: (DOPPLER) Goodbye! / See ya later!\"'}, {'premise_updated_col': 'R_1: \"Marge Simpson: This is my third favorite wedding supply store!\"', 'target_char_answer_col': 'R_0: \"Lisa Simpson: Oooh, look at these: \"Extreme Weddings\" triathlon, zero G... (AMAZED) \"tie the knot at the top of Mt. Everest?!\"\"'}]\n",
            "DEBUG:chat_util_module:find_top_n_unique_l2 - сделано\n",
            "DEBUG:chat_util_module:Тело ответа top_l2_bi_cr: ['Marge Simpson: Ready for Christmas, shopaholics?', 'R_0: \"Lisa Simpson: I do!\"']\n",
            "INFO:werkzeug:127.0.0.1 - - [25/Feb/2024 09:01:53] \"POST /top_l2_bi_cr HTTP/1.1\" 200 -\n"
          ]
        },
        {
          "output_type": "stream",
          "name": "stdout",
          "text": [
            "2 \"/top_l2_bi_cr\" запрос:\"{\"query\": \"Ready for Christmas, shopaholics?\", \"user\": \"Marge Simpson\"}\" > ответ:\"{\n",
            "  \"response\": [\n",
            "    \"Marge Simpson: Ready for Christmas, shopaholics?\",\n",
            "    \"R_0: \\\"Lisa Simpson: I do!\\\"\"\n",
            "  ]\n",
            "}\"\n"
          ]
        },
        {
          "output_type": "stream",
          "name": "stderr",
          "text": [
            "INFO:werkzeug:127.0.0.1 - - [25/Feb/2024 09:01:53] \"DELETE /clear HTTP/1.1\" 200 -\n"
          ]
        },
        {
          "output_type": "stream",
          "name": "stdout",
          "text": [
            "---\n"
          ]
        },
        {
          "output_type": "stream",
          "name": "stderr",
          "text": [
            "DEBUG:chat_util_module:find_top_n_unique_l2_psa_bi_plus_cross_enc - старт выполнения\n",
            "DEBUG:chat_util_module:find_top_n_unique_l2_psa - get indices\n",
            "DEBUG:chat_util_module:find_top_n_unique_l2_psa - sorting\n",
            "DEBUG:chat_util_module:find unique\n",
            "DEBUG:chat_util_module:Лучшие соответствия (реплики из тестового набора): [{'premise_updated_col': 'R_3: \"Homer Simpson: (CALLING) Sweetie, if we didn\\'t turn it down for the cops, what chance do you have? (LAUGHS) He hit her again.\"; R_2: \"Lisa Simpson: (MUTTERING) Stupid, inconsiderate bunch of jerks... I can\\'t believe, after I...\"; R_1: \"RASPY VOICE: Losing your marbles, huh, kid?\"', 'target_char_answer_col': 'R_0: \"Lisa Simpson: (SHORT SCREAM, THEN) Lucy?\"'}, {'premise_updated_col': 'R_3: \"Homer Simpson: (WAKING UP) Huh? Wuh? Lisa? What\\'s up?\"; R_2: \"Lisa Simpson: I just had a bad dream.\"; R_1: \"Homer Simpson: Aw, sure... you just lie down and tell me all about it.\"', 'target_char_answer_col': 'R_0: \"Lisa Simpson: Well, I know it\\'s absurd, but I dreamed the Boogeyman was after me and he\\'s hiding...\"'}, {'premise_updated_col': 'R_3: \"Homer Simpson: Yellow card!\"; R_2: \"Lisa Simpson: You can\\'t give me a yellow card?! You\\'re my father!\"; R_1: \"Homer Simpson: When I put on these shorts, I\\'m not your father anymore. (POINTS TO PANTS) And judging by how tight they are, I\\'m never gonna be anyone else\\'s either.\"', 'target_char_answer_col': 'R_0: \"Lisa Simpson: This is what I think of your yellow card!\"'}, {'premise_updated_col': 'R_3: \"Homer Simpson: Here you go.\"; R_2: \"Lisa Simpson: This whole morning has been wonderful. (TO BART, SUSPICIOUS) Too wonderful.\"; R_1: \"Bart Simpson: (SCARED) You\\'re right, this is it. They\\'re selling us to be crash test dummies.\"', 'target_char_answer_col': 'R_0: \"Lisa Simpson: (SCARED) Oh, please let it be Volvo.\"'}, {'premise_updated_col': 'R_3: \"Bart Simpson: You got it.\"; R_2: \"Lisa Simpson: Become like an uncarved stone.\"; R_1: \"Bart Simpson: Done.\"', 'target_char_answer_col': 'R_0: \"Lisa Simpson: Bart! You\\'re just pretending to know what I\\'m talking about.\"'}, {'premise_updated_col': 'R_3: \"Homer Simpson: No. It would only worry her. (SANCTIMONIOUS) If you want to add to her worries, go ahead. I guess I\\'m just a little more grateful for all she\\'s done for us.\"; R_2: \"Lisa Simpson: (OUTRAGED) Da-ad!\"; R_1: \"Homer Simpson: Yes, sweetheart?\"', 'target_char_answer_col': 'R_0: \"Lisa Simpson: Obesity is really unhealthy. Any doctor will tell you that.\"'}, {'premise_updated_col': 'R_3: \"Homer Simpson: What\\'s your problem?\"; R_2: \"Lisa Simpson: (SULLEN) Whacking Day is coming.\"; R_1: \"Homer Simpson: Woo hoo! The greatest day of the year.\"', 'target_char_answer_col': 'R_0: \"Lisa Simpson: But killing snakes is evil.\"'}, {'premise_updated_col': 'R_3: \"Bart Simpson: Oh, man.\"; R_2: \"Lisa Simpson: Keep your greasy mitts outta there.\"; R_1: \"Marge Simpson: These are for Lisa\\'s class.\"', 'target_char_answer_col': 'R_0: \"Lisa Simpson: It\\'s Mrs. Hoover\\'s birthday!\"'}]\n",
            "DEBUG:chat_util_module:find_top_n_unique_l2_psa - сделано\n",
            "DEBUG:chat_util_module:Тело ответа top_l2_psa_bi_cr: ['Marge Simpson: Ready for Christmas, shopaholics?', 'R_0: \"Lisa Simpson: (SHORT SCREAM, THEN) Lucy?\"']\n",
            "INFO:werkzeug:127.0.0.1 - - [25/Feb/2024 09:02:00] \"POST /top_l2_psa_bi_cr HTTP/1.1\" 200 -\n"
          ]
        },
        {
          "output_type": "stream",
          "name": "stdout",
          "text": [
            "2 \"/top_l2_psa_bi_cr\" запрос:\"{\"query\": \"Ready for Christmas, shopaholics?\", \"user\": \"Marge Simpson\"}\" > ответ:\"{\n",
            "  \"response\": [\n",
            "    \"Marge Simpson: Ready for Christmas, shopaholics?\",\n",
            "    \"R_0: \\\"Lisa Simpson: (SHORT SCREAM, THEN) Lucy?\\\"\"\n",
            "  ]\n",
            "}\"\n"
          ]
        },
        {
          "output_type": "stream",
          "name": "stderr",
          "text": [
            "INFO:werkzeug:127.0.0.1 - - [25/Feb/2024 09:02:00] \"DELETE /clear HTTP/1.1\" 200 -\n"
          ]
        },
        {
          "output_type": "stream",
          "name": "stdout",
          "text": [
            "---\n"
          ]
        },
        {
          "output_type": "stream",
          "name": "stderr",
          "text": [
            "DEBUG:chat_util_module:find_similar_answers_cross_enc - старт выполнения\n",
            "DEBUG:chat_util_module:Лучшие соответствия (реплики из тестового набора): [{'premise_updated_col': 'R_3: \"ZOMBIE MILHOUSE: (QUICKLY LIKE A HOPEFUL KID) Brains? Brains?\"; R_2: \"Adult Lisa: (PULLS OUT PACKAGE) Garden brains.\"; R_1: \"ZOMBIE MILHOUSE: (STILL QUICK AND HOPEFUL) Spicy Mexican garden brains?\"', 'target_char_answer_col': 'R_0: \"Adult Lisa: Too much sodium.\"'}, {'premise_updated_col': 'R_3: \"Adult Lisa: Lisa Simpson, the following people want to friend you.\"; R_2: \"Adult Lisa: (PRESSING BUTTONS) Ignore, ignore, ignore... Ooh, Martin Prince is now \"Marcia Princess?\" (SLIGHT GIGGLE, THEN DETERMINED) No, I\\'ve got to find Zia.\"; R_1: \"Adult Nelson: Hey, Lis. Is your marriage still dead and unfulfilled?\"', 'target_char_answer_col': 'R_0: \"Adult Lisa: Not a good time.\"'}, {'premise_updated_col': 'R_2: \"Adult Lisa: (TO HERSELF) Hands off, hands off. Eh, screw it! Sometimes a mother\\'s job is to butt in.\"; R_1: \"Marge Simpson: Lisa...\"', 'target_char_answer_col': 'R_0: \"Adult Lisa: Butt out.\"'}, {'premise_updated_col': 'R_3: \"Adult Bart: Maybe it\\'s the court-mandated sincerity chip I\\'ve got in my brain. But Lis... you\\'re the person I always wanted to be.\"; R_2: \"Adult Bart: I gotta reconnect with those boys.\"; R_1: \"Adult Lisa: Godspeed, Bart. I\\'m gonna go apologize to Mom!\"', 'target_char_answer_col': 'R_0: \"Adult Lisa: How do I get down?\"'}, {'premise_updated_col': 'R_3: \"Teenage Milhouse: Not going to Yale isn\\'t the end of the world.\"; R_2: \"Teenage Lisa: (PERKING UP) Yeah, I\\'m starting to see that.\"; R_1: \"Teenage Milhouse: No, I mean, you\\'re screwed! Your only hope is to clutch at straws! (WAGGING EYEBROWS) Straws who\\'ve always loved you.\"', 'target_char_answer_col': 'R_0: \"Teenage Lisa: (VULNERABLE) Really?\"'}, {'premise_updated_col': 'R_3: \"Zombie: Brains!\"; R_2: \"Adult Lisa: Actually, Terrence, this is a synthetic substance. Devised for zombie vegans, or \"Zegans.\"\"; R_1: \"Terrence: (ZOMBIE-LIKE) Meh.\"', 'target_char_answer_col': 'R_0: \"Adult Lisa: What are you doing here?\"'}, {'premise_updated_col': 'R_3: \"Marge Simpson: Now you know how I\\'ll feel when you go to college.\"; R_2: \"Lisa Simpson: You\\'ll always have Bart. Always.\"; R_1: \"Marge Simpson: (HOPING) But he\\'ll be gone a lot repairing refrigerators.\"', 'target_char_answer_col': 'R_0: \"Lisa Simpson: Always.\"'}, {'premise_updated_col': 'R_2: \"Lisa Simpson: Mom! I have to tell you something about Dad! Something big!\"; R_1: \"Marge Simpson: I know, he\\'s changed.\"', 'target_char_answer_col': 'R_0: \"Lisa Simpson: Exactly!\"'}]\n",
            "DEBUG:chat_util_module:find_similar_answers_cross_enc - сделано\n",
            "DEBUG:chat_util_module:Тело ответа top_cr: ['Marge Simpson: Ready for Christmas, shopaholics?', 'R_0: \"Adult Lisa: Too much sodium.\"']\n",
            "INFO:werkzeug:127.0.0.1 - - [25/Feb/2024 09:02:08] \"POST /top_cr HTTP/1.1\" 200 -\n"
          ]
        },
        {
          "output_type": "stream",
          "name": "stdout",
          "text": [
            "2 \"/top_cr\" запрос:\"{\"query\": \"Ready for Christmas, shopaholics?\", \"user\": \"Marge Simpson\"}\" > ответ:\"{\n",
            "  \"response\": [\n",
            "    \"Marge Simpson: Ready for Christmas, shopaholics?\",\n",
            "    \"R_0: \\\"Adult Lisa: Too much sodium.\\\"\"\n",
            "  ]\n",
            "}\"\n"
          ]
        },
        {
          "output_type": "stream",
          "name": "stderr",
          "text": [
            "INFO:werkzeug:127.0.0.1 - - [25/Feb/2024 09:02:09] \"DELETE /clear HTTP/1.1\" 200 -\n"
          ]
        },
        {
          "output_type": "stream",
          "name": "stdout",
          "text": [
            "=================================================================\n",
            "\n"
          ]
        },
        {
          "output_type": "stream",
          "name": "stderr",
          "text": [
            "DEBUG:chat_util_module:find_top_n_unique_cosine_sim_bi_plus_cross_enc - старт выполнения\n",
            "DEBUG:chat_util_module:Query: Ready for Christmas, shopaholics?\n",
            "DEBUG:chat_util_module:User: Ivan Ivanov\n",
            "DEBUG:chat_util_module:Enriched query: R_1: \"Ivan Ivanov: Ready for Christmas, shopaholics?\"\n",
            "DEBUG:chat_util_module:find_top_n_unique_cosine_sim - get cosine similarities\n",
            "DEBUG:chat_util_module:find_top_n_unique_cosine_sim - sorting\n",
            "DEBUG:chat_util_module:find_top_n_unique_cosine_sim - сделано\n",
            "DEBUG:chat_util_module:Лучшие значение схожести векторов: [0.9740205, 0.97380316, 0.97369784, 0.9736255, 0.97351354, 0.97334576, 0.97333914, 0.9732538]\n",
            "DEBUG:chat_util_module:Лучшие соответствия (реплики из тестового набора): [{'premise_updated_col': 'R_1: \"Bart Simpson: All right, I\\'m sick of waiting.\"', 'target_char_answer_col': 'R_0: \"Lisa Simpson: Bart! You know you can\\'t open a present till Mom and Dad wake up!\"'}, {'premise_updated_col': 'R_1: \"Bart Simpson: One time I swung all the way around.\"', 'target_char_answer_col': 'R_0: \"Lisa Simpson: (AFFECTIONATE) You did not.\"'}, {'premise_updated_col': 'R_1: \"Bart Simpson: So, basically, I met one nice French person.\"', 'target_char_answer_col': 'R_0: \"Lisa Simpson: Bart, I have something to say that\\'s gonna bother me if I don\\'t say it... It\\'s good to see you.\"'}, {'premise_updated_col': 'R_1: \"Marge Simpson: (CONFUSED MURMUR) I\\'ve never noticed that sign before, and I\\'m a very good noticer.\"', 'target_char_answer_col': 'R_0: \"Lisa Simpson: They must have just made this a toll road.\"'}, {'premise_updated_col': 'R_1: \"Nelson Muntz: This is for wasting teacher\\'s valuable time.\"', 'target_char_answer_col': 'R_0: \"Lisa Simpson: Lay off, guys. He\\'s with me.\"'}, {'premise_updated_col': 'R_1: \"Bart Simpson: Lis, I don\\'t get it. Why does Milhouse\\'s happiness make me sad?\"', 'target_char_answer_col': 'R_0: \"Lisa Simpson: Bart, Bart, Bart. You\\'re worried you\\'re losing Milhouse. And love is a selfish thing.\"'}, {'premise_updated_col': 'R_1: \"Evan Marriott: I don\\'t have a cherry orchard.\"', 'target_char_answer_col': 'R_0: \"Lisa Simpson: Sir Ian McKellen! You\\'re my favorite Shakespearean actor!\"'}, {'premise_updated_col': 'R_1: \"Kent Brockman: Our top story: Killer dolphins.\"', 'target_char_answer_col': 'R_0: \"Lisa Simpson: Killer dolphins?\"'}]\n",
            "DEBUG:chat_util_module:unique_top_answers: ['R_0: \"Lisa Simpson: Bart! You know you can\\'t open a present till Mom and Dad wake up!\"', 'R_0: \"Lisa Simpson: (AFFECTIONATE) You did not.\"', 'R_0: \"Lisa Simpson: Bart, I have something to say that\\'s gonna bother me if I don\\'t say it... It\\'s good to see you.\"', 'R_0: \"Lisa Simpson: They must have just made this a toll road.\"', 'R_0: \"Lisa Simpson: Lay off, guys. He\\'s with me.\"', 'R_0: \"Lisa Simpson: Bart, Bart, Bart. You\\'re worried you\\'re losing Milhouse. And love is a selfish thing.\"', 'R_0: \"Lisa Simpson: Sir Ian McKellen! You\\'re my favorite Shakespearean actor!\"', 'R_0: \"Lisa Simpson: Killer dolphins?\"']\n",
            "DEBUG:chat_util_module:Тело ответа top_cos_sim_bi_cr: ['Ivan Ivanov: Ready for Christmas, shopaholics?', 'R_0: \"Lisa Simpson: Bart! You know you can\\'t open a present till Mom and Dad wake up!\"']\n",
            "INFO:werkzeug:127.0.0.1 - - [25/Feb/2024 09:02:24] \"POST /top_cos_sim_bi_cr HTTP/1.1\" 200 -\n"
          ]
        },
        {
          "output_type": "stream",
          "name": "stdout",
          "text": [
            "3 \"/top_cos_sim_bi_cr\" запрос:\"{\"query\": \"Ready for Christmas, shopaholics?\", \"user\": \"Ivan Ivanov\"}\" > ответ:\"{\n",
            "  \"response\": [\n",
            "    \"Ivan Ivanov: Ready for Christmas, shopaholics?\",\n",
            "    \"R_0: \\\"Lisa Simpson: Bart! You know you can't open a present till Mom and Dad wake up!\\\"\"\n",
            "  ]\n",
            "}\"\n"
          ]
        },
        {
          "output_type": "stream",
          "name": "stderr",
          "text": [
            "INFO:werkzeug:127.0.0.1 - - [25/Feb/2024 09:02:24] \"DELETE /clear HTTP/1.1\" 200 -\n"
          ]
        },
        {
          "output_type": "stream",
          "name": "stdout",
          "text": [
            "---\n"
          ]
        },
        {
          "output_type": "stream",
          "name": "stderr",
          "text": [
            "DEBUG:chat_util_module:find_top_n_unique_l2_bi_plus_cross_enc - старт выполнения\n",
            "DEBUG:chat_util_module:find_top_n_unique_l2 - get indices\n",
            "DEBUG:chat_util_module:find_top_n_unique_l2 - sorting\n",
            "DEBUG:chat_util_module:Лучшие соответствия (реплики из тестового набора): [{'premise_updated_col': 'R_1: \"Bart Simpson: Lis, I don\\'t get it. Why does Milhouse\\'s happiness make me sad?\"', 'target_char_answer_col': 'R_0: \"Lisa Simpson: Bart, Bart, Bart. You\\'re worried you\\'re losing Milhouse. And love is a selfish thing.\"'}, {'premise_updated_col': 'R_1: \"Bart Simpson: All right, I\\'m sick of waiting.\"', 'target_char_answer_col': 'R_0: \"Lisa Simpson: Bart! You know you can\\'t open a present till Mom and Dad wake up!\"'}, {'premise_updated_col': 'R_1: \"Bart Simpson: So, basically, I met one nice French person.\"', 'target_char_answer_col': 'R_0: \"Lisa Simpson: Bart, I have something to say that\\'s gonna bother me if I don\\'t say it... It\\'s good to see you.\"'}, {'premise_updated_col': 'R_1: \"Evan Marriott: I don\\'t have a cherry orchard.\"', 'target_char_answer_col': 'R_0: \"Lisa Simpson: Sir Ian McKellen! You\\'re my favorite Shakespearean actor!\"'}, {'premise_updated_col': 'R_1: \"Marge Simpson: (CONFUSED MURMUR) I\\'ve never noticed that sign before, and I\\'m a very good noticer.\"', 'target_char_answer_col': 'R_0: \"Lisa Simpson: They must have just made this a toll road.\"'}, {'premise_updated_col': 'R_1: \"Bart Simpson: One time I swung all the way around.\"', 'target_char_answer_col': 'R_0: \"Lisa Simpson: (AFFECTIONATE) You did not.\"'}, {'premise_updated_col': 'R_1: \"Bart Simpson: (SPUTTERING) Wow. I\\'m sorry I doubted you before, Dad.\"', 'target_char_answer_col': 'R_0: \"Lisa Simpson: If there has to be a bastardized version of Krusty, I\\'m glad it\\'s you.\"'}, {'premise_updated_col': 'R_1: \"Nelson Muntz: This is for wasting teacher\\'s valuable time.\"', 'target_char_answer_col': 'R_0: \"Lisa Simpson: Lay off, guys. He\\'s with me.\"'}]\n",
            "DEBUG:chat_util_module:find_top_n_unique_l2 - сделано\n",
            "DEBUG:chat_util_module:Тело ответа top_l2_bi_cr: ['Ivan Ivanov: Ready for Christmas, shopaholics?', 'R_0: \"Lisa Simpson: Bart, Bart, Bart. You\\'re worried you\\'re losing Milhouse. And love is a selfish thing.\"']\n",
            "INFO:werkzeug:127.0.0.1 - - [25/Feb/2024 09:02:32] \"POST /top_l2_bi_cr HTTP/1.1\" 200 -\n"
          ]
        },
        {
          "output_type": "stream",
          "name": "stdout",
          "text": [
            "3 \"/top_l2_bi_cr\" запрос:\"{\"query\": \"Ready for Christmas, shopaholics?\", \"user\": \"Ivan Ivanov\"}\" > ответ:\"{\n",
            "  \"response\": [\n",
            "    \"Ivan Ivanov: Ready for Christmas, shopaholics?\",\n",
            "    \"R_0: \\\"Lisa Simpson: Bart, Bart, Bart. You're worried you're losing Milhouse. And love is a selfish thing.\\\"\"\n",
            "  ]\n",
            "}\"\n"
          ]
        },
        {
          "output_type": "stream",
          "name": "stderr",
          "text": [
            "INFO:werkzeug:127.0.0.1 - - [25/Feb/2024 09:02:32] \"DELETE /clear HTTP/1.1\" 200 -\n"
          ]
        },
        {
          "output_type": "stream",
          "name": "stdout",
          "text": [
            "---\n"
          ]
        },
        {
          "output_type": "stream",
          "name": "stderr",
          "text": [
            "DEBUG:chat_util_module:find_top_n_unique_l2_psa_bi_plus_cross_enc - старт выполнения\n",
            "DEBUG:chat_util_module:find_top_n_unique_l2_psa - get indices\n",
            "DEBUG:chat_util_module:find_top_n_unique_l2_psa - sorting\n",
            "DEBUG:chat_util_module:find unique\n",
            "DEBUG:chat_util_module:Лучшие соответствия (реплики из тестового набора): [{'premise_updated_col': 'R_3: \"Homer Simpson: What\\'s your problem?\"; R_2: \"Lisa Simpson: (SULLEN) Whacking Day is coming.\"; R_1: \"Homer Simpson: Woo hoo! The greatest day of the year.\"', 'target_char_answer_col': 'R_0: \"Lisa Simpson: But killing snakes is evil.\"'}, {'premise_updated_col': 'R_3: \"Homer Simpson: Gimme a banana.\"; R_2: \"Lisa Simpson: I don\\'t have any banana.\"; R_1: \"Homer Simpson: Come on, you\\'re holding out on me.\"', 'target_char_answer_col': 'R_0: \"Lisa Simpson: I\\'m sorry I called you a baboon, Dad.\"'}, {'premise_updated_col': 'R_3: \"Bart Simpson: Shut up! I don\\'t love Milhouse.\"; R_2: \"Lisa Simpson: Oh really? The more you deny it, the more I know it\\'s true.\"; R_1: \"Bart Simpson: Oh yeah? (TEASING) Well when you\\'re mean, I\\'m a trampoline, so everything you said goes back and hits your ugly head.\"', 'target_char_answer_col': 'R_0: \"Lisa Simpson: (LAUGHING) God, that was lame! Where did you get that?!\"'}, {'premise_updated_col': 'R_3: \"Bart Simpson: You got it.\"; R_2: \"Lisa Simpson: Become like an uncarved stone.\"; R_1: \"Bart Simpson: Done.\"', 'target_char_answer_col': 'R_0: \"Lisa Simpson: Bart! You\\'re just pretending to know what I\\'m talking about.\"'}, {'premise_updated_col': 'R_3: \"Homer Simpson: Here you go.\"; R_2: \"Lisa Simpson: This whole morning has been wonderful. (TO BART, SUSPICIOUS) Too wonderful.\"; R_1: \"Bart Simpson: (SCARED) You\\'re right, this is it. They\\'re selling us to be crash test dummies.\"', 'target_char_answer_col': 'R_0: \"Lisa Simpson: (SCARED) Oh, please let it be Volvo.\"'}, {'premise_updated_col': 'R_3: \"Homer Simpson: (CALLING) Sweetie, if we didn\\'t turn it down for the cops, what chance do you have? (LAUGHS) He hit her again.\"; R_2: \"Lisa Simpson: (MUTTERING) Stupid, inconsiderate bunch of jerks... I can\\'t believe, after I...\"; R_1: \"RASPY VOICE: Losing your marbles, huh, kid?\"', 'target_char_answer_col': 'R_0: \"Lisa Simpson: (SHORT SCREAM, THEN) Lucy?\"'}, {'premise_updated_col': 'R_3: \"SHARY: It\\'s eight o\\'clock, children. Time for bed.\"; R_2: \"Lisa Simpson: But we\\'re not sleepy.\"; R_1: \"Bart Simpson: Sing us a song, Shary Bobbins.\"', 'target_char_answer_col': 'R_0: \"Lisa Simpson: Yes, sing us a song!\"'}, {'premise_updated_col': 'R_3: \"Homer Simpson: Absolutely, sweetie.\"; R_2: \"Lisa Simpson: And you\\'re not doing it out of spite?\"; R_1: \"Homer Simpson: No, of course not. Now aim for your mother\\'s heart. (POINTING TO OTHER END OF COURT)\"', 'target_char_answer_col': 'R_0: \"Lisa Simpson: (GASP) Dad, I don\\'t want to enter the tournament just to hurt Mom.\"'}]\n",
            "DEBUG:chat_util_module:find_top_n_unique_l2_psa - сделано\n",
            "DEBUG:chat_util_module:Тело ответа top_l2_psa_bi_cr: ['Ivan Ivanov: Ready for Christmas, shopaholics?', 'R_0: \"Lisa Simpson: But killing snakes is evil.\"']\n",
            "INFO:werkzeug:127.0.0.1 - - [25/Feb/2024 09:02:39] \"POST /top_l2_psa_bi_cr HTTP/1.1\" 200 -\n"
          ]
        },
        {
          "output_type": "stream",
          "name": "stdout",
          "text": [
            "3 \"/top_l2_psa_bi_cr\" запрос:\"{\"query\": \"Ready for Christmas, shopaholics?\", \"user\": \"Ivan Ivanov\"}\" > ответ:\"{\n",
            "  \"response\": [\n",
            "    \"Ivan Ivanov: Ready for Christmas, shopaholics?\",\n",
            "    \"R_0: \\\"Lisa Simpson: But killing snakes is evil.\\\"\"\n",
            "  ]\n",
            "}\"\n"
          ]
        },
        {
          "output_type": "stream",
          "name": "stderr",
          "text": [
            "INFO:werkzeug:127.0.0.1 - - [25/Feb/2024 09:02:40] \"DELETE /clear HTTP/1.1\" 200 -\n"
          ]
        },
        {
          "output_type": "stream",
          "name": "stdout",
          "text": [
            "---\n"
          ]
        },
        {
          "output_type": "stream",
          "name": "stderr",
          "text": [
            "DEBUG:chat_util_module:find_similar_answers_cross_enc - старт выполнения\n",
            "DEBUG:chat_util_module:Лучшие соответствия (реплики из тестового набора): [{'premise_updated_col': 'R_3: \"Adult Lisa: Lisa Simpson, the following people want to friend you.\"; R_2: \"Adult Lisa: (PRESSING BUTTONS) Ignore, ignore, ignore... Ooh, Martin Prince is now \"Marcia Princess?\" (SLIGHT GIGGLE, THEN DETERMINED) No, I\\'ve got to find Zia.\"; R_1: \"Adult Nelson: Hey, Lis. Is your marriage still dead and unfulfilled?\"', 'target_char_answer_col': 'R_0: \"Adult Lisa: Not a good time.\"'}, {'premise_updated_col': 'R_3: \"Adult Bart: Maybe it\\'s the court-mandated sincerity chip I\\'ve got in my brain. But Lis... you\\'re the person I always wanted to be.\"; R_2: \"Adult Bart: I gotta reconnect with those boys.\"; R_1: \"Adult Lisa: Godspeed, Bart. I\\'m gonna go apologize to Mom!\"', 'target_char_answer_col': 'R_0: \"Adult Lisa: How do I get down?\"'}, {'premise_updated_col': 'R_3: \"Adult Bart: (HUGE LAUGH, THEN:) Sorry.\"; R_2: \"Adult Lisa: (SHRUG) \\'S okay. But you know who took her side? Marge (STRETCHING IT OUT) Boooouuuuvier Simpson!\"; R_1: \"Adult Bart: Wha\\'d-she-do?\"', 'target_char_answer_col': 'R_0: \"Adult Lisa: She told me to relax and bake cookies!\"'}, {'premise_updated_col': 'R_2: \"Adult Lisa: (TO HERSELF) Hands off, hands off. Eh, screw it! Sometimes a mother\\'s job is to butt in.\"; R_1: \"Marge Simpson: Lisa...\"', 'target_char_answer_col': 'R_0: \"Adult Lisa: Butt out.\"'}, {'premise_updated_col': 'R_3: \"ZOMBIE MILHOUSE: (QUICKLY LIKE A HOPEFUL KID) Brains? Brains?\"; R_2: \"Adult Lisa: (PULLS OUT PACKAGE) Garden brains.\"; R_1: \"ZOMBIE MILHOUSE: (STILL QUICK AND HOPEFUL) Spicy Mexican garden brains?\"', 'target_char_answer_col': 'R_0: \"Adult Lisa: Too much sodium.\"'}, {'premise_updated_col': 'R_3: \"Zombie: Brains!\"; R_2: \"Adult Lisa: Actually, Terrence, this is a synthetic substance. Devised for zombie vegans, or \"Zegans.\"\"; R_1: \"Terrence: (ZOMBIE-LIKE) Meh.\"', 'target_char_answer_col': 'R_0: \"Adult Lisa: What are you doing here?\"'}, {'premise_updated_col': 'R_3: \"Teenage Milhouse: Not going to Yale isn\\'t the end of the world.\"; R_2: \"Teenage Lisa: (PERKING UP) Yeah, I\\'m starting to see that.\"; R_1: \"Teenage Milhouse: No, I mean, you\\'re screwed! Your only hope is to clutch at straws! (WAGGING EYEBROWS) Straws who\\'ve always loved you.\"', 'target_char_answer_col': 'R_0: \"Teenage Lisa: (VULNERABLE) Really?\"'}, {'premise_updated_col': 'R_1: \"Jenda: Your brother is so hot.\"', 'target_char_answer_col': 'R_0: \"Teenage Lisa: Stop telling me that.\"'}]\n",
            "DEBUG:chat_util_module:find_similar_answers_cross_enc - сделано\n",
            "DEBUG:chat_util_module:Тело ответа top_cr: ['Ivan Ivanov: Ready for Christmas, shopaholics?', 'R_0: \"Adult Lisa: Not a good time.\"']\n",
            "INFO:werkzeug:127.0.0.1 - - [25/Feb/2024 09:02:48] \"POST /top_cr HTTP/1.1\" 200 -\n"
          ]
        },
        {
          "output_type": "stream",
          "name": "stdout",
          "text": [
            "3 \"/top_cr\" запрос:\"{\"query\": \"Ready for Christmas, shopaholics?\", \"user\": \"Ivan Ivanov\"}\" > ответ:\"{\n",
            "  \"response\": [\n",
            "    \"Ivan Ivanov: Ready for Christmas, shopaholics?\",\n",
            "    \"R_0: \\\"Adult Lisa: Not a good time.\\\"\"\n",
            "  ]\n",
            "}\"\n"
          ]
        },
        {
          "output_type": "stream",
          "name": "stderr",
          "text": [
            "INFO:werkzeug:127.0.0.1 - - [25/Feb/2024 09:02:48] \"DELETE /clear HTTP/1.1\" 200 -\n"
          ]
        },
        {
          "output_type": "stream",
          "name": "stdout",
          "text": [
            "=================================================================\n",
            "\n"
          ]
        },
        {
          "output_type": "stream",
          "name": "stderr",
          "text": [
            "DEBUG:chat_util_module:find_top_n_unique_cosine_sim_bi_plus_cross_enc - старт выполнения\n",
            "DEBUG:chat_util_module:Query: Write a letter to Santa to Russia to Veliky Ustyug.\n",
            "DEBUG:chat_util_module:User: Ivan Ivanov\n",
            "DEBUG:chat_util_module:Enriched query: R_1: \"Ivan Ivanov: Write a letter to Santa to Russia to Veliky Ustyug.\"\n",
            "DEBUG:chat_util_module:find_top_n_unique_cosine_sim - get cosine similarities\n",
            "DEBUG:chat_util_module:find_top_n_unique_cosine_sim - sorting\n",
            "DEBUG:chat_util_module:find_top_n_unique_cosine_sim - сделано\n",
            "DEBUG:chat_util_module:Лучшие значение схожести векторов: [0.95485723, 0.95381856, 0.9516765, 0.949909, 0.94970936, 0.9486817, 0.94810617, 0.9467026]\n",
            "DEBUG:chat_util_module:Лучшие соответствия (реплики из тестового набора): [{'premise_updated_col': 'R_1: \"Seymour Skinner: Behold, children. The majesty of Springfield Glacier! Crane your necks skyward to behold its icy glory.\"', 'target_char_answer_col': 'R_0: \"Lisa Simpson: What happened to the glacier? It\\'s nearly melted. (GASP, POINTS TO GLACIER) This must be due to global warming!\"'}, {'premise_updated_col': 'R_1: \"Marge Simpson: God wants you to lead the French army to what?\"', 'target_char_answer_col': 'R_0: \"Lisa Simpson: Victory.\"'}, {'premise_updated_col': 'R_1: \"C. Montgomery Burns: (MOANS) The sheep was no danger at all. I sacrificed my gorgeous body for nothing. This must be what it\\'s like to have a baby.\"', 'target_char_answer_col': 'R_0: \"Lisa Simpson: I want a photo of the hero who risked his life to save me!\"'}, {'premise_updated_col': 'R_1: \"Milhouse Van Houten: So by waking up a little early and having some extra sheets handy, no one\\'s the wiser. Tomorrow, destroying the evidence.\"', 'target_char_answer_col': 'R_0: \"Lisa Simpson: Eww. (THEN, CHIPPER) Thank you, Milhouse. Now it\\'s time for today\\'s special live edition of Bart\\'s People.\"'}, {'premise_updated_col': 'R_1: \"Juliet Hobbes: This is where we\\'ll live.\"', 'target_char_answer_col': 'R_0: \"Lisa Simpson: How did you find this place?\"'}, {'premise_updated_col': 'R_1: \"Rev. Timothy Lovejoy: Now Marge, I-I know things look bleak, but it should comfort you to know we have this plaque ready to go.\"', 'target_char_answer_col': 'R_0: \"Lisa Simpson: Hey, I know how we can save Bart.\"'}, {'premise_updated_col': 'R_1: \"Juliet Hobbes: Well, it looks like we\\'re safe.\"', 'target_char_answer_col': 'R_0: \"Lisa Simpson: Looks like. Juliet, I don\\'t want to go to Equalia anymore.\"'}, {'premise_updated_col': 'R_1: \"Homer Simpson: You know what will cool this place down? A little touch of winter.\"', 'target_char_answer_col': 'R_0: \"Lisa Simpson: Dad, no. We\\'re trying to conserve energy.\"'}]\n",
            "DEBUG:chat_util_module:unique_top_answers: ['R_0: \"Lisa Simpson: What happened to the glacier? It\\'s nearly melted. (GASP, POINTS TO GLACIER) This must be due to global warming!\"', 'R_0: \"Lisa Simpson: Victory.\"', 'R_0: \"Lisa Simpson: I want a photo of the hero who risked his life to save me!\"', 'R_0: \"Lisa Simpson: Eww. (THEN, CHIPPER) Thank you, Milhouse. Now it\\'s time for today\\'s special live edition of Bart\\'s People.\"', 'R_0: \"Lisa Simpson: How did you find this place?\"', 'R_0: \"Lisa Simpson: Hey, I know how we can save Bart.\"', 'R_0: \"Lisa Simpson: Looks like. Juliet, I don\\'t want to go to Equalia anymore.\"', 'R_0: \"Lisa Simpson: Dad, no. We\\'re trying to conserve energy.\"']\n",
            "DEBUG:chat_util_module:Тело ответа top_cos_sim_bi_cr: ['Ivan Ivanov: Write a letter to Santa to Russia to Veliky Ustyug.', 'R_0: \"Lisa Simpson: What happened to the glacier? It\\'s nearly melted. (GASP, POINTS TO GLACIER) This must be due to global warming!\"']\n",
            "INFO:werkzeug:127.0.0.1 - - [25/Feb/2024 09:03:03] \"POST /top_cos_sim_bi_cr HTTP/1.1\" 200 -\n"
          ]
        },
        {
          "output_type": "stream",
          "name": "stdout",
          "text": [
            "4 \"/top_cos_sim_bi_cr\" запрос:\"{\"query\": \"Write a letter to Santa to Russia to Veliky Ustyug.\", \"user\": \"Ivan Ivanov\"}\" > ответ:\"{\n",
            "  \"response\": [\n",
            "    \"Ivan Ivanov: Write a letter to Santa to Russia to Veliky Ustyug.\",\n",
            "    \"R_0: \\\"Lisa Simpson: What happened to the glacier? It's nearly melted. (GASP, POINTS TO GLACIER) This must be due to global warming!\\\"\"\n",
            "  ]\n",
            "}\"\n"
          ]
        },
        {
          "output_type": "stream",
          "name": "stderr",
          "text": [
            "INFO:werkzeug:127.0.0.1 - - [25/Feb/2024 09:03:03] \"DELETE /clear HTTP/1.1\" 200 -\n"
          ]
        },
        {
          "output_type": "stream",
          "name": "stdout",
          "text": [
            "---\n"
          ]
        },
        {
          "output_type": "stream",
          "name": "stderr",
          "text": [
            "DEBUG:chat_util_module:find_top_n_unique_l2_bi_plus_cross_enc - старт выполнения\n",
            "DEBUG:chat_util_module:find_top_n_unique_l2 - get indices\n",
            "DEBUG:chat_util_module:find_top_n_unique_l2 - sorting\n",
            "DEBUG:chat_util_module:Лучшие соответствия (реплики из тестового набора): [{'premise_updated_col': 'R_1: \"Seymour Skinner: Behold, children. The majesty of Springfield Glacier! Crane your necks skyward to behold its icy glory.\"', 'target_char_answer_col': 'R_0: \"Lisa Simpson: What happened to the glacier? It\\'s nearly melted. (GASP, POINTS TO GLACIER) This must be due to global warming!\"'}, {'premise_updated_col': 'R_1: \"Marge Simpson: God wants you to lead the French army to what?\"', 'target_char_answer_col': 'R_0: \"Lisa Simpson: Victory.\"'}, {'premise_updated_col': 'R_1: \"C. Montgomery Burns: (MOANS) The sheep was no danger at all. I sacrificed my gorgeous body for nothing. This must be what it\\'s like to have a baby.\"', 'target_char_answer_col': 'R_0: \"Lisa Simpson: I want a photo of the hero who risked his life to save me!\"'}, {'premise_updated_col': 'R_1: \"Milhouse Van Houten: So by waking up a little early and having some extra sheets handy, no one\\'s the wiser. Tomorrow, destroying the evidence.\"', 'target_char_answer_col': 'R_0: \"Lisa Simpson: Eww. (THEN, CHIPPER) Thank you, Milhouse. Now it\\'s time for today\\'s special live edition of Bart\\'s People.\"'}, {'premise_updated_col': 'R_1: \"Milhouse Van Houten: (READING) ...I could never even look at Eliza again. (SHUTS DIARY) It didn\\'t help that the next day he drank bad well water and went blind.\"', 'target_char_answer_col': 'R_0: \"Lisa Simpson: No! You lie! Eliza Simpson can\\'t be a coward! She\\'s the only decent ancestor I have.\"'}, {'premise_updated_col': 'R_1: \"Rev. Timothy Lovejoy: Now Marge, I-I know things look bleak, but it should comfort you to know we have this plaque ready to go.\"', 'target_char_answer_col': 'R_0: \"Lisa Simpson: Hey, I know how we can save Bart.\"'}, {'premise_updated_col': 'R_1: \"Juliet Hobbes: This is where we\\'ll live.\"', 'target_char_answer_col': 'R_0: \"Lisa Simpson: How did you find this place?\"'}, {'premise_updated_col': 'R_1: \"Juliet Hobbes: Well, it looks like we\\'re safe.\"', 'target_char_answer_col': 'R_0: \"Lisa Simpson: Looks like. Juliet, I don\\'t want to go to Equalia anymore.\"'}]\n",
            "DEBUG:chat_util_module:find_top_n_unique_l2 - сделано\n",
            "DEBUG:chat_util_module:Тело ответа top_l2_bi_cr: ['Ivan Ivanov: Write a letter to Santa to Russia to Veliky Ustyug.', 'R_0: \"Lisa Simpson: What happened to the glacier? It\\'s nearly melted. (GASP, POINTS TO GLACIER) This must be due to global warming!\"']\n",
            "INFO:werkzeug:127.0.0.1 - - [25/Feb/2024 09:03:10] \"POST /top_l2_bi_cr HTTP/1.1\" 200 -\n"
          ]
        },
        {
          "output_type": "stream",
          "name": "stdout",
          "text": [
            "4 \"/top_l2_bi_cr\" запрос:\"{\"query\": \"Write a letter to Santa to Russia to Veliky Ustyug.\", \"user\": \"Ivan Ivanov\"}\" > ответ:\"{\n",
            "  \"response\": [\n",
            "    \"Ivan Ivanov: Write a letter to Santa to Russia to Veliky Ustyug.\",\n",
            "    \"R_0: \\\"Lisa Simpson: What happened to the glacier? It's nearly melted. (GASP, POINTS TO GLACIER) This must be due to global warming!\\\"\"\n",
            "  ]\n",
            "}\"\n"
          ]
        },
        {
          "output_type": "stream",
          "name": "stderr",
          "text": [
            "INFO:werkzeug:127.0.0.1 - - [25/Feb/2024 09:03:11] \"DELETE /clear HTTP/1.1\" 200 -\n"
          ]
        },
        {
          "output_type": "stream",
          "name": "stdout",
          "text": [
            "---\n"
          ]
        },
        {
          "output_type": "stream",
          "name": "stderr",
          "text": [
            "DEBUG:chat_util_module:find_top_n_unique_l2_psa_bi_plus_cross_enc - старт выполнения\n",
            "DEBUG:chat_util_module:find_top_n_unique_l2_psa - get indices\n",
            "DEBUG:chat_util_module:find_top_n_unique_l2_psa - sorting\n",
            "DEBUG:chat_util_module:find unique\n",
            "DEBUG:chat_util_module:Лучшие соответствия (реплики из тестового набора): [{'premise_updated_col': 'R_3: \"Bart Simpson: You got it.\"; R_2: \"Lisa Simpson: Become like an uncarved stone.\"; R_1: \"Bart Simpson: Done.\"', 'target_char_answer_col': 'R_0: \"Lisa Simpson: Bart! You\\'re just pretending to know what I\\'m talking about.\"'}, {'premise_updated_col': 'R_3: \"Homer Simpson: Here you go.\"; R_2: \"Lisa Simpson: This whole morning has been wonderful. (TO BART, SUSPICIOUS) Too wonderful.\"; R_1: \"Bart Simpson: (SCARED) You\\'re right, this is it. They\\'re selling us to be crash test dummies.\"', 'target_char_answer_col': 'R_0: \"Lisa Simpson: (SCARED) Oh, please let it be Volvo.\"'}, {'premise_updated_col': 'R_3: \"Homer Simpson: What\\'s your problem?\"; R_2: \"Lisa Simpson: (SULLEN) Whacking Day is coming.\"; R_1: \"Homer Simpson: Woo hoo! The greatest day of the year.\"', 'target_char_answer_col': 'R_0: \"Lisa Simpson: But killing snakes is evil.\"'}, {'premise_updated_col': 'R_3: \"Homer Simpson: (WAKING UP) Huh? Wuh? Lisa? What\\'s up?\"; R_2: \"Lisa Simpson: I just had a bad dream.\"; R_1: \"Homer Simpson: Aw, sure... you just lie down and tell me all about it.\"', 'target_char_answer_col': 'R_0: \"Lisa Simpson: Well, I know it\\'s absurd, but I dreamed the Boogeyman was after me and he\\'s hiding...\"'}, {'premise_updated_col': 'R_3: \"Homer Simpson: Gimme a banana.\"; R_2: \"Lisa Simpson: I don\\'t have any banana.\"; R_1: \"Homer Simpson: Come on, you\\'re holding out on me.\"', 'target_char_answer_col': 'R_0: \"Lisa Simpson: I\\'m sorry I called you a baboon, Dad.\"'}, {'premise_updated_col': 'R_3: \"Homer Simpson: (HUGE) What?!\"; R_2: \"Lisa Simpson: American corporations should stop playing God with nature.\"; R_1: \"Marge Simpson: There\\'s nothing to be afraid of. They\\'re all grown by the vegetable division of Union Carbide.\"', 'target_char_answer_col': 'R_0: \"Lisa Simpson: Mom, my potato is eating a carrot!\"'}, {'premise_updated_col': 'R_3: \"Bart Simpson: Oh, man.\"; R_2: \"Lisa Simpson: Keep your greasy mitts outta there.\"; R_1: \"Marge Simpson: These are for Lisa\\'s class.\"', 'target_char_answer_col': 'R_0: \"Lisa Simpson: It\\'s Mrs. Hoover\\'s birthday!\"'}, {'premise_updated_col': 'R_3: \"Homer Simpson: Woo hoo!\"; R_2: \"Lisa Simpson: Guys, stop throwing things in the hole -- the more you throw in, the bigger and more dangerous it becomes!\"; R_1: \"Homer Simpson: (TO LISA) Come on, you can\\'t look at that infinitely dense little guy and not want to feed it something!\"', 'target_char_answer_col': 'R_0: \"Lisa Simpson: Dad, don\\'t pat it!\"'}]\n",
            "DEBUG:chat_util_module:find_top_n_unique_l2_psa - сделано\n",
            "DEBUG:chat_util_module:Тело ответа top_l2_psa_bi_cr: ['Ivan Ivanov: Write a letter to Santa to Russia to Veliky Ustyug.', 'R_0: \"Lisa Simpson: Bart! You\\'re just pretending to know what I\\'m talking about.\"']\n",
            "INFO:werkzeug:127.0.0.1 - - [25/Feb/2024 09:03:18] \"POST /top_l2_psa_bi_cr HTTP/1.1\" 200 -\n"
          ]
        },
        {
          "output_type": "stream",
          "name": "stdout",
          "text": [
            "4 \"/top_l2_psa_bi_cr\" запрос:\"{\"query\": \"Write a letter to Santa to Russia to Veliky Ustyug.\", \"user\": \"Ivan Ivanov\"}\" > ответ:\"{\n",
            "  \"response\": [\n",
            "    \"Ivan Ivanov: Write a letter to Santa to Russia to Veliky Ustyug.\",\n",
            "    \"R_0: \\\"Lisa Simpson: Bart! You're just pretending to know what I'm talking about.\\\"\"\n",
            "  ]\n",
            "}\"\n"
          ]
        },
        {
          "output_type": "stream",
          "name": "stderr",
          "text": [
            "INFO:werkzeug:127.0.0.1 - - [25/Feb/2024 09:03:18] \"DELETE /clear HTTP/1.1\" 200 -\n"
          ]
        },
        {
          "output_type": "stream",
          "name": "stdout",
          "text": [
            "---\n"
          ]
        },
        {
          "output_type": "stream",
          "name": "stderr",
          "text": [
            "DEBUG:chat_util_module:find_similar_answers_cross_enc - старт выполнения\n",
            "DEBUG:chat_util_module:Лучшие соответствия (реплики из тестового набора): [{'premise_updated_col': 'R_2: \"Adult Lisa: (TO HERSELF) Hands off, hands off. Eh, screw it! Sometimes a mother\\'s job is to butt in.\"; R_1: \"Marge Simpson: Lisa...\"', 'target_char_answer_col': 'R_0: \"Adult Lisa: Butt out.\"'}, {'premise_updated_col': 'R_3: \"Adult Lisa: Lisa Simpson, the following people want to friend you.\"; R_2: \"Adult Lisa: (PRESSING BUTTONS) Ignore, ignore, ignore... Ooh, Martin Prince is now \"Marcia Princess?\" (SLIGHT GIGGLE, THEN DETERMINED) No, I\\'ve got to find Zia.\"; R_1: \"Adult Nelson: Hey, Lis. Is your marriage still dead and unfulfilled?\"', 'target_char_answer_col': 'R_0: \"Adult Lisa: Not a good time.\"'}, {'premise_updated_col': 'R_3: \"Adult Bart: Maybe it\\'s the court-mandated sincerity chip I\\'ve got in my brain. But Lis... you\\'re the person I always wanted to be.\"; R_2: \"Adult Bart: I gotta reconnect with those boys.\"; R_1: \"Adult Lisa: Godspeed, Bart. I\\'m gonna go apologize to Mom!\"', 'target_char_answer_col': 'R_0: \"Adult Lisa: How do I get down?\"'}, {'premise_updated_col': 'R_3: \"ZOMBIE MILHOUSE: (QUICKLY LIKE A HOPEFUL KID) Brains? Brains?\"; R_2: \"Adult Lisa: (PULLS OUT PACKAGE) Garden brains.\"; R_1: \"ZOMBIE MILHOUSE: (STILL QUICK AND HOPEFUL) Spicy Mexican garden brains?\"', 'target_char_answer_col': 'R_0: \"Adult Lisa: Too much sodium.\"'}, {'premise_updated_col': 'R_3: \"Adult Bart: (HUGE LAUGH, THEN:) Sorry.\"; R_2: \"Adult Lisa: (SHRUG) \\'S okay. But you know who took her side? Marge (STRETCHING IT OUT) Boooouuuuvier Simpson!\"; R_1: \"Adult Bart: Wha\\'d-she-do?\"', 'target_char_answer_col': 'R_0: \"Adult Lisa: She told me to relax and bake cookies!\"'}, {'premise_updated_col': 'R_3: \"Adult Lisa: Now, where is the Google door?\"; R_2: \"Adult Lisa: Oh right, it\\'s Dr. Seuss\\'s birthday.\"; R_1: \"Adult Lisa: Google, even though you\\'ve enslaved half the world, you\\'re still a damn fine search engine.\"', 'target_char_answer_col': 'R_0: \"Adult Lisa: Bingo.\"'}, {'premise_updated_col': 'R_3: \"Marge Simpson: (\"CONSIDER THIS\") And even if we did have another baby, it might not be a boy. (SLY) It might be another sister.\"; R_2: \"Bart Simpson: Another sister!\"; R_1: \"Adult Bart: How could you possibly need all these clothes?\"', 'target_char_answer_col': 'R_0: \"Adult Lisa: Shopping: it\\'s the most fun you can have standing up.\"'}, {'premise_updated_col': 'R_3: \"Zombie: Brains!\"; R_2: \"Adult Lisa: Actually, Terrence, this is a synthetic substance. Devised for zombie vegans, or \"Zegans.\"\"; R_1: \"Terrence: (ZOMBIE-LIKE) Meh.\"', 'target_char_answer_col': 'R_0: \"Adult Lisa: What are you doing here?\"'}]\n",
            "DEBUG:chat_util_module:find_similar_answers_cross_enc - сделано\n",
            "DEBUG:chat_util_module:Тело ответа top_cr: ['Ivan Ivanov: Write a letter to Santa to Russia to Veliky Ustyug.', 'R_0: \"Adult Lisa: Butt out.\"']\n",
            "INFO:werkzeug:127.0.0.1 - - [25/Feb/2024 09:03:27] \"POST /top_cr HTTP/1.1\" 200 -\n"
          ]
        },
        {
          "output_type": "stream",
          "name": "stdout",
          "text": [
            "4 \"/top_cr\" запрос:\"{\"query\": \"Write a letter to Santa to Russia to Veliky Ustyug.\", \"user\": \"Ivan Ivanov\"}\" > ответ:\"{\n",
            "  \"response\": [\n",
            "    \"Ivan Ivanov: Write a letter to Santa to Russia to Veliky Ustyug.\",\n",
            "    \"R_0: \\\"Adult Lisa: Butt out.\\\"\"\n",
            "  ]\n",
            "}\"\n"
          ]
        },
        {
          "output_type": "stream",
          "name": "stderr",
          "text": [
            "INFO:werkzeug:127.0.0.1 - - [25/Feb/2024 09:03:27] \"DELETE /clear HTTP/1.1\" 200 -\n"
          ]
        },
        {
          "output_type": "stream",
          "name": "stdout",
          "text": [
            "=================================================================\n",
            "\n"
          ]
        },
        {
          "output_type": "stream",
          "name": "stderr",
          "text": [
            "DEBUG:chat_util_module:find_top_n_unique_cosine_sim_bi_plus_cross_enc - старт выполнения\n",
            "DEBUG:chat_util_module:Query: Good one, Dad.\n",
            "DEBUG:chat_util_module:User: Bart Simpson\n",
            "DEBUG:chat_util_module:Enriched query: R_1: \"Bart Simpson: Good one, Dad.\"\n",
            "DEBUG:chat_util_module:find_top_n_unique_cosine_sim - get cosine similarities\n",
            "DEBUG:chat_util_module:find_top_n_unique_cosine_sim - sorting\n",
            "DEBUG:chat_util_module:find_top_n_unique_cosine_sim - сделано\n",
            "DEBUG:chat_util_module:Лучшие значение схожести векторов: [0.99581796, 0.9947567, 0.9932072, 0.99269223, 0.9925963, 0.9922142, 0.9919808, 0.9919546]\n",
            "DEBUG:chat_util_module:Лучшие соответствия (реплики из тестового набора): [{'premise_updated_col': 'R_1: \"Bart Simpson: Come on, Mom.\"', 'target_char_answer_col': 'R_0: \"Lisa Simpson: Yeah, Mom, hurry up.\"'}, {'premise_updated_col': 'R_1: \"Bart Simpson: Boy, Dad seems awfully happy.\"', 'target_char_answer_col': 'R_0: \"Lisa Simpson: And there\\'s something different about him.\"'}, {'premise_updated_col': 'R_1: \"Bart Simpson: Oy, this guy\\'s tough.\"', 'target_char_answer_col': 'R_0: \"Lisa Simpson: Bart, we\\'re gonna have to out smart him.\"'}, {'premise_updated_col': 'R_1: \"Bart Simpson: Okay, I need the stupid lamb back.\"', 'target_char_answer_col': 'R_0: \"Lisa Simpson: (NERVOUS) He\\'s in here. Safe and sound. Let me just staple that bag for you.\"'}, {'premise_updated_col': 'R_1: \"Bart Simpson: Way to go, Dad!\"', 'target_char_answer_col': 'R_0: \"Lisa Simpson: The perfect kiss!\"'}, {'premise_updated_col': 'R_1: \"Bart Simpson: Hey, Lis, a moment of your time.\"', 'target_char_answer_col': 'R_0: \"Lisa Simpson: Yeah?\"'}, {'premise_updated_col': 'R_1: \"Bart Simpson: Hey Lis, there\\'s your boyfriend.\"', 'target_char_answer_col': 'R_0: \"Lisa Simpson: (TEASING) Oh yeah? Well, there\\'s your girlfriend.\"'}, {'premise_updated_col': 'R_1: \"Bart Simpson: I need something for Show and Tell.\"', 'target_char_answer_col': 'R_0: \"Lisa Simpson: Just take one of my geodes. (OFF HIS LOOK) The rocks on my desk.\"'}]\n",
            "DEBUG:chat_util_module:unique_top_answers: ['R_0: \"Lisa Simpson: Yeah, Mom, hurry up.\"', 'R_0: \"Lisa Simpson: And there\\'s something different about him.\"', 'R_0: \"Lisa Simpson: Bart, we\\'re gonna have to out smart him.\"', 'R_0: \"Lisa Simpson: (NERVOUS) He\\'s in here. Safe and sound. Let me just staple that bag for you.\"', 'R_0: \"Lisa Simpson: The perfect kiss!\"', 'R_0: \"Lisa Simpson: Yeah?\"', 'R_0: \"Lisa Simpson: (TEASING) Oh yeah? Well, there\\'s your girlfriend.\"', 'R_0: \"Lisa Simpson: Just take one of my geodes. (OFF HIS LOOK) The rocks on my desk.\"']\n",
            "DEBUG:chat_util_module:Тело ответа top_cos_sim_bi_cr: ['Bart Simpson: Good one, Dad.', 'R_0: \"Lisa Simpson: Yeah, Mom, hurry up.\"']\n",
            "INFO:werkzeug:127.0.0.1 - - [25/Feb/2024 09:03:42] \"POST /top_cos_sim_bi_cr HTTP/1.1\" 200 -\n"
          ]
        },
        {
          "output_type": "stream",
          "name": "stdout",
          "text": [
            "5 \"/top_cos_sim_bi_cr\" запрос:\"{\"query\": \"Good one, Dad.\", \"user\": \"Bart Simpson\"}\" > ответ:\"{\n",
            "  \"response\": [\n",
            "    \"Bart Simpson: Good one, Dad.\",\n",
            "    \"R_0: \\\"Lisa Simpson: Yeah, Mom, hurry up.\\\"\"\n",
            "  ]\n",
            "}\"\n"
          ]
        },
        {
          "output_type": "stream",
          "name": "stderr",
          "text": [
            "INFO:werkzeug:127.0.0.1 - - [25/Feb/2024 09:03:43] \"DELETE /clear HTTP/1.1\" 200 -\n"
          ]
        },
        {
          "output_type": "stream",
          "name": "stdout",
          "text": [
            "---\n"
          ]
        },
        {
          "output_type": "stream",
          "name": "stderr",
          "text": [
            "DEBUG:chat_util_module:find_top_n_unique_l2_bi_plus_cross_enc - старт выполнения\n",
            "DEBUG:chat_util_module:find_top_n_unique_l2 - get indices\n",
            "DEBUG:chat_util_module:find_top_n_unique_l2 - sorting\n",
            "DEBUG:chat_util_module:Лучшие соответствия (реплики из тестового набора): [{'premise_updated_col': 'R_1: \"Bart Simpson: Come on, Mom.\"', 'target_char_answer_col': 'R_0: \"Lisa Simpson: Yeah, Mom, hurry up.\"'}, {'premise_updated_col': 'R_1: \"Bart Simpson: Boy, Dad seems awfully happy.\"', 'target_char_answer_col': 'R_0: \"Lisa Simpson: And there\\'s something different about him.\"'}, {'premise_updated_col': 'R_1: \"Bart Simpson: Oy, this guy\\'s tough.\"', 'target_char_answer_col': 'R_0: \"Lisa Simpson: Bart, we\\'re gonna have to out smart him.\"'}, {'premise_updated_col': 'R_1: \"Bart Simpson: Okay, I need the stupid lamb back.\"', 'target_char_answer_col': 'R_0: \"Lisa Simpson: (NERVOUS) He\\'s in here. Safe and sound. Let me just staple that bag for you.\"'}, {'premise_updated_col': 'R_1: \"Bart Simpson: Way to go, Dad!\"', 'target_char_answer_col': 'R_0: \"Lisa Simpson: The perfect kiss!\"'}, {'premise_updated_col': 'R_1: \"Bart Simpson: I need something for Show and Tell.\"', 'target_char_answer_col': 'R_0: \"Lisa Simpson: Just take one of my geodes. (OFF HIS LOOK) The rocks on my desk.\"'}, {'premise_updated_col': 'R_1: \"Bart Simpson: Hey, Lis, a moment of your time.\"', 'target_char_answer_col': 'R_0: \"Lisa Simpson: Yeah?\"'}, {'premise_updated_col': 'R_1: \"Bart Simpson: Hey Lis, there\\'s your boyfriend.\"', 'target_char_answer_col': 'R_0: \"Lisa Simpson: (TEASING) Oh yeah? Well, there\\'s your girlfriend.\"'}]\n",
            "DEBUG:chat_util_module:find_top_n_unique_l2 - сделано\n",
            "DEBUG:chat_util_module:Тело ответа top_l2_bi_cr: ['Bart Simpson: Good one, Dad.', 'R_0: \"Lisa Simpson: Yeah, Mom, hurry up.\"']\n",
            "INFO:werkzeug:127.0.0.1 - - [25/Feb/2024 09:03:50] \"POST /top_l2_bi_cr HTTP/1.1\" 200 -\n"
          ]
        },
        {
          "output_type": "stream",
          "name": "stdout",
          "text": [
            "5 \"/top_l2_bi_cr\" запрос:\"{\"query\": \"Good one, Dad.\", \"user\": \"Bart Simpson\"}\" > ответ:\"{\n",
            "  \"response\": [\n",
            "    \"Bart Simpson: Good one, Dad.\",\n",
            "    \"R_0: \\\"Lisa Simpson: Yeah, Mom, hurry up.\\\"\"\n",
            "  ]\n",
            "}\"\n"
          ]
        },
        {
          "output_type": "stream",
          "name": "stderr",
          "text": [
            "INFO:werkzeug:127.0.0.1 - - [25/Feb/2024 09:03:50] \"DELETE /clear HTTP/1.1\" 200 -\n"
          ]
        },
        {
          "output_type": "stream",
          "name": "stdout",
          "text": [
            "---\n"
          ]
        },
        {
          "output_type": "stream",
          "name": "stderr",
          "text": [
            "DEBUG:chat_util_module:find_top_n_unique_l2_psa_bi_plus_cross_enc - старт выполнения\n",
            "DEBUG:chat_util_module:find_top_n_unique_l2_psa - get indices\n",
            "DEBUG:chat_util_module:find_top_n_unique_l2_psa - sorting\n",
            "DEBUG:chat_util_module:find unique\n",
            "DEBUG:chat_util_module:Лучшие соответствия (реплики из тестового набора): [{'premise_updated_col': 'R_3: \"Bart Simpson: You got it.\"; R_2: \"Lisa Simpson: Become like an uncarved stone.\"; R_1: \"Bart Simpson: Done.\"', 'target_char_answer_col': 'R_0: \"Lisa Simpson: Bart! You\\'re just pretending to know what I\\'m talking about.\"'}, {'premise_updated_col': 'R_3: \"Homer Simpson: (CALLING) Sweetie, if we didn\\'t turn it down for the cops, what chance do you have? (LAUGHS) He hit her again.\"; R_2: \"Lisa Simpson: (MUTTERING) Stupid, inconsiderate bunch of jerks... I can\\'t believe, after I...\"; R_1: \"RASPY VOICE: Losing your marbles, huh, kid?\"', 'target_char_answer_col': 'R_0: \"Lisa Simpson: (SHORT SCREAM, THEN) Lucy?\"'}, {'premise_updated_col': 'R_3: \"Homer Simpson: What\\'s your problem?\"; R_2: \"Lisa Simpson: (SULLEN) Whacking Day is coming.\"; R_1: \"Homer Simpson: Woo hoo! The greatest day of the year.\"', 'target_char_answer_col': 'R_0: \"Lisa Simpson: But killing snakes is evil.\"'}, {'premise_updated_col': 'R_3: \"Homer Simpson: Gimme a banana.\"; R_2: \"Lisa Simpson: I don\\'t have any banana.\"; R_1: \"Homer Simpson: Come on, you\\'re holding out on me.\"', 'target_char_answer_col': 'R_0: \"Lisa Simpson: I\\'m sorry I called you a baboon, Dad.\"'}, {'premise_updated_col': 'R_3: \"Bart Simpson: Shut up! I don\\'t love Milhouse.\"; R_2: \"Lisa Simpson: Oh really? The more you deny it, the more I know it\\'s true.\"; R_1: \"Bart Simpson: Oh yeah? (TEASING) Well when you\\'re mean, I\\'m a trampoline, so everything you said goes back and hits your ugly head.\"', 'target_char_answer_col': 'R_0: \"Lisa Simpson: (LAUGHING) God, that was lame! Where did you get that?!\"'}, {'premise_updated_col': 'R_3: \"Lisa Simpson: Okay, I finished the gardening sequence.\"; R_2: \"Homer Simpson: Okay, from here we star-wipe to a glamour shot of Flanders paying his bills...\"; R_1: \"Homer Simpson: Then we star-wipe to Flanders brushing his...\"', 'target_char_answer_col': 'R_0: \"Lisa Simpson: Dad, there are other wipes besides star-wipes.\"'}, {'premise_updated_col': 'R_3: \"Homer Simpson: Here you go.\"; R_2: \"Lisa Simpson: This whole morning has been wonderful. (TO BART, SUSPICIOUS) Too wonderful.\"; R_1: \"Bart Simpson: (SCARED) You\\'re right, this is it. They\\'re selling us to be crash test dummies.\"', 'target_char_answer_col': 'R_0: \"Lisa Simpson: (SCARED) Oh, please let it be Volvo.\"'}, {'premise_updated_col': 'R_3: \"Homer Simpson: (WAKING UP) Huh? Wuh? Lisa? What\\'s up?\"; R_2: \"Lisa Simpson: I just had a bad dream.\"; R_1: \"Homer Simpson: Aw, sure... you just lie down and tell me all about it.\"', 'target_char_answer_col': 'R_0: \"Lisa Simpson: Well, I know it\\'s absurd, but I dreamed the Boogeyman was after me and he\\'s hiding...\"'}]\n",
            "DEBUG:chat_util_module:find_top_n_unique_l2_psa - сделано\n",
            "DEBUG:chat_util_module:Тело ответа top_l2_psa_bi_cr: ['Bart Simpson: Good one, Dad.', 'R_0: \"Lisa Simpson: Bart! You\\'re just pretending to know what I\\'m talking about.\"']\n",
            "INFO:werkzeug:127.0.0.1 - - [25/Feb/2024 09:03:57] \"POST /top_l2_psa_bi_cr HTTP/1.1\" 200 -\n"
          ]
        },
        {
          "output_type": "stream",
          "name": "stdout",
          "text": [
            "5 \"/top_l2_psa_bi_cr\" запрос:\"{\"query\": \"Good one, Dad.\", \"user\": \"Bart Simpson\"}\" > ответ:\"{\n",
            "  \"response\": [\n",
            "    \"Bart Simpson: Good one, Dad.\",\n",
            "    \"R_0: \\\"Lisa Simpson: Bart! You're just pretending to know what I'm talking about.\\\"\"\n",
            "  ]\n",
            "}\"\n"
          ]
        },
        {
          "output_type": "stream",
          "name": "stderr",
          "text": [
            "INFO:werkzeug:127.0.0.1 - - [25/Feb/2024 09:03:58] \"DELETE /clear HTTP/1.1\" 200 -\n"
          ]
        },
        {
          "output_type": "stream",
          "name": "stdout",
          "text": [
            "---\n"
          ]
        },
        {
          "output_type": "stream",
          "name": "stderr",
          "text": [
            "DEBUG:chat_util_module:find_similar_answers_cross_enc - старт выполнения\n",
            "DEBUG:chat_util_module:Лучшие соответствия (реплики из тестового набора): [{'premise_updated_col': 'R_2: \"Adult Lisa: (TO HERSELF) Hands off, hands off. Eh, screw it! Sometimes a mother\\'s job is to butt in.\"; R_1: \"Marge Simpson: Lisa...\"', 'target_char_answer_col': 'R_0: \"Adult Lisa: Butt out.\"'}, {'premise_updated_col': 'R_3: \"Adult Bart: Maybe it\\'s the court-mandated sincerity chip I\\'ve got in my brain. But Lis... you\\'re the person I always wanted to be.\"; R_2: \"Adult Bart: I gotta reconnect with those boys.\"; R_1: \"Adult Lisa: Godspeed, Bart. I\\'m gonna go apologize to Mom!\"', 'target_char_answer_col': 'R_0: \"Adult Lisa: How do I get down?\"'}, {'premise_updated_col': 'R_3: \"ZOMBIE MILHOUSE: (QUICKLY LIKE A HOPEFUL KID) Brains? Brains?\"; R_2: \"Adult Lisa: (PULLS OUT PACKAGE) Garden brains.\"; R_1: \"ZOMBIE MILHOUSE: (STILL QUICK AND HOPEFUL) Spicy Mexican garden brains?\"', 'target_char_answer_col': 'R_0: \"Adult Lisa: Too much sodium.\"'}, {'premise_updated_col': 'R_3: \"Adult Lisa: Lisa Simpson, the following people want to friend you.\"; R_2: \"Adult Lisa: (PRESSING BUTTONS) Ignore, ignore, ignore... Ooh, Martin Prince is now \"Marcia Princess?\" (SLIGHT GIGGLE, THEN DETERMINED) No, I\\'ve got to find Zia.\"; R_1: \"Adult Nelson: Hey, Lis. Is your marriage still dead and unfulfilled?\"', 'target_char_answer_col': 'R_0: \"Adult Lisa: Not a good time.\"'}, {'premise_updated_col': 'R_3: \"Homer Simpson: And if it were up to me, you wouldn\\'t die at all...\"; R_2: \"Homer Simpson: But try tellin\\' that to Killy McGee up there.\"; R_1: \"Homer Simpson: (CONFUSED NOISE) What on Earth are you doing?\"', 'target_char_answer_col': 'R_0: \"Lisa Simpson: Practicing tennis.\"'}, {'premise_updated_col': 'R_3: \"Bart Simpson: (MOANS) He\\'s gone forever.\"; R_2: \"Bart Simpson: (GASP) Stampy!\"; R_1: \"Bart Simpson: Ahhh. You\\'re lonely for other elephants, aren\\'t you?\"', 'target_char_answer_col': 'R_0: \"Lisa Simpson: A deer!\"'}, {'premise_updated_col': 'R_3: \"Marge Simpson: Now you know how I\\'ll feel when you go to college.\"; R_2: \"Lisa Simpson: You\\'ll always have Bart. Always.\"; R_1: \"Marge Simpson: (HOPING) But he\\'ll be gone a lot repairing refrigerators.\"', 'target_char_answer_col': 'R_0: \"Lisa Simpson: Always.\"'}, {'premise_updated_col': 'R_3: \"George Plimpton: That\\'s a good girl. But if spelling is to compete, it needs a charismatic champion. Someone like me, back when I was a white-haired little boy.\"; R_2: \"Lisa Simpson: (FLATTERED) Well, I haven\\'t won yet--\"; R_1: \"George Plimpton: Nor shall you.\"', 'target_char_answer_col': 'R_0: \"Lisa Simpson: What?!\"'}]\n",
            "DEBUG:chat_util_module:find_similar_answers_cross_enc - сделано\n",
            "DEBUG:chat_util_module:Тело ответа top_cr: ['Bart Simpson: Good one, Dad.', 'R_0: \"Adult Lisa: Butt out.\"']\n",
            "INFO:werkzeug:127.0.0.1 - - [25/Feb/2024 09:04:06] \"POST /top_cr HTTP/1.1\" 200 -\n"
          ]
        },
        {
          "output_type": "stream",
          "name": "stdout",
          "text": [
            "5 \"/top_cr\" запрос:\"{\"query\": \"Good one, Dad.\", \"user\": \"Bart Simpson\"}\" > ответ:\"{\n",
            "  \"response\": [\n",
            "    \"Bart Simpson: Good one, Dad.\",\n",
            "    \"R_0: \\\"Adult Lisa: Butt out.\\\"\"\n",
            "  ]\n",
            "}\"\n"
          ]
        },
        {
          "output_type": "stream",
          "name": "stderr",
          "text": [
            "INFO:werkzeug:127.0.0.1 - - [25/Feb/2024 09:04:06] \"DELETE /clear HTTP/1.1\" 200 -\n"
          ]
        },
        {
          "output_type": "stream",
          "name": "stdout",
          "text": [
            "=================================================================\n",
            "\n"
          ]
        },
        {
          "output_type": "stream",
          "name": "stderr",
          "text": [
            "DEBUG:chat_util_module:find_top_n_unique_cosine_sim_bi_plus_cross_enc - старт выполнения\n",
            "DEBUG:chat_util_module:Query: Awesome, Dad.\n",
            "DEBUG:chat_util_module:User: Bart Simpson\n",
            "DEBUG:chat_util_module:Enriched query: R_1: \"Bart Simpson: Awesome, Dad.\"\n",
            "DEBUG:chat_util_module:find_top_n_unique_cosine_sim - get cosine similarities\n",
            "DEBUG:chat_util_module:find_top_n_unique_cosine_sim - sorting\n",
            "DEBUG:chat_util_module:find_top_n_unique_cosine_sim - сделано\n",
            "DEBUG:chat_util_module:Лучшие значение схожести векторов: [0.9930922, 0.9926956, 0.99240893, 0.9922741, 0.9922027, 0.99100566, 0.9908356, 0.9902545]\n",
            "DEBUG:chat_util_module:Лучшие соответствия (реплики из тестового набора): [{'premise_updated_col': 'R_1: \"Bart Simpson: Way to go, Dad!\"', 'target_char_answer_col': 'R_0: \"Lisa Simpson: The perfect kiss!\"'}, {'premise_updated_col': 'R_1: \"Bart Simpson: Come on, Mom.\"', 'target_char_answer_col': 'R_0: \"Lisa Simpson: Yeah, Mom, hurry up.\"'}, {'premise_updated_col': 'R_1: \"Bart Simpson: Mom! Guess what!\"', 'target_char_answer_col': 'R_0: \"Lisa Simpson: We\\'re going to Itchy and Scratchy Land!\"'}, {'premise_updated_col': 'R_1: \"Bart Simpson: Oh, yeah?\"', 'target_char_answer_col': 'R_0: \"Lisa Simpson: Yeah!\"'}, {'premise_updated_col': 'R_1: \"Bart Simpson: Hey Dad!\"', 'target_char_answer_col': 'R_0: \"Lisa Simpson: Dad, check this out!\"'}, {'premise_updated_col': 'R_1: \"Bart Simpson: Boy, Dad seems awfully happy.\"', 'target_char_answer_col': 'R_0: \"Lisa Simpson: And there\\'s something different about him.\"'}, {'premise_updated_col': 'R_1: \"Bart Simpson: Dad, the cake!\"', 'target_char_answer_col': 'R_0: \"Lisa Simpson: Dad, our lives!\"'}, {'premise_updated_col': 'R_1: \"Bart Simpson: Hey, look! Is that Dad?\"', 'target_char_answer_col': 'R_0: \"Lisa Simpson: Either that or Batman has really let himself go.\"'}]\n",
            "DEBUG:chat_util_module:unique_top_answers: ['R_0: \"Lisa Simpson: The perfect kiss!\"', 'R_0: \"Lisa Simpson: Yeah, Mom, hurry up.\"', 'R_0: \"Lisa Simpson: We\\'re going to Itchy and Scratchy Land!\"', 'R_0: \"Lisa Simpson: Yeah!\"', 'R_0: \"Lisa Simpson: Dad, check this out!\"', 'R_0: \"Lisa Simpson: And there\\'s something different about him.\"', 'R_0: \"Lisa Simpson: Dad, our lives!\"', 'R_0: \"Lisa Simpson: Either that or Batman has really let himself go.\"']\n",
            "DEBUG:chat_util_module:Тело ответа top_cos_sim_bi_cr: ['Bart Simpson: Awesome, Dad.', 'R_0: \"Lisa Simpson: The perfect kiss!\"']\n",
            "INFO:werkzeug:127.0.0.1 - - [25/Feb/2024 09:04:21] \"POST /top_cos_sim_bi_cr HTTP/1.1\" 200 -\n"
          ]
        },
        {
          "output_type": "stream",
          "name": "stdout",
          "text": [
            "6 \"/top_cos_sim_bi_cr\" запрос:\"{\"query\": \"Awesome, Dad.\", \"user\": \"Bart Simpson\"}\" > ответ:\"{\n",
            "  \"response\": [\n",
            "    \"Bart Simpson: Awesome, Dad.\",\n",
            "    \"R_0: \\\"Lisa Simpson: The perfect kiss!\\\"\"\n",
            "  ]\n",
            "}\"\n"
          ]
        },
        {
          "output_type": "stream",
          "name": "stderr",
          "text": [
            "INFO:werkzeug:127.0.0.1 - - [25/Feb/2024 09:04:21] \"DELETE /clear HTTP/1.1\" 200 -\n"
          ]
        },
        {
          "output_type": "stream",
          "name": "stdout",
          "text": [
            "---\n"
          ]
        },
        {
          "output_type": "stream",
          "name": "stderr",
          "text": [
            "DEBUG:chat_util_module:find_top_n_unique_l2_bi_plus_cross_enc - старт выполнения\n",
            "DEBUG:chat_util_module:find_top_n_unique_l2 - get indices\n",
            "DEBUG:chat_util_module:find_top_n_unique_l2 - sorting\n",
            "DEBUG:chat_util_module:Лучшие соответствия (реплики из тестового набора): [{'premise_updated_col': 'R_1: \"Bart Simpson: Way to go, Dad!\"', 'target_char_answer_col': 'R_0: \"Lisa Simpson: The perfect kiss!\"'}, {'premise_updated_col': 'R_1: \"Bart Simpson: Come on, Mom.\"', 'target_char_answer_col': 'R_0: \"Lisa Simpson: Yeah, Mom, hurry up.\"'}, {'premise_updated_col': 'R_1: \"Bart Simpson: Mom! Guess what!\"', 'target_char_answer_col': 'R_0: \"Lisa Simpson: We\\'re going to Itchy and Scratchy Land!\"'}, {'premise_updated_col': 'R_1: \"Bart Simpson: Oh, yeah?\"', 'target_char_answer_col': 'R_0: \"Lisa Simpson: Yeah!\"'}, {'premise_updated_col': 'R_1: \"Bart Simpson: Hey Dad!\"', 'target_char_answer_col': 'R_0: \"Lisa Simpson: Dad, check this out!\"'}, {'premise_updated_col': 'R_1: \"Bart Simpson: Dad, the cake!\"', 'target_char_answer_col': 'R_0: \"Lisa Simpson: Dad, our lives!\"'}, {'premise_updated_col': 'R_1: \"Bart Simpson: Boy, Dad seems awfully happy.\"', 'target_char_answer_col': 'R_0: \"Lisa Simpson: And there\\'s something different about him.\"'}, {'premise_updated_col': 'R_1: \"Bart Simpson: Hey, look! Is that Dad?\"', 'target_char_answer_col': 'R_0: \"Lisa Simpson: Either that or Batman has really let himself go.\"'}]\n",
            "DEBUG:chat_util_module:find_top_n_unique_l2 - сделано\n",
            "DEBUG:chat_util_module:Тело ответа top_l2_bi_cr: ['Bart Simpson: Awesome, Dad.', 'R_0: \"Lisa Simpson: The perfect kiss!\"']\n",
            "INFO:werkzeug:127.0.0.1 - - [25/Feb/2024 09:04:28] \"POST /top_l2_bi_cr HTTP/1.1\" 200 -\n"
          ]
        },
        {
          "output_type": "stream",
          "name": "stdout",
          "text": [
            "6 \"/top_l2_bi_cr\" запрос:\"{\"query\": \"Awesome, Dad.\", \"user\": \"Bart Simpson\"}\" > ответ:\"{\n",
            "  \"response\": [\n",
            "    \"Bart Simpson: Awesome, Dad.\",\n",
            "    \"R_0: \\\"Lisa Simpson: The perfect kiss!\\\"\"\n",
            "  ]\n",
            "}\"\n"
          ]
        },
        {
          "output_type": "stream",
          "name": "stderr",
          "text": [
            "INFO:werkzeug:127.0.0.1 - - [25/Feb/2024 09:04:29] \"DELETE /clear HTTP/1.1\" 200 -\n"
          ]
        },
        {
          "output_type": "stream",
          "name": "stdout",
          "text": [
            "---\n"
          ]
        },
        {
          "output_type": "stream",
          "name": "stderr",
          "text": [
            "DEBUG:chat_util_module:find_top_n_unique_l2_psa_bi_plus_cross_enc - старт выполнения\n",
            "DEBUG:chat_util_module:find_top_n_unique_l2_psa - get indices\n",
            "DEBUG:chat_util_module:find_top_n_unique_l2_psa - sorting\n",
            "DEBUG:chat_util_module:find unique\n",
            "DEBUG:chat_util_module:Лучшие соответствия (реплики из тестового набора): [{'premise_updated_col': 'R_3: \"Homer Simpson: (DISTORTED VOICE) We live in a house that is trying to kill us.\"; R_2: \"Lisa Simpson: Hey, Dad.\"; R_1: \"Homer Simpson: (INTO CUP) Who is this \"Dad\" you speak of, Lisa Simpson?\"', 'target_char_answer_col': 'R_0: \"Lisa Simpson: You want a cookie, Dad?\"'}, {'premise_updated_col': 'R_3: \"Homer Simpson: What\\'s your problem?\"; R_2: \"Lisa Simpson: (SULLEN) Whacking Day is coming.\"; R_1: \"Homer Simpson: Woo hoo! The greatest day of the year.\"', 'target_char_answer_col': 'R_0: \"Lisa Simpson: But killing snakes is evil.\"'}, {'premise_updated_col': 'R_3: \"Homer Simpson: I believe you, honey.\"; R_2: \"Lisa Simpson: (TOUCHED) You do?\"; R_1: \"Homer Simpson: Of course I do. You\\'re always right about this type of thing, and for once, I want in on the ground floor.\"', 'target_char_answer_col': 'R_0: \"Lisa Simpson: (MOVED) Aw, thanks, Dad.\"'}, {'premise_updated_col': 'R_3: \"Homer Simpson: Gimme a banana.\"; R_2: \"Lisa Simpson: I don\\'t have any banana.\"; R_1: \"Homer Simpson: Come on, you\\'re holding out on me.\"', 'target_char_answer_col': 'R_0: \"Lisa Simpson: I\\'m sorry I called you a baboon, Dad.\"'}, {'premise_updated_col': 'R_3: \"Homer Simpson: Here you go.\"; R_2: \"Lisa Simpson: This whole morning has been wonderful. (TO BART, SUSPICIOUS) Too wonderful.\"; R_1: \"Bart Simpson: (SCARED) You\\'re right, this is it. They\\'re selling us to be crash test dummies.\"', 'target_char_answer_col': 'R_0: \"Lisa Simpson: (SCARED) Oh, please let it be Volvo.\"'}, {'premise_updated_col': 'R_3: \"Bart Simpson: You got it.\"; R_2: \"Lisa Simpson: Become like an uncarved stone.\"; R_1: \"Bart Simpson: Done.\"', 'target_char_answer_col': 'R_0: \"Lisa Simpson: Bart! You\\'re just pretending to know what I\\'m talking about.\"'}, {'premise_updated_col': 'R_3: \"Homer Simpson: Yellow card!\"; R_2: \"Lisa Simpson: You can\\'t give me a yellow card?! You\\'re my father!\"; R_1: \"Homer Simpson: When I put on these shorts, I\\'m not your father anymore. (POINTS TO PANTS) And judging by how tight they are, I\\'m never gonna be anyone else\\'s either.\"', 'target_char_answer_col': 'R_0: \"Lisa Simpson: This is what I think of your yellow card!\"'}, {'premise_updated_col': 'R_3: \"Bart Simpson: No.\"; R_2: \"Lisa Simpson: I\\'m not a sniveling toad, am I?\"; R_1: \"Bart Simpson: Not really.\"', 'target_char_answer_col': 'R_0: \"Lisa Simpson: I\\'m not a little egg sucker, am I?\"'}]\n",
            "DEBUG:chat_util_module:find_top_n_unique_l2_psa - сделано\n",
            "DEBUG:chat_util_module:Тело ответа top_l2_psa_bi_cr: ['Bart Simpson: Awesome, Dad.', 'R_0: \"Lisa Simpson: You want a cookie, Dad?\"']\n",
            "INFO:werkzeug:127.0.0.1 - - [25/Feb/2024 09:04:36] \"POST /top_l2_psa_bi_cr HTTP/1.1\" 200 -\n"
          ]
        },
        {
          "output_type": "stream",
          "name": "stdout",
          "text": [
            "6 \"/top_l2_psa_bi_cr\" запрос:\"{\"query\": \"Awesome, Dad.\", \"user\": \"Bart Simpson\"}\" > ответ:\"{\n",
            "  \"response\": [\n",
            "    \"Bart Simpson: Awesome, Dad.\",\n",
            "    \"R_0: \\\"Lisa Simpson: You want a cookie, Dad?\\\"\"\n",
            "  ]\n",
            "}\"\n"
          ]
        },
        {
          "output_type": "stream",
          "name": "stderr",
          "text": [
            "INFO:werkzeug:127.0.0.1 - - [25/Feb/2024 09:04:36] \"DELETE /clear HTTP/1.1\" 200 -\n"
          ]
        },
        {
          "output_type": "stream",
          "name": "stdout",
          "text": [
            "---\n"
          ]
        },
        {
          "output_type": "stream",
          "name": "stderr",
          "text": [
            "DEBUG:chat_util_module:find_similar_answers_cross_enc - старт выполнения\n",
            "DEBUG:chat_util_module:Лучшие соответствия (реплики из тестового набора): [{'premise_updated_col': 'R_3: \"Adult Bart: Maybe it\\'s the court-mandated sincerity chip I\\'ve got in my brain. But Lis... you\\'re the person I always wanted to be.\"; R_2: \"Adult Bart: I gotta reconnect with those boys.\"; R_1: \"Adult Lisa: Godspeed, Bart. I\\'m gonna go apologize to Mom!\"', 'target_char_answer_col': 'R_0: \"Adult Lisa: How do I get down?\"'}, {'premise_updated_col': 'R_2: \"Lisa Simpson: Mom! I have to tell you something about Dad! Something big!\"; R_1: \"Marge Simpson: I know, he\\'s changed.\"', 'target_char_answer_col': 'R_0: \"Lisa Simpson: Exactly!\"'}, {'premise_updated_col': 'R_3: \"Marge Simpson: Now you know how I\\'ll feel when you go to college.\"; R_2: \"Lisa Simpson: You\\'ll always have Bart. Always.\"; R_1: \"Marge Simpson: (HOPING) But he\\'ll be gone a lot repairing refrigerators.\"', 'target_char_answer_col': 'R_0: \"Lisa Simpson: Always.\"'}, {'premise_updated_col': 'R_3: \"Bart Simpson: (MOANS) He\\'s gone forever.\"; R_2: \"Bart Simpson: (GASP) Stampy!\"; R_1: \"Bart Simpson: Ahhh. You\\'re lonely for other elephants, aren\\'t you?\"', 'target_char_answer_col': 'R_0: \"Lisa Simpson: A deer!\"'}, {'premise_updated_col': 'R_2: \"Adult Lisa: (TO HERSELF) Hands off, hands off. Eh, screw it! Sometimes a mother\\'s job is to butt in.\"; R_1: \"Marge Simpson: Lisa...\"', 'target_char_answer_col': 'R_0: \"Adult Lisa: Butt out.\"'}, {'premise_updated_col': 'R_2: \"Lisa Simpson: This place is amazing! Kiosks! Outdoor study groups!\"; R_1: \"Tina: Lisa, where\\'ve you been?\"', 'target_char_answer_col': 'R_0: \"Lisa Simpson: In heaven!\"'}, {'premise_updated_col': 'R_1: \"Homer Simpson: So, how\\'s that new block I got you?\"', 'target_char_answer_col': 'R_0: \"Lisa Simpson: Great!\"'}, {'premise_updated_col': 'R_1: \"Marge Simpson: How\\'s the ice cream, kids?\"', 'target_char_answer_col': 'R_0: \"Lisa Simpson: Great!\"'}]\n",
            "DEBUG:chat_util_module:find_similar_answers_cross_enc - сделано\n",
            "DEBUG:chat_util_module:Тело ответа top_cr: ['Bart Simpson: Awesome, Dad.', 'R_0: \"Adult Lisa: How do I get down?\"']\n",
            "INFO:werkzeug:127.0.0.1 - - [25/Feb/2024 09:04:44] \"POST /top_cr HTTP/1.1\" 200 -\n"
          ]
        },
        {
          "output_type": "stream",
          "name": "stdout",
          "text": [
            "6 \"/top_cr\" запрос:\"{\"query\": \"Awesome, Dad.\", \"user\": \"Bart Simpson\"}\" > ответ:\"{\n",
            "  \"response\": [\n",
            "    \"Bart Simpson: Awesome, Dad.\",\n",
            "    \"R_0: \\\"Adult Lisa: How do I get down?\\\"\"\n",
            "  ]\n",
            "}\"\n"
          ]
        },
        {
          "output_type": "stream",
          "name": "stderr",
          "text": [
            "INFO:werkzeug:127.0.0.1 - - [25/Feb/2024 09:04:44] \"DELETE /clear HTTP/1.1\" 200 -\n"
          ]
        },
        {
          "output_type": "stream",
          "name": "stdout",
          "text": [
            "=================================================================\n",
            "\n"
          ]
        },
        {
          "output_type": "stream",
          "name": "stderr",
          "text": [
            "DEBUG:chat_util_module:find_top_n_unique_cosine_sim_bi_plus_cross_enc - старт выполнения\n",
            "DEBUG:chat_util_module:Query: Awesome, Dad.\n",
            "DEBUG:chat_util_module:User: Igor Pokrishkin\n",
            "DEBUG:chat_util_module:Enriched query: R_1: \"Igor Pokrishkin: Awesome, Dad.\"\n",
            "DEBUG:chat_util_module:find_top_n_unique_cosine_sim - get cosine similarities\n",
            "DEBUG:chat_util_module:find_top_n_unique_cosine_sim - sorting\n",
            "DEBUG:chat_util_module:find_top_n_unique_cosine_sim - сделано\n",
            "DEBUG:chat_util_module:Лучшие значение схожести векторов: [0.97967815, 0.97945917, 0.9780408, 0.977376, 0.9772126, 0.97720563, 0.9771294, 0.9769939]\n",
            "DEBUG:chat_util_module:Лучшие соответствия (реплики из тестового набора): [{'premise_updated_col': 'R_1: \"Herman Millwood: ...the Aero chair.\"', 'target_char_answer_col': 'R_0: \"Lisa Simpson: The most comfortable ergonomic chair there is.\"'}, {'premise_updated_col': 'R_1: \"Mr. Kinkaid: Really interesting stuff. Three points out of a possible five.\"', 'target_char_answer_col': 'R_0: \"Lisa Simpson: (NERVOUS FAKE LAUGHTER) Oh, that\\'s a funny joke, Mr. Kinkaid. Is this an art class or a comedy class? (QUICK, GRIM) Seriously, why is it three?\"'}, {'premise_updated_col': 'R_1: \"Rod Flanders: You\\'re it.\"', 'target_char_answer_col': 'R_0: \"Lisa Simpson: Now you are the one who is it.\"'}, {'premise_updated_col': 'R_1: \"Blue-Haired Lawyer: ...everything that happened in every store your family visited?\"', 'target_char_answer_col': 'R_0: \"Lisa Simpson: Trust me, I\\'ve left a lot out, and cleaned up the swears. Anyway, I ran into some schoolmates and thought they might be friendly. (SLIGHTLY SAD) That\\'s what kids do, right? Hang out at the mall together. But when I went over...\"'}, {'premise_updated_col': 'R_1: \"Otto Mann: All yours.\"', 'target_char_answer_col': 'R_0: \"Lisa Simpson: What did you do with him?\"'}, {'premise_updated_col': 'R_1: \"Ralph Wiggum: I am so glad you cho-cho-chose to come.\"', 'target_char_answer_col': 'R_0: \"Lisa Simpson: Hmm, I think you should give that a rest, Ralph. (TO WIGGUM) Chief Wiggum, how did you ever get these tickets?\"'}, {'premise_updated_col': 'R_1: \"Creature: (GIGGLES, THEN BABY TALK:) Hurt everyone.\"', 'target_char_answer_col': 'R_0: \"Lisa Simpson: Did Gaga just say hurt everyone?\"'}, {'premise_updated_col': 'R_1: \"MR. LASSEN: Looks like our blackboard has been defaced. Lucky for you I can take a joke.\"', 'target_char_answer_col': 'R_0: \"Lisa Simpson: Hello? Hello? Is everything okay?\"'}]\n",
            "DEBUG:chat_util_module:unique_top_answers: ['R_0: \"Lisa Simpson: The most comfortable ergonomic chair there is.\"', 'R_0: \"Lisa Simpson: (NERVOUS FAKE LAUGHTER) Oh, that\\'s a funny joke, Mr. Kinkaid. Is this an art class or a comedy class? (QUICK, GRIM) Seriously, why is it three?\"', 'R_0: \"Lisa Simpson: Now you are the one who is it.\"', 'R_0: \"Lisa Simpson: Trust me, I\\'ve left a lot out, and cleaned up the swears. Anyway, I ran into some schoolmates and thought they might be friendly. (SLIGHTLY SAD) That\\'s what kids do, right? Hang out at the mall together. But when I went over...\"', 'R_0: \"Lisa Simpson: What did you do with him?\"', 'R_0: \"Lisa Simpson: Hmm, I think you should give that a rest, Ralph. (TO WIGGUM) Chief Wiggum, how did you ever get these tickets?\"', 'R_0: \"Lisa Simpson: Did Gaga just say hurt everyone?\"', 'R_0: \"Lisa Simpson: Hello? Hello? Is everything okay?\"']\n",
            "DEBUG:chat_util_module:Тело ответа top_cos_sim_bi_cr: ['Igor Pokrishkin: Awesome, Dad.', 'R_0: \"Lisa Simpson: The most comfortable ergonomic chair there is.\"']\n",
            "INFO:werkzeug:127.0.0.1 - - [25/Feb/2024 09:05:00] \"POST /top_cos_sim_bi_cr HTTP/1.1\" 200 -\n"
          ]
        },
        {
          "output_type": "stream",
          "name": "stdout",
          "text": [
            "7 \"/top_cos_sim_bi_cr\" запрос:\"{\"query\": \"Awesome, Dad.\", \"user\": \"Igor Pokrishkin\"}\" > ответ:\"{\n",
            "  \"response\": [\n",
            "    \"Igor Pokrishkin: Awesome, Dad.\",\n",
            "    \"R_0: \\\"Lisa Simpson: The most comfortable ergonomic chair there is.\\\"\"\n",
            "  ]\n",
            "}\"\n"
          ]
        },
        {
          "output_type": "stream",
          "name": "stderr",
          "text": [
            "INFO:werkzeug:127.0.0.1 - - [25/Feb/2024 09:05:00] \"DELETE /clear HTTP/1.1\" 200 -\n"
          ]
        },
        {
          "output_type": "stream",
          "name": "stdout",
          "text": [
            "---\n"
          ]
        },
        {
          "output_type": "stream",
          "name": "stderr",
          "text": [
            "DEBUG:chat_util_module:find_top_n_unique_l2_bi_plus_cross_enc - старт выполнения\n",
            "DEBUG:chat_util_module:find_top_n_unique_l2 - get indices\n",
            "DEBUG:chat_util_module:find_top_n_unique_l2 - sorting\n",
            "DEBUG:chat_util_module:Лучшие соответствия (реплики из тестового набора): [{'premise_updated_col': 'R_1: \"Mr. Kinkaid: Really interesting stuff. Three points out of a possible five.\"', 'target_char_answer_col': 'R_0: \"Lisa Simpson: (NERVOUS FAKE LAUGHTER) Oh, that\\'s a funny joke, Mr. Kinkaid. Is this an art class or a comedy class? (QUICK, GRIM) Seriously, why is it three?\"'}, {'premise_updated_col': 'R_1: \"Herman Millwood: ...the Aero chair.\"', 'target_char_answer_col': 'R_0: \"Lisa Simpson: The most comfortable ergonomic chair there is.\"'}, {'premise_updated_col': 'R_1: \"Blue-Haired Lawyer: ...everything that happened in every store your family visited?\"', 'target_char_answer_col': 'R_0: \"Lisa Simpson: Trust me, I\\'ve left a lot out, and cleaned up the swears. Anyway, I ran into some schoolmates and thought they might be friendly. (SLIGHTLY SAD) That\\'s what kids do, right? Hang out at the mall together. But when I went over...\"'}, {'premise_updated_col': 'R_1: \"Rod Flanders: You\\'re it.\"', 'target_char_answer_col': 'R_0: \"Lisa Simpson: Now you are the one who is it.\"'}, {'premise_updated_col': 'R_1: \"Ralph Wiggum: I am so glad you cho-cho-chose to come.\"', 'target_char_answer_col': 'R_0: \"Lisa Simpson: Hmm, I think you should give that a rest, Ralph. (TO WIGGUM) Chief Wiggum, how did you ever get these tickets?\"'}, {'premise_updated_col': 'R_1: \"MR. LASSEN: Looks like our blackboard has been defaced. Lucky for you I can take a joke.\"', 'target_char_answer_col': 'R_0: \"Lisa Simpson: Hello? Hello? Is everything okay?\"'}, {'premise_updated_col': 'R_1: \"Creature: (GIGGLES, THEN BABY TALK:) Hurt everyone.\"', 'target_char_answer_col': 'R_0: \"Lisa Simpson: Did Gaga just say hurt everyone?\"'}, {'premise_updated_col': 'R_1: \"Otto Mann: All yours.\"', 'target_char_answer_col': 'R_0: \"Lisa Simpson: What did you do with him?\"'}]\n",
            "DEBUG:chat_util_module:find_top_n_unique_l2 - сделано\n",
            "DEBUG:chat_util_module:Тело ответа top_l2_bi_cr: ['Igor Pokrishkin: Awesome, Dad.', 'R_0: \"Lisa Simpson: (NERVOUS FAKE LAUGHTER) Oh, that\\'s a funny joke, Mr. Kinkaid. Is this an art class or a comedy class? (QUICK, GRIM) Seriously, why is it three?\"']\n",
            "INFO:werkzeug:127.0.0.1 - - [25/Feb/2024 09:05:07] \"POST /top_l2_bi_cr HTTP/1.1\" 200 -\n"
          ]
        },
        {
          "output_type": "stream",
          "name": "stdout",
          "text": [
            "7 \"/top_l2_bi_cr\" запрос:\"{\"query\": \"Awesome, Dad.\", \"user\": \"Igor Pokrishkin\"}\" > ответ:\"{\n",
            "  \"response\": [\n",
            "    \"Igor Pokrishkin: Awesome, Dad.\",\n",
            "    \"R_0: \\\"Lisa Simpson: (NERVOUS FAKE LAUGHTER) Oh, that's a funny joke, Mr. Kinkaid. Is this an art class or a comedy class? (QUICK, GRIM) Seriously, why is it three?\\\"\"\n",
            "  ]\n",
            "}\"\n"
          ]
        },
        {
          "output_type": "stream",
          "name": "stderr",
          "text": [
            "INFO:werkzeug:127.0.0.1 - - [25/Feb/2024 09:05:08] \"DELETE /clear HTTP/1.1\" 200 -\n"
          ]
        },
        {
          "output_type": "stream",
          "name": "stdout",
          "text": [
            "---\n"
          ]
        },
        {
          "output_type": "stream",
          "name": "stderr",
          "text": [
            "DEBUG:chat_util_module:find_top_n_unique_l2_psa_bi_plus_cross_enc - старт выполнения\n",
            "DEBUG:chat_util_module:find_top_n_unique_l2_psa - get indices\n",
            "DEBUG:chat_util_module:find_top_n_unique_l2_psa - sorting\n",
            "DEBUG:chat_util_module:find unique\n",
            "DEBUG:chat_util_module:Лучшие соответствия (реплики из тестового набора): [{'premise_updated_col': 'R_3: \"Homer Simpson: Gimme a banana.\"; R_2: \"Lisa Simpson: I don\\'t have any banana.\"; R_1: \"Homer Simpson: Come on, you\\'re holding out on me.\"', 'target_char_answer_col': 'R_0: \"Lisa Simpson: I\\'m sorry I called you a baboon, Dad.\"'}, {'premise_updated_col': 'R_3: \"Homer Simpson: What\\'s your problem?\"; R_2: \"Lisa Simpson: (SULLEN) Whacking Day is coming.\"; R_1: \"Homer Simpson: Woo hoo! The greatest day of the year.\"', 'target_char_answer_col': 'R_0: \"Lisa Simpson: But killing snakes is evil.\"'}, {'premise_updated_col': 'R_3: \"Homer Simpson: Here you go.\"; R_2: \"Lisa Simpson: This whole morning has been wonderful. (TO BART, SUSPICIOUS) Too wonderful.\"; R_1: \"Bart Simpson: (SCARED) You\\'re right, this is it. They\\'re selling us to be crash test dummies.\"', 'target_char_answer_col': 'R_0: \"Lisa Simpson: (SCARED) Oh, please let it be Volvo.\"'}, {'premise_updated_col': 'R_3: \"Bart Simpson: You got it.\"; R_2: \"Lisa Simpson: Become like an uncarved stone.\"; R_1: \"Bart Simpson: Done.\"', 'target_char_answer_col': 'R_0: \"Lisa Simpson: Bart! You\\'re just pretending to know what I\\'m talking about.\"'}, {'premise_updated_col': 'R_3: \"Bart Simpson: No.\"; R_2: \"Lisa Simpson: I\\'m not a sniveling toad, am I?\"; R_1: \"Bart Simpson: Not really.\"', 'target_char_answer_col': 'R_0: \"Lisa Simpson: I\\'m not a little egg sucker, am I?\"'}, {'premise_updated_col': 'R_3: \"Homer Simpson: (SO SELF) Pathetic.\"; R_2: \"Lisa Simpson: ...and isn\\'t in any history books...\"; R_1: \"Homer Simpson: (TO SELF) He makes me sick.\"', 'target_char_answer_col': 'R_0: \"Lisa Simpson: He\\'s my Dad.\"'}, {'premise_updated_col': 'R_3: \"Homer Simpson: (CALLING) Sweetie, if we didn\\'t turn it down for the cops, what chance do you have? (LAUGHS) He hit her again.\"; R_2: \"Lisa Simpson: (MUTTERING) Stupid, inconsiderate bunch of jerks... I can\\'t believe, after I...\"; R_1: \"RASPY VOICE: Losing your marbles, huh, kid?\"', 'target_char_answer_col': 'R_0: \"Lisa Simpson: (SHORT SCREAM, THEN) Lucy?\"'}, {'premise_updated_col': 'R_3: \"Homer Simpson: Impending doom...\"; R_2: \"Lisa Simpson: (ENTERS) Whatcha reading, Dad?\"; R_1: \"Homer Simpson: Honey, everything\\'s fine. There\\'s nothing to worry about.\"', 'target_char_answer_col': 'R_0: \"Lisa Simpson: (SCARED) When grownups say that, it means there is something to worry about.\"'}]\n",
            "DEBUG:chat_util_module:find_top_n_unique_l2_psa - сделано\n",
            "DEBUG:chat_util_module:Тело ответа top_l2_psa_bi_cr: ['Igor Pokrishkin: Awesome, Dad.', 'R_0: \"Lisa Simpson: I\\'m sorry I called you a baboon, Dad.\"']\n",
            "INFO:werkzeug:127.0.0.1 - - [25/Feb/2024 09:05:15] \"POST /top_l2_psa_bi_cr HTTP/1.1\" 200 -\n"
          ]
        },
        {
          "output_type": "stream",
          "name": "stdout",
          "text": [
            "7 \"/top_l2_psa_bi_cr\" запрос:\"{\"query\": \"Awesome, Dad.\", \"user\": \"Igor Pokrishkin\"}\" > ответ:\"{\n",
            "  \"response\": [\n",
            "    \"Igor Pokrishkin: Awesome, Dad.\",\n",
            "    \"R_0: \\\"Lisa Simpson: I'm sorry I called you a baboon, Dad.\\\"\"\n",
            "  ]\n",
            "}\"\n"
          ]
        },
        {
          "output_type": "stream",
          "name": "stderr",
          "text": [
            "INFO:werkzeug:127.0.0.1 - - [25/Feb/2024 09:05:15] \"DELETE /clear HTTP/1.1\" 200 -\n"
          ]
        },
        {
          "output_type": "stream",
          "name": "stdout",
          "text": [
            "---\n"
          ]
        },
        {
          "output_type": "stream",
          "name": "stderr",
          "text": [
            "DEBUG:chat_util_module:find_similar_answers_cross_enc - старт выполнения\n",
            "DEBUG:chat_util_module:Лучшие соответствия (реплики из тестового набора): [{'premise_updated_col': 'R_3: \"Adult Lisa: Lisa Simpson, the following people want to friend you.\"; R_2: \"Adult Lisa: (PRESSING BUTTONS) Ignore, ignore, ignore... Ooh, Martin Prince is now \"Marcia Princess?\" (SLIGHT GIGGLE, THEN DETERMINED) No, I\\'ve got to find Zia.\"; R_1: \"Adult Nelson: Hey, Lis. Is your marriage still dead and unfulfilled?\"', 'target_char_answer_col': 'R_0: \"Adult Lisa: Not a good time.\"'}, {'premise_updated_col': 'R_2: \"Adult Lisa: (TO HERSELF) Hands off, hands off. Eh, screw it! Sometimes a mother\\'s job is to butt in.\"; R_1: \"Marge Simpson: Lisa...\"', 'target_char_answer_col': 'R_0: \"Adult Lisa: Butt out.\"'}, {'premise_updated_col': 'R_3: \"Adult Bart: Maybe it\\'s the court-mandated sincerity chip I\\'ve got in my brain. But Lis... you\\'re the person I always wanted to be.\"; R_2: \"Adult Bart: I gotta reconnect with those boys.\"; R_1: \"Adult Lisa: Godspeed, Bart. I\\'m gonna go apologize to Mom!\"', 'target_char_answer_col': 'R_0: \"Adult Lisa: How do I get down?\"'}, {'premise_updated_col': 'R_3: \"ZOMBIE MILHOUSE: (QUICKLY LIKE A HOPEFUL KID) Brains? Brains?\"; R_2: \"Adult Lisa: (PULLS OUT PACKAGE) Garden brains.\"; R_1: \"ZOMBIE MILHOUSE: (STILL QUICK AND HOPEFUL) Spicy Mexican garden brains?\"', 'target_char_answer_col': 'R_0: \"Adult Lisa: Too much sodium.\"'}, {'premise_updated_col': 'R_3: \"Zombie: Brains!\"; R_2: \"Adult Lisa: Actually, Terrence, this is a synthetic substance. Devised for zombie vegans, or \"Zegans.\"\"; R_1: \"Terrence: (ZOMBIE-LIKE) Meh.\"', 'target_char_answer_col': 'R_0: \"Adult Lisa: What are you doing here?\"'}, {'premise_updated_col': 'R_3: \"Adult Bart: (HUGE LAUGH, THEN:) Sorry.\"; R_2: \"Adult Lisa: (SHRUG) \\'S okay. But you know who took her side? Marge (STRETCHING IT OUT) Boooouuuuvier Simpson!\"; R_1: \"Adult Bart: Wha\\'d-she-do?\"', 'target_char_answer_col': 'R_0: \"Adult Lisa: She told me to relax and bake cookies!\"'}, {'premise_updated_col': 'R_1: \"Marge Simpson: (ENTERING) Merry Christmas Eve! Where are the kids?\"', 'target_char_answer_col': 'R_0: \"Adult Lisa: I know where mine is...\"'}, {'premise_updated_col': 'R_3: \"Teenage Milhouse: Not going to Yale isn\\'t the end of the world.\"; R_2: \"Teenage Lisa: (PERKING UP) Yeah, I\\'m starting to see that.\"; R_1: \"Teenage Milhouse: No, I mean, you\\'re screwed! Your only hope is to clutch at straws! (WAGGING EYEBROWS) Straws who\\'ve always loved you.\"', 'target_char_answer_col': 'R_0: \"Teenage Lisa: (VULNERABLE) Really?\"'}]\n",
            "DEBUG:chat_util_module:find_similar_answers_cross_enc - сделано\n",
            "DEBUG:chat_util_module:Тело ответа top_cr: ['Igor Pokrishkin: Awesome, Dad.', 'R_0: \"Adult Lisa: Not a good time.\"']\n",
            "INFO:werkzeug:127.0.0.1 - - [25/Feb/2024 09:05:23] \"POST /top_cr HTTP/1.1\" 200 -\n"
          ]
        },
        {
          "output_type": "stream",
          "name": "stdout",
          "text": [
            "7 \"/top_cr\" запрос:\"{\"query\": \"Awesome, Dad.\", \"user\": \"Igor Pokrishkin\"}\" > ответ:\"{\n",
            "  \"response\": [\n",
            "    \"Igor Pokrishkin: Awesome, Dad.\",\n",
            "    \"R_0: \\\"Adult Lisa: Not a good time.\\\"\"\n",
            "  ]\n",
            "}\"\n"
          ]
        },
        {
          "output_type": "stream",
          "name": "stderr",
          "text": [
            "INFO:werkzeug:127.0.0.1 - - [25/Feb/2024 09:05:23] \"DELETE /clear HTTP/1.1\" 200 -\n"
          ]
        },
        {
          "output_type": "stream",
          "name": "stdout",
          "text": [
            "=================================================================\n",
            "\n"
          ]
        },
        {
          "output_type": "stream",
          "name": "stderr",
          "text": [
            "DEBUG:chat_util_module:find_top_n_unique_cosine_sim_bi_plus_cross_enc - старт выполнения\n",
            "DEBUG:chat_util_module:Query: Top-notch skill, Dad.\n",
            "DEBUG:chat_util_module:User: Igor Pokrishkin\n",
            "DEBUG:chat_util_module:Enriched query: R_1: \"Igor Pokrishkin: Top-notch skill, Dad.\"\n",
            "DEBUG:chat_util_module:find_top_n_unique_cosine_sim - get cosine similarities\n",
            "DEBUG:chat_util_module:find_top_n_unique_cosine_sim - sorting\n",
            "DEBUG:chat_util_module:find_top_n_unique_cosine_sim - сделано\n",
            "DEBUG:chat_util_module:Лучшие значение схожести векторов: [0.979511, 0.97882515, 0.97559303, 0.97520393, 0.9744625, 0.97375584, 0.9735822, 0.97259444]\n",
            "DEBUG:chat_util_module:Лучшие соответствия (реплики из тестового набора): [{'premise_updated_col': 'R_1: \"Nelson Muntz: This is for wasting teacher\\'s valuable time.\"', 'target_char_answer_col': 'R_0: \"Lisa Simpson: Lay off, guys. He\\'s with me.\"'}, {'premise_updated_col': 'R_1: \"Herman Millwood: ...the Aero chair.\"', 'target_char_answer_col': 'R_0: \"Lisa Simpson: The most comfortable ergonomic chair there is.\"'}, {'premise_updated_col': 'R_1: \"MR. LASSEN: Looks like our blackboard has been defaced. Lucky for you I can take a joke.\"', 'target_char_answer_col': 'R_0: \"Lisa Simpson: Hello? Hello? Is everything okay?\"'}, {'premise_updated_col': 'R_1: \"Colonel: Anybody out there feel the need for speed?\"', 'target_char_answer_col': 'R_0: \"Lisa Simpson: Yay!\"'}, {'premise_updated_col': 'R_1: \"Otto Mann: All yours.\"', 'target_char_answer_col': 'R_0: \"Lisa Simpson: What did you do with him?\"'}, {'premise_updated_col': 'R_1: \"Mr. Kinkaid: Really interesting stuff. Three points out of a possible five.\"', 'target_char_answer_col': 'R_0: \"Lisa Simpson: (NERVOUS FAKE LAUGHTER) Oh, that\\'s a funny joke, Mr. Kinkaid. Is this an art class or a comedy class? (QUICK, GRIM) Seriously, why is it three?\"'}, {'premise_updated_col': 'R_1: \"Gary Chalmers: Ameliorate.\"', 'target_char_answer_col': 'R_0: \"Lisa Simpson: Could you use it in a sentence?\"'}, {'premise_updated_col': 'R_1: \"Blue-Haired Lawyer: Now, to skip ahead, your diabolical plan was an instant success.\"', 'target_char_answer_col': 'R_0: \"Lisa Simpson: I never said it was diabolical!\"'}]\n",
            "DEBUG:chat_util_module:unique_top_answers: ['R_0: \"Lisa Simpson: Lay off, guys. He\\'s with me.\"', 'R_0: \"Lisa Simpson: The most comfortable ergonomic chair there is.\"', 'R_0: \"Lisa Simpson: Hello? Hello? Is everything okay?\"', 'R_0: \"Lisa Simpson: Yay!\"', 'R_0: \"Lisa Simpson: What did you do with him?\"', 'R_0: \"Lisa Simpson: (NERVOUS FAKE LAUGHTER) Oh, that\\'s a funny joke, Mr. Kinkaid. Is this an art class or a comedy class? (QUICK, GRIM) Seriously, why is it three?\"', 'R_0: \"Lisa Simpson: Could you use it in a sentence?\"', 'R_0: \"Lisa Simpson: I never said it was diabolical!\"']\n",
            "DEBUG:chat_util_module:Тело ответа top_cos_sim_bi_cr: ['Igor Pokrishkin: Top-notch skill, Dad.', 'R_0: \"Lisa Simpson: Lay off, guys. He\\'s with me.\"']\n",
            "INFO:werkzeug:127.0.0.1 - - [25/Feb/2024 09:05:38] \"POST /top_cos_sim_bi_cr HTTP/1.1\" 200 -\n"
          ]
        },
        {
          "output_type": "stream",
          "name": "stdout",
          "text": [
            "8 \"/top_cos_sim_bi_cr\" запрос:\"{\"query\": \"Top-notch skill, Dad.\", \"user\": \"Igor Pokrishkin\"}\" > ответ:\"{\n",
            "  \"response\": [\n",
            "    \"Igor Pokrishkin: Top-notch skill, Dad.\",\n",
            "    \"R_0: \\\"Lisa Simpson: Lay off, guys. He's with me.\\\"\"\n",
            "  ]\n",
            "}\"\n"
          ]
        },
        {
          "output_type": "stream",
          "name": "stderr",
          "text": [
            "INFO:werkzeug:127.0.0.1 - - [25/Feb/2024 09:05:38] \"DELETE /clear HTTP/1.1\" 200 -\n"
          ]
        },
        {
          "output_type": "stream",
          "name": "stdout",
          "text": [
            "---\n"
          ]
        },
        {
          "output_type": "stream",
          "name": "stderr",
          "text": [
            "DEBUG:chat_util_module:find_top_n_unique_l2_bi_plus_cross_enc - старт выполнения\n",
            "DEBUG:chat_util_module:find_top_n_unique_l2 - get indices\n",
            "DEBUG:chat_util_module:find_top_n_unique_l2 - sorting\n",
            "DEBUG:chat_util_module:Лучшие соответствия (реплики из тестового набора): [{'premise_updated_col': 'R_1: \"Nelson Muntz: This is for wasting teacher\\'s valuable time.\"', 'target_char_answer_col': 'R_0: \"Lisa Simpson: Lay off, guys. He\\'s with me.\"'}, {'premise_updated_col': 'R_1: \"Herman Millwood: ...the Aero chair.\"', 'target_char_answer_col': 'R_0: \"Lisa Simpson: The most comfortable ergonomic chair there is.\"'}, {'premise_updated_col': 'R_1: \"MR. LASSEN: Looks like our blackboard has been defaced. Lucky for you I can take a joke.\"', 'target_char_answer_col': 'R_0: \"Lisa Simpson: Hello? Hello? Is everything okay?\"'}, {'premise_updated_col': 'R_1: \"Colonel: Anybody out there feel the need for speed?\"', 'target_char_answer_col': 'R_0: \"Lisa Simpson: Yay!\"'}, {'premise_updated_col': 'R_1: \"Mr. Kinkaid: Really interesting stuff. Three points out of a possible five.\"', 'target_char_answer_col': 'R_0: \"Lisa Simpson: (NERVOUS FAKE LAUGHTER) Oh, that\\'s a funny joke, Mr. Kinkaid. Is this an art class or a comedy class? (QUICK, GRIM) Seriously, why is it three?\"'}, {'premise_updated_col': 'R_1: \"Otto Mann: All yours.\"', 'target_char_answer_col': 'R_0: \"Lisa Simpson: What did you do with him?\"'}, {'premise_updated_col': 'R_1: \"Blue-Haired Lawyer: ...everything that happened in every store your family visited?\"', 'target_char_answer_col': 'R_0: \"Lisa Simpson: Trust me, I\\'ve left a lot out, and cleaned up the swears. Anyway, I ran into some schoolmates and thought they might be friendly. (SLIGHTLY SAD) That\\'s what kids do, right? Hang out at the mall together. But when I went over...\"'}, {'premise_updated_col': 'R_1: \"Gary Chalmers: Ameliorate.\"', 'target_char_answer_col': 'R_0: \"Lisa Simpson: Could you use it in a sentence?\"'}]\n",
            "DEBUG:chat_util_module:find_top_n_unique_l2 - сделано\n",
            "DEBUG:chat_util_module:Тело ответа top_l2_bi_cr: ['Igor Pokrishkin: Top-notch skill, Dad.', 'R_0: \"Lisa Simpson: Lay off, guys. He\\'s with me.\"']\n",
            "INFO:werkzeug:127.0.0.1 - - [25/Feb/2024 09:05:46] \"POST /top_l2_bi_cr HTTP/1.1\" 200 -\n"
          ]
        },
        {
          "output_type": "stream",
          "name": "stdout",
          "text": [
            "8 \"/top_l2_bi_cr\" запрос:\"{\"query\": \"Top-notch skill, Dad.\", \"user\": \"Igor Pokrishkin\"}\" > ответ:\"{\n",
            "  \"response\": [\n",
            "    \"Igor Pokrishkin: Top-notch skill, Dad.\",\n",
            "    \"R_0: \\\"Lisa Simpson: Lay off, guys. He's with me.\\\"\"\n",
            "  ]\n",
            "}\"\n"
          ]
        },
        {
          "output_type": "stream",
          "name": "stderr",
          "text": [
            "INFO:werkzeug:127.0.0.1 - - [25/Feb/2024 09:05:46] \"DELETE /clear HTTP/1.1\" 200 -\n"
          ]
        },
        {
          "output_type": "stream",
          "name": "stdout",
          "text": [
            "---\n"
          ]
        },
        {
          "output_type": "stream",
          "name": "stderr",
          "text": [
            "DEBUG:chat_util_module:find_top_n_unique_l2_psa_bi_plus_cross_enc - старт выполнения\n",
            "DEBUG:chat_util_module:find_top_n_unique_l2_psa - get indices\n",
            "DEBUG:chat_util_module:find_top_n_unique_l2_psa - sorting\n",
            "DEBUG:chat_util_module:find unique\n",
            "DEBUG:chat_util_module:Лучшие соответствия (реплики из тестового набора): [{'premise_updated_col': 'R_3: \"Homer Simpson: What\\'s your problem?\"; R_2: \"Lisa Simpson: (SULLEN) Whacking Day is coming.\"; R_1: \"Homer Simpson: Woo hoo! The greatest day of the year.\"', 'target_char_answer_col': 'R_0: \"Lisa Simpson: But killing snakes is evil.\"'}, {'premise_updated_col': 'R_3: \"Homer Simpson: Gimme a banana.\"; R_2: \"Lisa Simpson: I don\\'t have any banana.\"; R_1: \"Homer Simpson: Come on, you\\'re holding out on me.\"', 'target_char_answer_col': 'R_0: \"Lisa Simpson: I\\'m sorry I called you a baboon, Dad.\"'}, {'premise_updated_col': 'R_3: \"Homer Simpson: (CALLING) Sweetie, if we didn\\'t turn it down for the cops, what chance do you have? (LAUGHS) He hit her again.\"; R_2: \"Lisa Simpson: (MUTTERING) Stupid, inconsiderate bunch of jerks... I can\\'t believe, after I...\"; R_1: \"RASPY VOICE: Losing your marbles, huh, kid?\"', 'target_char_answer_col': 'R_0: \"Lisa Simpson: (SHORT SCREAM, THEN) Lucy?\"'}, {'premise_updated_col': 'R_3: \"Homer Simpson: (WAKING UP) Huh? Wuh? Lisa? What\\'s up?\"; R_2: \"Lisa Simpson: I just had a bad dream.\"; R_1: \"Homer Simpson: Aw, sure... you just lie down and tell me all about it.\"', 'target_char_answer_col': 'R_0: \"Lisa Simpson: Well, I know it\\'s absurd, but I dreamed the Boogeyman was after me and he\\'s hiding...\"'}, {'premise_updated_col': 'R_3: \"Homer Simpson: Yellow card!\"; R_2: \"Lisa Simpson: You can\\'t give me a yellow card?! You\\'re my father!\"; R_1: \"Homer Simpson: When I put on these shorts, I\\'m not your father anymore. (POINTS TO PANTS) And judging by how tight they are, I\\'m never gonna be anyone else\\'s either.\"', 'target_char_answer_col': 'R_0: \"Lisa Simpson: This is what I think of your yellow card!\"'}, {'premise_updated_col': 'R_3: \"Homer Simpson: Here you go.\"; R_2: \"Lisa Simpson: This whole morning has been wonderful. (TO BART, SUSPICIOUS) Too wonderful.\"; R_1: \"Bart Simpson: (SCARED) You\\'re right, this is it. They\\'re selling us to be crash test dummies.\"', 'target_char_answer_col': 'R_0: \"Lisa Simpson: (SCARED) Oh, please let it be Volvo.\"'}, {'premise_updated_col': 'R_3: \"Bart Simpson: Shut up! I don\\'t love Milhouse.\"; R_2: \"Lisa Simpson: Oh really? The more you deny it, the more I know it\\'s true.\"; R_1: \"Bart Simpson: Oh yeah? (TEASING) Well when you\\'re mean, I\\'m a trampoline, so everything you said goes back and hits your ugly head.\"', 'target_char_answer_col': 'R_0: \"Lisa Simpson: (LAUGHING) God, that was lame! Where did you get that?!\"'}, {'premise_updated_col': 'R_3: \"Bart Simpson: You got it.\"; R_2: \"Lisa Simpson: Become like an uncarved stone.\"; R_1: \"Bart Simpson: Done.\"', 'target_char_answer_col': 'R_0: \"Lisa Simpson: Bart! You\\'re just pretending to know what I\\'m talking about.\"'}]\n",
            "DEBUG:chat_util_module:find_top_n_unique_l2_psa - сделано\n",
            "DEBUG:chat_util_module:Тело ответа top_l2_psa_bi_cr: ['Igor Pokrishkin: Top-notch skill, Dad.', 'R_0: \"Lisa Simpson: But killing snakes is evil.\"']\n",
            "INFO:werkzeug:127.0.0.1 - - [25/Feb/2024 09:05:54] \"POST /top_l2_psa_bi_cr HTTP/1.1\" 200 -\n"
          ]
        },
        {
          "output_type": "stream",
          "name": "stdout",
          "text": [
            "8 \"/top_l2_psa_bi_cr\" запрос:\"{\"query\": \"Top-notch skill, Dad.\", \"user\": \"Igor Pokrishkin\"}\" > ответ:\"{\n",
            "  \"response\": [\n",
            "    \"Igor Pokrishkin: Top-notch skill, Dad.\",\n",
            "    \"R_0: \\\"Lisa Simpson: But killing snakes is evil.\\\"\"\n",
            "  ]\n",
            "}\"\n"
          ]
        },
        {
          "output_type": "stream",
          "name": "stderr",
          "text": [
            "INFO:werkzeug:127.0.0.1 - - [25/Feb/2024 09:05:54] \"DELETE /clear HTTP/1.1\" 200 -\n"
          ]
        },
        {
          "output_type": "stream",
          "name": "stdout",
          "text": [
            "---\n"
          ]
        },
        {
          "output_type": "stream",
          "name": "stderr",
          "text": [
            "DEBUG:chat_util_module:find_similar_answers_cross_enc - старт выполнения\n",
            "DEBUG:chat_util_module:Лучшие соответствия (реплики из тестового набора): [{'premise_updated_col': 'R_2: \"Adult Lisa: (TO HERSELF) Hands off, hands off. Eh, screw it! Sometimes a mother\\'s job is to butt in.\"; R_1: \"Marge Simpson: Lisa...\"', 'target_char_answer_col': 'R_0: \"Adult Lisa: Butt out.\"'}, {'premise_updated_col': 'R_3: \"Adult Lisa: Lisa Simpson, the following people want to friend you.\"; R_2: \"Adult Lisa: (PRESSING BUTTONS) Ignore, ignore, ignore... Ooh, Martin Prince is now \"Marcia Princess?\" (SLIGHT GIGGLE, THEN DETERMINED) No, I\\'ve got to find Zia.\"; R_1: \"Adult Nelson: Hey, Lis. Is your marriage still dead and unfulfilled?\"', 'target_char_answer_col': 'R_0: \"Adult Lisa: Not a good time.\"'}, {'premise_updated_col': 'R_3: \"ZOMBIE MILHOUSE: (QUICKLY LIKE A HOPEFUL KID) Brains? Brains?\"; R_2: \"Adult Lisa: (PULLS OUT PACKAGE) Garden brains.\"; R_1: \"ZOMBIE MILHOUSE: (STILL QUICK AND HOPEFUL) Spicy Mexican garden brains?\"', 'target_char_answer_col': 'R_0: \"Adult Lisa: Too much sodium.\"'}, {'premise_updated_col': 'R_3: \"Adult Bart: Maybe it\\'s the court-mandated sincerity chip I\\'ve got in my brain. But Lis... you\\'re the person I always wanted to be.\"; R_2: \"Adult Bart: I gotta reconnect with those boys.\"; R_1: \"Adult Lisa: Godspeed, Bart. I\\'m gonna go apologize to Mom!\"', 'target_char_answer_col': 'R_0: \"Adult Lisa: How do I get down?\"'}, {'premise_updated_col': 'R_3: \"Teenage Milhouse: Not going to Yale isn\\'t the end of the world.\"; R_2: \"Teenage Lisa: (PERKING UP) Yeah, I\\'m starting to see that.\"; R_1: \"Teenage Milhouse: No, I mean, you\\'re screwed! Your only hope is to clutch at straws! (WAGGING EYEBROWS) Straws who\\'ve always loved you.\"', 'target_char_answer_col': 'R_0: \"Teenage Lisa: (VULNERABLE) Really?\"'}, {'premise_updated_col': 'R_3: \"Zombie: Brains!\"; R_2: \"Adult Lisa: Actually, Terrence, this is a synthetic substance. Devised for zombie vegans, or \"Zegans.\"\"; R_1: \"Terrence: (ZOMBIE-LIKE) Meh.\"', 'target_char_answer_col': 'R_0: \"Adult Lisa: What are you doing here?\"'}, {'premise_updated_col': 'R_3: \"Adult Bart: (HUGE LAUGH, THEN:) Sorry.\"; R_2: \"Adult Lisa: (SHRUG) \\'S okay. But you know who took her side? Marge (STRETCHING IT OUT) Boooouuuuvier Simpson!\"; R_1: \"Adult Bart: Wha\\'d-she-do?\"', 'target_char_answer_col': 'R_0: \"Adult Lisa: She told me to relax and bake cookies!\"'}, {'premise_updated_col': 'R_1: \"Jenda: Your brother is so hot.\"', 'target_char_answer_col': 'R_0: \"Teenage Lisa: Stop telling me that.\"'}]\n",
            "DEBUG:chat_util_module:find_similar_answers_cross_enc - сделано\n",
            "DEBUG:chat_util_module:Тело ответа top_cr: ['Igor Pokrishkin: Top-notch skill, Dad.', 'R_0: \"Adult Lisa: Butt out.\"']\n",
            "INFO:werkzeug:127.0.0.1 - - [25/Feb/2024 09:06:03] \"POST /top_cr HTTP/1.1\" 200 -\n"
          ]
        },
        {
          "output_type": "stream",
          "name": "stdout",
          "text": [
            "8 \"/top_cr\" запрос:\"{\"query\": \"Top-notch skill, Dad.\", \"user\": \"Igor Pokrishkin\"}\" > ответ:\"{\n",
            "  \"response\": [\n",
            "    \"Igor Pokrishkin: Top-notch skill, Dad.\",\n",
            "    \"R_0: \\\"Adult Lisa: Butt out.\\\"\"\n",
            "  ]\n",
            "}\"\n"
          ]
        },
        {
          "output_type": "stream",
          "name": "stderr",
          "text": [
            "INFO:werkzeug:127.0.0.1 - - [25/Feb/2024 09:06:03] \"DELETE /clear HTTP/1.1\" 200 -\n"
          ]
        }
      ]
    },
    {
      "cell_type": "markdown",
      "source": [
        "#### Диалог"
      ],
      "metadata": {
        "id": "ohdLsof1tK9H"
      },
      "id": "ohdLsof1tK9H"
    },
    {
      "cell_type": "code",
      "source": [
        "def process_queries(query_user_pairs: List[Tuple[str, str]], resource_url: str) -> None:\n",
        "    \"\"\"\n",
        "    Реализация режима диалога.\n",
        "    Обрабатывает серию запросов к API и выводит состояние чата после каждого запроса:\n",
        "    - для каждого из 'top_cos_sim_bi_cr', 'top_l2_bi_cr', 'top_l2_psa_bi_cr', 'top_cr' выполняет серию запросов;\n",
        "    - запрос состввляется для пары пользователь - реплика;\n",
        "    - после обработки всех запросов - переходит к отправке сообщений на следующий ресурс;\n",
        "    - выводит текущего чата напротив каждого запроса;\n",
        "    - очищает чат после завершения работы с ресурсом (после отправки всех запросов на текущий ресурс).\n",
        "\n",
        "    Parameters:\n",
        "    query_user_pairs (List[Tuple[str, str]]): Список кортежей, содержащих пары пользователь-запрос.\n",
        "    resource_url (str): Базовый URL ресурса, к которому будут отправляться запросы.\n",
        "\n",
        "    Returns:\n",
        "    None\n",
        "    \"\"\"\n",
        "    endpoints = [\n",
        "        'top_cos_sim_bi_cr',\n",
        "        'top_l2_bi_cr',\n",
        "        'top_l2_psa_bi_cr',\n",
        "        'top_cr'\n",
        "    ]\n",
        "    clear_endpoint = '/clear'\n",
        "\n",
        "    for endpoint in endpoints:\n",
        "        for index, (user, query) in enumerate(query_user_pairs, start=1):\n",
        "            data = {\n",
        "                \"query\": query,\n",
        "                \"user\": user\n",
        "            }\n",
        "\n",
        "\n",
        "            full_url = f'{resource_url}/{endpoint}'\n",
        "            response = requests.post(full_url, json=data)\n",
        "\n",
        "            formatted_response = json.dumps(response.json(), ensure_ascii=False, indent=2) if response.ok else response.text\n",
        "            print(f'{index} \"/{endpoint}\" запрос:\"{json.dumps(data, ensure_ascii=False)}\" > состояние чата:\"{formatted_response}\"')\n",
        "\n",
        "            if index != len(query_user_pairs):\n",
        "                print('---')\n",
        "\n",
        "        requests.delete(f'{resource_url}{clear_endpoint}')\n",
        "        if endpoint != endpoints[-1]:\n",
        "            print('=================================================================\\n')\n",
        "\n",
        "# вопрос - состояние чата (с сохранением контекста)\n",
        "query_user_pairs = [\n",
        "    ('Postman', 'Your Cristmas Tree.'),\n",
        "    ('Postman', 'From Santa, North Pole.')\n",
        "]\n",
        "\n",
        "resource_url = 'https://58b7-34-91-145-6.ngrok-free.app'\n",
        "process_queries(query_user_pairs, resource_url)"
      ],
      "metadata": {
        "colab": {
          "base_uri": "https://localhost:8080/"
        },
        "id": "BK8GUiQg5Tey",
        "outputId": "cfe79e4c-12d9-48ae-aded-f094acfeedb3"
      },
      "id": "BK8GUiQg5Tey",
      "execution_count": 12,
      "outputs": [
        {
          "output_type": "stream",
          "name": "stderr",
          "text": [
            "DEBUG:chat_util_module:find_top_n_unique_cosine_sim_bi_plus_cross_enc - старт выполнения\n",
            "DEBUG:chat_util_module:Query: Your Cristmas Tree.\n",
            "DEBUG:chat_util_module:User: Postman\n",
            "DEBUG:chat_util_module:Enriched query: R_1: \"Postman: Your Cristmas Tree.\"\n",
            "DEBUG:chat_util_module:find_top_n_unique_cosine_sim - get cosine similarities\n",
            "DEBUG:chat_util_module:find_top_n_unique_cosine_sim - sorting\n",
            "DEBUG:chat_util_module:find_top_n_unique_cosine_sim - сделано\n",
            "DEBUG:chat_util_module:Лучшие значение схожести векторов: [0.98259497, 0.9819634, 0.98168385, 0.98155797, 0.9813513, 0.98118544, 0.9810814, 0.9808949]\n",
            "DEBUG:chat_util_module:Лучшие соответствия (реплики из тестового набора): [{'premise_updated_col': 'R_1: \"Marge Simpson: Hold still.\"', 'target_char_answer_col': 'R_0: \"Lisa Simpson: I\\'m so proud! My dad will be the grand finale of the Thanksgiving Day Parade.\"'}, {'premise_updated_col': 'R_1: \"Bart Simpson: Sorry, Lis, I no longer control the hand. The hand controls me.\"', 'target_char_answer_col': 'R_0: \"Lisa Simpson: Daad!\"'}, {'premise_updated_col': 'R_1: \"Scratchy: Friend?\"', 'target_char_answer_col': 'R_0: \"Lisa Simpson: (PROUDLY) Bart, you wanna see something cool?\"'}, {'premise_updated_col': 'R_1: \"Townspeople: L-I-S-A! L-I-S-A!\"', 'target_char_answer_col': 'R_0: \"Lisa Simpson: Thank you! I\\'ve never felt more accepted. Perhaps one day people who spell correctly will replace athletes at the top of our national pantheon.\"'}, {'premise_updated_col': 'R_1: \"Bart Simpson: Hi, man.\"', 'target_char_answer_col': 'R_0: \"Lisa Simpson: I don\\'t want your pity.\"'}, {'premise_updated_col': 'R_1: \"Bart Simpson: Lis, you awake?\"', 'target_char_answer_col': 'R_0: \"Lisa Simpson: Yeah, I can\\'t sleep. Maybe we should give Mom and Dad a break. You know, go spend the day in an amusement park so we\\'re out of their hair.\"'}, {'premise_updated_col': 'R_1: \"Bart Simpson: Bye, Unky Herb.\"', 'target_char_answer_col': 'R_0: \"Lisa Simpson: Bye, Unky Herb.\"'}, {'premise_updated_col': 'R_1: \"Cregg Demon: ...and taking the shuttle, yo!\"', 'target_char_answer_col': 'R_0: \"Lisa Simpson: Raymondo, I am so sorry. I got rolled by a pro! Do you know what it\\'s like to be the kind of girl that boys never talk to and then suddenly a boy talks to you--\"'}]\n",
            "DEBUG:chat_util_module:unique_top_answers: ['R_0: \"Lisa Simpson: I\\'m so proud! My dad will be the grand finale of the Thanksgiving Day Parade.\"', 'R_0: \"Lisa Simpson: Daad!\"', 'R_0: \"Lisa Simpson: (PROUDLY) Bart, you wanna see something cool?\"', 'R_0: \"Lisa Simpson: Thank you! I\\'ve never felt more accepted. Perhaps one day people who spell correctly will replace athletes at the top of our national pantheon.\"', 'R_0: \"Lisa Simpson: I don\\'t want your pity.\"', 'R_0: \"Lisa Simpson: Yeah, I can\\'t sleep. Maybe we should give Mom and Dad a break. You know, go spend the day in an amusement park so we\\'re out of their hair.\"', 'R_0: \"Lisa Simpson: Bye, Unky Herb.\"', 'R_0: \"Lisa Simpson: Raymondo, I am so sorry. I got rolled by a pro! Do you know what it\\'s like to be the kind of girl that boys never talk to and then suddenly a boy talks to you--\"']\n",
            "DEBUG:chat_util_module:Тело ответа top_cos_sim_bi_cr: ['Postman: Your Cristmas Tree.', 'R_0: \"Lisa Simpson: I\\'m so proud! My dad will be the grand finale of the Thanksgiving Day Parade.\"']\n",
            "INFO:werkzeug:127.0.0.1 - - [25/Feb/2024 10:05:26] \"POST /top_cos_sim_bi_cr HTTP/1.1\" 200 -\n"
          ]
        },
        {
          "output_type": "stream",
          "name": "stdout",
          "text": [
            "1 \"/top_cos_sim_bi_cr\" запрос:\"{\"query\": \"Your Cristmas Tree.\", \"user\": \"Postman\"}\" > состояние чата:\"{\n",
            "  \"response\": [\n",
            "    \"Postman: Your Cristmas Tree.\",\n",
            "    \"R_0: \\\"Lisa Simpson: I'm so proud! My dad will be the grand finale of the Thanksgiving Day Parade.\\\"\"\n",
            "  ]\n",
            "}\"\n",
            "---\n"
          ]
        },
        {
          "output_type": "stream",
          "name": "stderr",
          "text": [
            "DEBUG:chat_util_module:find_top_n_unique_cosine_sim_bi_plus_cross_enc - старт выполнения\n",
            "DEBUG:chat_util_module:Query: From Santa, North Pole.\n",
            "DEBUG:chat_util_module:User: Postman\n",
            "DEBUG:chat_util_module:Enriched query: R_3: \"Postman: Your Cristmas Tree.\"; R_2: \"R_0: \"Lisa Simpson: I'm so proud! My dad will be the grand finale of the Thanksgiving Day Parade.\"\"; R_1: \"Postman: From Santa, North Pole.\"\n",
            "DEBUG:chat_util_module:find_top_n_unique_cosine_sim - get cosine similarities\n",
            "DEBUG:chat_util_module:find_top_n_unique_cosine_sim - sorting\n",
            "DEBUG:chat_util_module:find_top_n_unique_cosine_sim - сделано\n",
            "DEBUG:chat_util_module:Лучшие значение схожести векторов: [0.98255265, 0.9824291, 0.9824255, 0.9821501, 0.981861, 0.98176694, 0.98158514, 0.98138756]\n",
            "DEBUG:chat_util_module:Лучшие соответствия (реплики из тестового набора): [{'premise_updated_col': 'R_3: \"Giant Grasshopper: (NATHAN LANE VOICE) Who told you that?\"; R_2: \"Lisa Simpson: Um... I just assumed?\"; R_1: \"Ant: This is what you\\'ve been dipping in chocolate!\"', 'target_char_answer_col': 'R_0: \"Lisa Simpson: (HORRIFIED) Nooo!\"'}, {'premise_updated_col': 'R_3: \"Richard Gere: You can celebrate any holiday. And you know, my birthday is August thirty-first.\"; R_2: \"Lisa Simpson: Oh, I\\'ll send you an email greeting card.\"; R_1: \"Richard Gere: Sweet.\"', 'target_char_answer_col': 'R_0: \"Lisa Simpson: Now I really should be getting back to my family.\"'}, {'premise_updated_col': 'R_3: \"Chief Wiggum: (SIGHS) Can I uh... can I borrow that ostrich?\"; R_2: \"Lisa Simpson: Sure.\"; R_1: \"Chief Wiggum: How cool is this?\"', 'target_char_answer_col': 'R_0: \"Lisa Simpson: I guess that\\'s it. (SNIFFLES) These animals are all gonna die.\"'}, {'premise_updated_col': 'R_3: \"Ranger: Leave those deer alone!\"; R_2: \"Lisa Simpson: But they were trying to eat me!\"; R_1: \"Ranger: Ha! Those deer?\"', 'target_char_answer_col': 'R_0: \"Lisa Simpson: But they...\"'}, {'premise_updated_col': 'R_3: \"Chief Wiggum: Uh. Yeah. That\\'s just what it is, a bust.\"; R_2: \"Lisa Simpson: That story isn\\'t suitable for children.\"; R_1: \"Chief Wiggum: Really? I keep my pants on in this version.\"', 'target_char_answer_col': 'R_0: \"Lisa Simpson: Eiw.\"'}, {'premise_updated_col': 'R_3: \"Dewey Largo: (GRUMBLING) Oh swell, more work for the teachers.\"; R_2: \"Lisa Simpson: The students would do it.\"; R_1: \"Dewey Largo: (STANDS, GESTURES) Let her speak!\"', 'target_char_answer_col': 'R_0: \"Lisa Simpson: If every student pledges not to cheat, and to turn in any cheater, no one will cheat the system because they\\'ll be the system.\"'}, {'premise_updated_col': 'R_3: \"Patty Bouvier: He put ice in the urinals.\"; R_2: \"Lisa Simpson: Those are all wonderful things. But they\\'ve cost the church its soul. And I, for one, will not be a part of it!\"; R_1: \"Usher: Do you want your hand stamped so you can come back in?\"', 'target_char_answer_col': 'R_0: \"Lisa Simpson: No! I\\'m leaving this church forever!\"'}, {'premise_updated_col': 'R_3: \"Phonic Frog: You are a disappointment to Huh-oh-muh-eh-er.\"; R_2: \"Lisa Simpson: (TIPSY REMINISCING) I used to be the smart one.\"; R_1: \"Phonic Frog: Where-is-my-dinner?\"', 'target_char_answer_col': 'R_0: \"Lisa Simpson: Maggie, you\\'re such a quick learner -- why don\\'t you learn how to fly!\"'}]\n",
            "DEBUG:chat_util_module:unique_top_answers: ['R_0: \"Lisa Simpson: (HORRIFIED) Nooo!\"', 'R_0: \"Lisa Simpson: Now I really should be getting back to my family.\"', 'R_0: \"Lisa Simpson: I guess that\\'s it. (SNIFFLES) These animals are all gonna die.\"', 'R_0: \"Lisa Simpson: But they...\"', 'R_0: \"Lisa Simpson: Eiw.\"', 'R_0: \"Lisa Simpson: If every student pledges not to cheat, and to turn in any cheater, no one will cheat the system because they\\'ll be the system.\"', 'R_0: \"Lisa Simpson: No! I\\'m leaving this church forever!\"', 'R_0: \"Lisa Simpson: Maggie, you\\'re such a quick learner -- why don\\'t you learn how to fly!\"']\n",
            "DEBUG:chat_util_module:Тело ответа top_cos_sim_bi_cr: ['Postman: Your Cristmas Tree.', 'R_0: \"Lisa Simpson: I\\'m so proud! My dad will be the grand finale of the Thanksgiving Day Parade.\"', 'Postman: From Santa, North Pole.', 'R_0: \"Lisa Simpson: (HORRIFIED) Nooo!\"']\n",
            "INFO:werkzeug:127.0.0.1 - - [25/Feb/2024 10:05:41] \"POST /top_cos_sim_bi_cr HTTP/1.1\" 200 -\n"
          ]
        },
        {
          "output_type": "stream",
          "name": "stdout",
          "text": [
            "2 \"/top_cos_sim_bi_cr\" запрос:\"{\"query\": \"From Santa, North Pole.\", \"user\": \"Postman\"}\" > состояние чата:\"{\n",
            "  \"response\": [\n",
            "    \"Postman: Your Cristmas Tree.\",\n",
            "    \"R_0: \\\"Lisa Simpson: I'm so proud! My dad will be the grand finale of the Thanksgiving Day Parade.\\\"\",\n",
            "    \"Postman: From Santa, North Pole.\",\n",
            "    \"R_0: \\\"Lisa Simpson: (HORRIFIED) Nooo!\\\"\"\n",
            "  ]\n",
            "}\"\n"
          ]
        },
        {
          "output_type": "stream",
          "name": "stderr",
          "text": [
            "INFO:werkzeug:127.0.0.1 - - [25/Feb/2024 10:05:41] \"DELETE /clear HTTP/1.1\" 200 -\n"
          ]
        },
        {
          "output_type": "stream",
          "name": "stdout",
          "text": [
            "=================================================================\n",
            "\n"
          ]
        },
        {
          "output_type": "stream",
          "name": "stderr",
          "text": [
            "DEBUG:chat_util_module:find_top_n_unique_l2_bi_plus_cross_enc - старт выполнения\n",
            "DEBUG:chat_util_module:find_top_n_unique_l2 - get indices\n",
            "DEBUG:chat_util_module:find_top_n_unique_l2 - sorting\n",
            "DEBUG:chat_util_module:Лучшие соответствия (реплики из тестового набора): [{'premise_updated_col': 'R_1: \"Marge Simpson: Hold still.\"', 'target_char_answer_col': 'R_0: \"Lisa Simpson: I\\'m so proud! My dad will be the grand finale of the Thanksgiving Day Parade.\"'}, {'premise_updated_col': 'R_1: \"Jenda: Your brother is so hot.\"', 'target_char_answer_col': 'R_0: \"Teenage Lisa: Stop telling me that.\"'}, {'premise_updated_col': 'R_1: \"Scratchy: Friend?\"', 'target_char_answer_col': 'R_0: \"Lisa Simpson: (PROUDLY) Bart, you wanna see something cool?\"'}, {'premise_updated_col': 'R_1: \"Townspeople: L-I-S-A! L-I-S-A!\"', 'target_char_answer_col': 'R_0: \"Lisa Simpson: Thank you! I\\'ve never felt more accepted. Perhaps one day people who spell correctly will replace athletes at the top of our national pantheon.\"'}, {'premise_updated_col': 'R_1: \"Bart Simpson: Sorry, Lis, I no longer control the hand. The hand controls me.\"', 'target_char_answer_col': 'R_0: \"Lisa Simpson: Daad!\"'}, {'premise_updated_col': 'R_1: \"Bart Simpson: Lis, you awake?\"', 'target_char_answer_col': 'R_0: \"Lisa Simpson: Yeah, I can\\'t sleep. Maybe we should give Mom and Dad a break. You know, go spend the day in an amusement park so we\\'re out of their hair.\"'}, {'premise_updated_col': 'R_1: \"Bart Simpson: Hi, man.\"', 'target_char_answer_col': 'R_0: \"Lisa Simpson: I don\\'t want your pity.\"'}, {'premise_updated_col': 'R_1: \"Cregg Demon: ...and taking the shuttle, yo!\"', 'target_char_answer_col': 'R_0: \"Lisa Simpson: Raymondo, I am so sorry. I got rolled by a pro! Do you know what it\\'s like to be the kind of girl that boys never talk to and then suddenly a boy talks to you--\"'}]\n",
            "DEBUG:chat_util_module:find_top_n_unique_l2 - сделано\n",
            "DEBUG:chat_util_module:Тело ответа top_l2_bi_cr: ['Postman: Your Cristmas Tree.', 'R_0: \"Lisa Simpson: I\\'m so proud! My dad will be the grand finale of the Thanksgiving Day Parade.\"']\n",
            "INFO:werkzeug:127.0.0.1 - - [25/Feb/2024 10:05:48] \"POST /top_l2_bi_cr HTTP/1.1\" 200 -\n"
          ]
        },
        {
          "output_type": "stream",
          "name": "stdout",
          "text": [
            "1 \"/top_l2_bi_cr\" запрос:\"{\"query\": \"Your Cristmas Tree.\", \"user\": \"Postman\"}\" > состояние чата:\"{\n",
            "  \"response\": [\n",
            "    \"Postman: Your Cristmas Tree.\",\n",
            "    \"R_0: \\\"Lisa Simpson: I'm so proud! My dad will be the grand finale of the Thanksgiving Day Parade.\\\"\"\n",
            "  ]\n",
            "}\"\n",
            "---\n"
          ]
        },
        {
          "output_type": "stream",
          "name": "stderr",
          "text": [
            "DEBUG:chat_util_module:find_top_n_unique_l2_bi_plus_cross_enc - старт выполнения\n",
            "DEBUG:chat_util_module:find_top_n_unique_l2 - get indices\n",
            "DEBUG:chat_util_module:find_top_n_unique_l2 - sorting\n",
            "DEBUG:chat_util_module:Лучшие соответствия (реплики из тестового набора): [{'premise_updated_col': 'R_3: \"Dewey Largo: (GRUMBLING) Oh swell, more work for the teachers.\"; R_2: \"Lisa Simpson: The students would do it.\"; R_1: \"Dewey Largo: (STANDS, GESTURES) Let her speak!\"', 'target_char_answer_col': 'R_0: \"Lisa Simpson: If every student pledges not to cheat, and to turn in any cheater, no one will cheat the system because they\\'ll be the system.\"'}, {'premise_updated_col': 'R_3: \"Chief Wiggum: (SIGHS) Can I uh... can I borrow that ostrich?\"; R_2: \"Lisa Simpson: Sure.\"; R_1: \"Chief Wiggum: How cool is this?\"', 'target_char_answer_col': 'R_0: \"Lisa Simpson: I guess that\\'s it. (SNIFFLES) These animals are all gonna die.\"'}, {'premise_updated_col': 'R_3: \"Giant Grasshopper: (NATHAN LANE VOICE) Who told you that?\"; R_2: \"Lisa Simpson: Um... I just assumed?\"; R_1: \"Ant: This is what you\\'ve been dipping in chocolate!\"', 'target_char_answer_col': 'R_0: \"Lisa Simpson: (HORRIFIED) Nooo!\"'}, {'premise_updated_col': 'R_3: \"Richard Gere: You can celebrate any holiday. And you know, my birthday is August thirty-first.\"; R_2: \"Lisa Simpson: Oh, I\\'ll send you an email greeting card.\"; R_1: \"Richard Gere: Sweet.\"', 'target_char_answer_col': 'R_0: \"Lisa Simpson: Now I really should be getting back to my family.\"'}, {'premise_updated_col': 'R_3: \"Phonic Frog: You are a disappointment to Huh-oh-muh-eh-er.\"; R_2: \"Lisa Simpson: (TIPSY REMINISCING) I used to be the smart one.\"; R_1: \"Phonic Frog: Where-is-my-dinner?\"', 'target_char_answer_col': 'R_0: \"Lisa Simpson: Maggie, you\\'re such a quick learner -- why don\\'t you learn how to fly!\"'}, {'premise_updated_col': 'R_3: \"Ranger: Leave those deer alone!\"; R_2: \"Lisa Simpson: But they were trying to eat me!\"; R_1: \"Ranger: Ha! Those deer?\"', 'target_char_answer_col': 'R_0: \"Lisa Simpson: But they...\"'}, {'premise_updated_col': 'R_3: \"Patty Bouvier: He put ice in the urinals.\"; R_2: \"Lisa Simpson: Those are all wonderful things. But they\\'ve cost the church its soul. And I, for one, will not be a part of it!\"; R_1: \"Usher: Do you want your hand stamped so you can come back in?\"', 'target_char_answer_col': 'R_0: \"Lisa Simpson: No! I\\'m leaving this church forever!\"'}, {'premise_updated_col': 'R_3: \"Chief Wiggum: Uh. Yeah. That\\'s just what it is, a bust.\"; R_2: \"Lisa Simpson: That story isn\\'t suitable for children.\"; R_1: \"Chief Wiggum: Really? I keep my pants on in this version.\"', 'target_char_answer_col': 'R_0: \"Lisa Simpson: Eiw.\"'}]\n",
            "DEBUG:chat_util_module:find_top_n_unique_l2 - сделано\n",
            "DEBUG:chat_util_module:Тело ответа top_l2_bi_cr: ['Postman: Your Cristmas Tree.', 'R_0: \"Lisa Simpson: I\\'m so proud! My dad will be the grand finale of the Thanksgiving Day Parade.\"', 'Postman: From Santa, North Pole.', 'R_0: \"Lisa Simpson: If every student pledges not to cheat, and to turn in any cheater, no one will cheat the system because they\\'ll be the system.\"']\n",
            "INFO:werkzeug:127.0.0.1 - - [25/Feb/2024 10:05:55] \"POST /top_l2_bi_cr HTTP/1.1\" 200 -\n"
          ]
        },
        {
          "output_type": "stream",
          "name": "stdout",
          "text": [
            "2 \"/top_l2_bi_cr\" запрос:\"{\"query\": \"From Santa, North Pole.\", \"user\": \"Postman\"}\" > состояние чата:\"{\n",
            "  \"response\": [\n",
            "    \"Postman: Your Cristmas Tree.\",\n",
            "    \"R_0: \\\"Lisa Simpson: I'm so proud! My dad will be the grand finale of the Thanksgiving Day Parade.\\\"\",\n",
            "    \"Postman: From Santa, North Pole.\",\n",
            "    \"R_0: \\\"Lisa Simpson: If every student pledges not to cheat, and to turn in any cheater, no one will cheat the system because they'll be the system.\\\"\"\n",
            "  ]\n",
            "}\"\n"
          ]
        },
        {
          "output_type": "stream",
          "name": "stderr",
          "text": [
            "INFO:werkzeug:127.0.0.1 - - [25/Feb/2024 10:05:55] \"DELETE /clear HTTP/1.1\" 200 -\n"
          ]
        },
        {
          "output_type": "stream",
          "name": "stdout",
          "text": [
            "=================================================================\n",
            "\n"
          ]
        },
        {
          "output_type": "stream",
          "name": "stderr",
          "text": [
            "DEBUG:chat_util_module:find_top_n_unique_l2_psa_bi_plus_cross_enc - старт выполнения\n",
            "DEBUG:chat_util_module:find_top_n_unique_l2_psa - get indices\n",
            "DEBUG:chat_util_module:find_top_n_unique_l2_psa - sorting\n",
            "DEBUG:chat_util_module:find unique\n",
            "DEBUG:chat_util_module:Лучшие соответствия (реплики из тестового набора): [{'premise_updated_col': 'R_3: \"Homer Simpson: What\\'s your problem?\"; R_2: \"Lisa Simpson: (SULLEN) Whacking Day is coming.\"; R_1: \"Homer Simpson: Woo hoo! The greatest day of the year.\"', 'target_char_answer_col': 'R_0: \"Lisa Simpson: But killing snakes is evil.\"'}, {'premise_updated_col': 'R_3: \"Homer Simpson: (WAKING UP) Huh? Wuh? Lisa? What\\'s up?\"; R_2: \"Lisa Simpson: I just had a bad dream.\"; R_1: \"Homer Simpson: Aw, sure... you just lie down and tell me all about it.\"', 'target_char_answer_col': 'R_0: \"Lisa Simpson: Well, I know it\\'s absurd, but I dreamed the Boogeyman was after me and he\\'s hiding...\"'}, {'premise_updated_col': 'R_3: \"Homer Simpson: Here you go.\"; R_2: \"Lisa Simpson: This whole morning has been wonderful. (TO BART, SUSPICIOUS) Too wonderful.\"; R_1: \"Bart Simpson: (SCARED) You\\'re right, this is it. They\\'re selling us to be crash test dummies.\"', 'target_char_answer_col': 'R_0: \"Lisa Simpson: (SCARED) Oh, please let it be Volvo.\"'}, {'premise_updated_col': 'R_3: \"Homer Simpson: (DISTORTED VOICE) We live in a house that is trying to kill us.\"; R_2: \"Lisa Simpson: Hey, Dad.\"; R_1: \"Homer Simpson: (INTO CUP) Who is this \"Dad\" you speak of, Lisa Simpson?\"', 'target_char_answer_col': 'R_0: \"Lisa Simpson: You want a cookie, Dad?\"'}, {'premise_updated_col': 'R_3: \"Bart Simpson: You got it.\"; R_2: \"Lisa Simpson: Become like an uncarved stone.\"; R_1: \"Bart Simpson: Done.\"', 'target_char_answer_col': 'R_0: \"Lisa Simpson: Bart! You\\'re just pretending to know what I\\'m talking about.\"'}, {'premise_updated_col': 'R_3: \"Homer Simpson: Impending doom...\"; R_2: \"Lisa Simpson: (ENTERS) Whatcha reading, Dad?\"; R_1: \"Homer Simpson: Honey, everything\\'s fine. There\\'s nothing to worry about.\"', 'target_char_answer_col': 'R_0: \"Lisa Simpson: (SCARED) When grownups say that, it means there is something to worry about.\"'}, {'premise_updated_col': 'R_3: \"Homer Simpson: Gimme a banana.\"; R_2: \"Lisa Simpson: I don\\'t have any banana.\"; R_1: \"Homer Simpson: Come on, you\\'re holding out on me.\"', 'target_char_answer_col': 'R_0: \"Lisa Simpson: I\\'m sorry I called you a baboon, Dad.\"'}, {'premise_updated_col': 'R_3: \"Homer Simpson: (CALLING) Sweetie, if we didn\\'t turn it down for the cops, what chance do you have? (LAUGHS) He hit her again.\"; R_2: \"Lisa Simpson: (MUTTERING) Stupid, inconsiderate bunch of jerks... I can\\'t believe, after I...\"; R_1: \"RASPY VOICE: Losing your marbles, huh, kid?\"', 'target_char_answer_col': 'R_0: \"Lisa Simpson: (SHORT SCREAM, THEN) Lucy?\"'}]\n",
            "DEBUG:chat_util_module:find_top_n_unique_l2_psa - сделано\n",
            "DEBUG:chat_util_module:Тело ответа top_l2_psa_bi_cr: ['Postman: Your Cristmas Tree.', 'R_0: \"Lisa Simpson: But killing snakes is evil.\"']\n",
            "INFO:werkzeug:127.0.0.1 - - [25/Feb/2024 10:06:04] \"POST /top_l2_psa_bi_cr HTTP/1.1\" 200 -\n"
          ]
        },
        {
          "output_type": "stream",
          "name": "stdout",
          "text": [
            "1 \"/top_l2_psa_bi_cr\" запрос:\"{\"query\": \"Your Cristmas Tree.\", \"user\": \"Postman\"}\" > состояние чата:\"{\n",
            "  \"response\": [\n",
            "    \"Postman: Your Cristmas Tree.\",\n",
            "    \"R_0: \\\"Lisa Simpson: But killing snakes is evil.\\\"\"\n",
            "  ]\n",
            "}\"\n",
            "---\n"
          ]
        },
        {
          "output_type": "stream",
          "name": "stderr",
          "text": [
            "DEBUG:chat_util_module:find_top_n_unique_l2_psa_bi_plus_cross_enc - старт выполнения\n",
            "DEBUG:chat_util_module:find_top_n_unique_l2_psa - get indices\n",
            "DEBUG:chat_util_module:find_top_n_unique_l2_psa - sorting\n",
            "DEBUG:chat_util_module:find unique\n",
            "DEBUG:chat_util_module:Лучшие соответствия (реплики из тестового набора): [{'premise_updated_col': 'R_3: \"Bart Simpson: You got it.\"; R_2: \"Lisa Simpson: Become like an uncarved stone.\"; R_1: \"Bart Simpson: Done.\"', 'target_char_answer_col': 'R_0: \"Lisa Simpson: Bart! You\\'re just pretending to know what I\\'m talking about.\"'}, {'premise_updated_col': 'R_3: \"Homer Simpson: Gimme a banana.\"; R_2: \"Lisa Simpson: I don\\'t have any banana.\"; R_1: \"Homer Simpson: Come on, you\\'re holding out on me.\"', 'target_char_answer_col': 'R_0: \"Lisa Simpson: I\\'m sorry I called you a baboon, Dad.\"'}, {'premise_updated_col': 'R_3: \"Bart Simpson: Also wrong.\"; R_2: \"Lisa Simpson: I\\'m gonna do a little research.\"; R_1: \"Bart Simpson: A little\\'s not gonna be enough, honey pie.\"', 'target_char_answer_col': 'R_0: \"Lisa Simpson: Don\\'t call me honey pie.\"'}, {'premise_updated_col': 'R_3: \"Homer Simpson: What\\'s your problem?\"; R_2: \"Lisa Simpson: (SULLEN) Whacking Day is coming.\"; R_1: \"Homer Simpson: Woo hoo! The greatest day of the year.\"', 'target_char_answer_col': 'R_0: \"Lisa Simpson: But killing snakes is evil.\"'}, {'premise_updated_col': 'R_3: \"Bart Simpson: No.\"; R_2: \"Lisa Simpson: I\\'m not a sniveling toad, am I?\"; R_1: \"Bart Simpson: Not really.\"', 'target_char_answer_col': 'R_0: \"Lisa Simpson: I\\'m not a little egg sucker, am I?\"'}, {'premise_updated_col': 'R_3: \"Lisa Simpson: (TO HOMER) Is Mom gonna have another baby, Dad?\"; R_2: \"Homer Simpson: (PAUSE) Maybe.\"; R_1: \"Bart Simpson: (PATTING HOMER ON BACK) You\\'re a machine, Homer.\"', 'target_char_answer_col': 'R_0: \"Lisa Simpson: Did you hear that Maggie? Another baby in the house.\"'}, {'premise_updated_col': 'R_3: \"Bart Simpson: (CUTTING HER OFF) You don\\'t want to know how far I\\'ll go.\"; R_2: \"Lisa Simpson: Dad, is it right to take things from people you don\\'t like?\"; R_1: \"Homer Simpson: Sure it is, honey. (BEAT) You do mean stealing, don\\'t you?\"', 'target_char_answer_col': 'R_0: \"Lisa Simpson: Well, actually, it\\'s not as bad as stealing, but my conscience is bothering me.\"'}, {'premise_updated_col': 'R_3: \"Homer Simpson: (CALLING) Sweetie, if we didn\\'t turn it down for the cops, what chance do you have? (LAUGHS) He hit her again.\"; R_2: \"Lisa Simpson: (MUTTERING) Stupid, inconsiderate bunch of jerks... I can\\'t believe, after I...\"; R_1: \"RASPY VOICE: Losing your marbles, huh, kid?\"', 'target_char_answer_col': 'R_0: \"Lisa Simpson: (SHORT SCREAM, THEN) Lucy?\"'}]\n",
            "DEBUG:chat_util_module:find_top_n_unique_l2_psa - сделано\n",
            "DEBUG:chat_util_module:Тело ответа top_l2_psa_bi_cr: ['Postman: Your Cristmas Tree.', 'R_0: \"Lisa Simpson: But killing snakes is evil.\"', 'Postman: From Santa, North Pole.', 'R_0: \"Lisa Simpson: Bart! You\\'re just pretending to know what I\\'m talking about.\"']\n",
            "INFO:werkzeug:127.0.0.1 - - [25/Feb/2024 10:06:10] \"POST /top_l2_psa_bi_cr HTTP/1.1\" 200 -\n"
          ]
        },
        {
          "output_type": "stream",
          "name": "stdout",
          "text": [
            "2 \"/top_l2_psa_bi_cr\" запрос:\"{\"query\": \"From Santa, North Pole.\", \"user\": \"Postman\"}\" > состояние чата:\"{\n",
            "  \"response\": [\n",
            "    \"Postman: Your Cristmas Tree.\",\n",
            "    \"R_0: \\\"Lisa Simpson: But killing snakes is evil.\\\"\",\n",
            "    \"Postman: From Santa, North Pole.\",\n",
            "    \"R_0: \\\"Lisa Simpson: Bart! You're just pretending to know what I'm talking about.\\\"\"\n",
            "  ]\n",
            "}\"\n"
          ]
        },
        {
          "output_type": "stream",
          "name": "stderr",
          "text": [
            "INFO:werkzeug:127.0.0.1 - - [25/Feb/2024 10:06:11] \"DELETE /clear HTTP/1.1\" 200 -\n"
          ]
        },
        {
          "output_type": "stream",
          "name": "stdout",
          "text": [
            "=================================================================\n",
            "\n"
          ]
        },
        {
          "output_type": "stream",
          "name": "stderr",
          "text": [
            "DEBUG:chat_util_module:find_similar_answers_cross_enc - старт выполнения\n",
            "DEBUG:chat_util_module:Лучшие соответствия (реплики из тестового набора): [{'premise_updated_col': 'R_3: \"Adult Bart: Maybe it\\'s the court-mandated sincerity chip I\\'ve got in my brain. But Lis... you\\'re the person I always wanted to be.\"; R_2: \"Adult Bart: I gotta reconnect with those boys.\"; R_1: \"Adult Lisa: Godspeed, Bart. I\\'m gonna go apologize to Mom!\"', 'target_char_answer_col': 'R_0: \"Adult Lisa: How do I get down?\"'}, {'premise_updated_col': 'R_2: \"Adult Lisa: (TO HERSELF) Hands off, hands off. Eh, screw it! Sometimes a mother\\'s job is to butt in.\"; R_1: \"Marge Simpson: Lisa...\"', 'target_char_answer_col': 'R_0: \"Adult Lisa: Butt out.\"'}, {'premise_updated_col': 'R_3: \"Adult Lisa: Lisa Simpson, the following people want to friend you.\"; R_2: \"Adult Lisa: (PRESSING BUTTONS) Ignore, ignore, ignore... Ooh, Martin Prince is now \"Marcia Princess?\" (SLIGHT GIGGLE, THEN DETERMINED) No, I\\'ve got to find Zia.\"; R_1: \"Adult Nelson: Hey, Lis. Is your marriage still dead and unfulfilled?\"', 'target_char_answer_col': 'R_0: \"Adult Lisa: Not a good time.\"'}, {'premise_updated_col': 'R_3: \"Zombie: Brains!\"; R_2: \"Adult Lisa: Actually, Terrence, this is a synthetic substance. Devised for zombie vegans, or \"Zegans.\"\"; R_1: \"Terrence: (ZOMBIE-LIKE) Meh.\"', 'target_char_answer_col': 'R_0: \"Adult Lisa: What are you doing here?\"'}, {'premise_updated_col': 'R_3: \"ZOMBIE MILHOUSE: (QUICKLY LIKE A HOPEFUL KID) Brains? Brains?\"; R_2: \"Adult Lisa: (PULLS OUT PACKAGE) Garden brains.\"; R_1: \"ZOMBIE MILHOUSE: (STILL QUICK AND HOPEFUL) Spicy Mexican garden brains?\"', 'target_char_answer_col': 'R_0: \"Adult Lisa: Too much sodium.\"'}, {'premise_updated_col': 'R_3: \"Homer Simpson: And if it were up to me, you wouldn\\'t die at all...\"; R_2: \"Homer Simpson: But try tellin\\' that to Killy McGee up there.\"; R_1: \"Homer Simpson: (CONFUSED NOISE) What on Earth are you doing?\"', 'target_char_answer_col': 'R_0: \"Lisa Simpson: Practicing tennis.\"'}, {'premise_updated_col': 'R_3: \"Adult Bart: (HUGE LAUGH, THEN:) Sorry.\"; R_2: \"Adult Lisa: (SHRUG) \\'S okay. But you know who took her side? Marge (STRETCHING IT OUT) Boooouuuuvier Simpson!\"; R_1: \"Adult Bart: Wha\\'d-she-do?\"', 'target_char_answer_col': 'R_0: \"Adult Lisa: She told me to relax and bake cookies!\"'}, {'premise_updated_col': 'R_3: \"Teenage Milhouse: Not going to Yale isn\\'t the end of the world.\"; R_2: \"Teenage Lisa: (PERKING UP) Yeah, I\\'m starting to see that.\"; R_1: \"Teenage Milhouse: No, I mean, you\\'re screwed! Your only hope is to clutch at straws! (WAGGING EYEBROWS) Straws who\\'ve always loved you.\"', 'target_char_answer_col': 'R_0: \"Teenage Lisa: (VULNERABLE) Really?\"'}]\n",
            "DEBUG:chat_util_module:find_similar_answers_cross_enc - сделано\n",
            "DEBUG:chat_util_module:Тело ответа top_cr: ['Postman: Your Cristmas Tree.', 'R_0: \"Adult Lisa: How do I get down?\"']\n",
            "INFO:werkzeug:127.0.0.1 - - [25/Feb/2024 10:06:19] \"POST /top_cr HTTP/1.1\" 200 -\n"
          ]
        },
        {
          "output_type": "stream",
          "name": "stdout",
          "text": [
            "1 \"/top_cr\" запрос:\"{\"query\": \"Your Cristmas Tree.\", \"user\": \"Postman\"}\" > состояние чата:\"{\n",
            "  \"response\": [\n",
            "    \"Postman: Your Cristmas Tree.\",\n",
            "    \"R_0: \\\"Adult Lisa: How do I get down?\\\"\"\n",
            "  ]\n",
            "}\"\n",
            "---\n"
          ]
        },
        {
          "output_type": "stream",
          "name": "stderr",
          "text": [
            "DEBUG:chat_util_module:find_similar_answers_cross_enc - старт выполнения\n",
            "DEBUG:chat_util_module:Лучшие соответствия (реплики из тестового набора): [{'premise_updated_col': 'R_2: \"Adult Lisa: (TO HERSELF) Hands off, hands off. Eh, screw it! Sometimes a mother\\'s job is to butt in.\"; R_1: \"Marge Simpson: Lisa...\"', 'target_char_answer_col': 'R_0: \"Adult Lisa: Butt out.\"'}, {'premise_updated_col': 'R_3: \"ZOMBIE MILHOUSE: (QUICKLY LIKE A HOPEFUL KID) Brains? Brains?\"; R_2: \"Adult Lisa: (PULLS OUT PACKAGE) Garden brains.\"; R_1: \"ZOMBIE MILHOUSE: (STILL QUICK AND HOPEFUL) Spicy Mexican garden brains?\"', 'target_char_answer_col': 'R_0: \"Adult Lisa: Too much sodium.\"'}, {'premise_updated_col': 'R_3: \"Adult Lisa: Lisa Simpson, the following people want to friend you.\"; R_2: \"Adult Lisa: (PRESSING BUTTONS) Ignore, ignore, ignore... Ooh, Martin Prince is now \"Marcia Princess?\" (SLIGHT GIGGLE, THEN DETERMINED) No, I\\'ve got to find Zia.\"; R_1: \"Adult Nelson: Hey, Lis. Is your marriage still dead and unfulfilled?\"', 'target_char_answer_col': 'R_0: \"Adult Lisa: Not a good time.\"'}, {'premise_updated_col': 'R_3: \"Adult Lisa: Now, where is the Google door?\"; R_2: \"Adult Lisa: Oh right, it\\'s Dr. Seuss\\'s birthday.\"; R_1: \"Adult Lisa: Google, even though you\\'ve enslaved half the world, you\\'re still a damn fine search engine.\"', 'target_char_answer_col': 'R_0: \"Adult Lisa: Bingo.\"'}, {'premise_updated_col': 'R_3: \"Marge Simpson: (\"CONSIDER THIS\") And even if we did have another baby, it might not be a boy. (SLY) It might be another sister.\"; R_2: \"Bart Simpson: Another sister!\"; R_1: \"Adult Bart: How could you possibly need all these clothes?\"', 'target_char_answer_col': 'R_0: \"Adult Lisa: Shopping: it\\'s the most fun you can have standing up.\"'}, {'premise_updated_col': 'R_3: \"Zombie: Brains!\"; R_2: \"Adult Lisa: Actually, Terrence, this is a synthetic substance. Devised for zombie vegans, or \"Zegans.\"\"; R_1: \"Terrence: (ZOMBIE-LIKE) Meh.\"', 'target_char_answer_col': 'R_0: \"Adult Lisa: What are you doing here?\"'}, {'premise_updated_col': 'R_1: \"Jenda: Your brother is so hot.\"', 'target_char_answer_col': 'R_0: \"Teenage Lisa: Stop telling me that.\"'}, {'premise_updated_col': 'R_3: \"Adult Bart: (HUGE LAUGH, THEN:) Sorry.\"; R_2: \"Adult Lisa: (SHRUG) \\'S okay. But you know who took her side? Marge (STRETCHING IT OUT) Boooouuuuvier Simpson!\"; R_1: \"Adult Bart: Wha\\'d-she-do?\"', 'target_char_answer_col': 'R_0: \"Adult Lisa: She told me to relax and bake cookies!\"'}]\n",
            "DEBUG:chat_util_module:find_similar_answers_cross_enc - сделано\n",
            "DEBUG:chat_util_module:Тело ответа top_cr: ['Postman: Your Cristmas Tree.', 'R_0: \"Adult Lisa: How do I get down?\"', 'Postman: From Santa, North Pole.', 'R_0: \"Adult Lisa: Butt out.\"']\n",
            "INFO:werkzeug:127.0.0.1 - - [25/Feb/2024 10:06:30] \"POST /top_cr HTTP/1.1\" 200 -\n"
          ]
        },
        {
          "output_type": "stream",
          "name": "stdout",
          "text": [
            "2 \"/top_cr\" запрос:\"{\"query\": \"From Santa, North Pole.\", \"user\": \"Postman\"}\" > состояние чата:\"{\n",
            "  \"response\": [\n",
            "    \"Postman: Your Cristmas Tree.\",\n",
            "    \"R_0: \\\"Adult Lisa: How do I get down?\\\"\",\n",
            "    \"Postman: From Santa, North Pole.\",\n",
            "    \"R_0: \\\"Adult Lisa: Butt out.\\\"\"\n",
            "  ]\n",
            "}\"\n"
          ]
        },
        {
          "output_type": "stream",
          "name": "stderr",
          "text": [
            "INFO:werkzeug:127.0.0.1 - - [25/Feb/2024 10:06:31] \"DELETE /clear HTTP/1.1\" 200 -\n"
          ]
        }
      ]
    }
  ],
  "metadata": {
    "kernelspec": {
      "display_name": "Python 3",
      "name": "python3"
    },
    "language_info": {
      "codemirror_mode": {
        "name": "ipython",
        "version": 3
      },
      "file_extension": ".py",
      "mimetype": "text/x-python",
      "name": "python",
      "nbconvert_exporter": "python",
      "pygments_lexer": "ipython3",
      "version": "3.10.12"
    },
    "colab": {
      "provenance": [],
      "machine_shape": "hm",
      "gpuType": "V100",
      "toc_visible": true
    },
    "accelerator": "GPU"
  },
  "nbformat": 4,
  "nbformat_minor": 5
}